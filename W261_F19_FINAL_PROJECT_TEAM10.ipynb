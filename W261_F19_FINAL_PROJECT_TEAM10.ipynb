{
 "cells": [
  {
   "cell_type": "markdown",
   "metadata": {
    "colab_type": "text",
    "id": "IRtuwS-M_JKE"
   },
   "source": [
    "# <b><center>W261 Final Project - Criteo Click Through Rate Prediction</center></b>\n",
    "\n",
    "<center><b>W261 Team 10</b></center>\n",
    "\n",
    "<center>Youzhi (Chloe) Wu, Chun-Jen (Curtis) Lin, Eddie Zhu, Kai Qi Lim</center>"
   ]
  },
  {
   "cell_type": "markdown",
   "metadata": {
    "colab_type": "text",
    "id": "zgvAlIKw4Szo"
   },
   "source": [
    "# **1. Question Formulation**\n",
    "\n",
    "Marketing campaigns cost money. It is of every company's business interest to launch a targeted and effective marketing campaign. An important metric to gauge the performance of each digital advertisement is click through rate (CTR), which is a ratio to show \"how often people who see your ad end up clicking it\" <sup>(1)</sup>. Therefore, the purpose of this project is to establish a model to accurately predict CTR, and more importantly, a model with scalability to be applied to large volume of data. It will help companies to improve the effectiveness of their digital marketing campaigns, and to maximize their ROI.\n",
    "\n",
    "\n",
    "Specifically, the question we want to answer is: **based on a set of features, would the advertisement be clicked?** Our dataset is obtained through Kaggle Display Advertising Challenge launched by CriteoLabs back in 2014. We downloaded `train.csv` (with a size of approximately 12 GB) from Criteo <sup>(2)</sup>. In this `csv` file, each row corresponds to a display ad served by Criteo, with \n",
    "- target variable as the first column:\n",
    "  - `1` for clicked, and \n",
    "  - `0` for non-clicked, and \n",
    "- the rest being feature variables:\n",
    "  - `I1` to `I13`: A total of 13 columns of integer features.\n",
    "  - `C1` to `C26`: A total of 26 columns of categorical features. The values of these features have been hashed onto 32 bits for anonymization purposes.\n",
    "\n",
    "\n",
    "In this report, \n",
    "* We first split full data in `train.csv` into our training (80%) and testing data (20%); within the training dataset, we randomly sample 1,000 records to be our toy dataset;\n",
    "* conduct EDA on our toy dataset; \n",
    "* select a model based off the takeaways from our EDA; \n",
    "* explain the mathematical theory behind Logistic Regression model; \n",
    "* to clearly articulate the mathematical mechanisms behind Logistic Regression model, we build a homegrown Logistic Regression model, create a mini toy dataset, and apply the homegrown model to our mini toy dataset;\n",
    "* apply multiple techniques of feature engineering on our toy dataset (1,000 records);  \n",
    "* establish a Spark ML Logistic Regression model and apply to the toy dataset and eventually the full dataset;\n",
    "* evaluate our model performance by calculating its accuracy and log loss;\n",
    "* conclude our report with discussions of our challenges, and application of course concepts. \n",
    "\n",
    "Certain limitations are noted: \n",
    "- Since the `train.csv` provided by Criteo only corresponds to its traffic over a period of 7 days, it is possible that the data may not be representative enough (i.e. holiday season click through activities could be different than non-holiday season). In such case, our model may not generalize well. \n",
    "- The semantic of feature variables are not made public by Criteo. Furthermore, the values of all categorical variables are encrypted. Feature engineering is conducted solely based upon mathematical characteristics of each variable, without any industry knowledge involved. If feature names as well as values were to be known, our feature engineering could have been done in a more effective and sensible manner. "
   ]
  },
  {
   "cell_type": "markdown",
   "metadata": {
    "colab_type": "text",
    "id": "m3w2WOiqhD7E"
   },
   "source": [
    "## **1.1 Setup**"
   ]
  },
  {
   "cell_type": "markdown",
   "metadata": {
    "colab_type": "text",
    "id": "Yyp-iU1RbGJ3"
   },
   "source": [
    "### (1) Install and import packages"
   ]
  },
  {
   "cell_type": "code",
   "execution_count": null,
   "metadata": {
    "colab": {
     "base_uri": "https://localhost:8080/",
     "height": 51
    },
    "colab_type": "code",
    "id": "mK1gzo9Bzetv",
    "outputId": "56917bdb-3b81-4312-c802-f6e152c7f7fc"
   },
   "outputs": [
    {
     "name": "stdout",
     "output_type": "stream",
     "text": [
      "Requirement already satisfied: pyspark in /usr/local/lib/python3.6/dist-packages (2.4.4)\n",
      "Requirement already satisfied: py4j==0.10.7 in /usr/local/lib/python3.6/dist-packages (from pyspark) (0.10.7)\n"
     ]
    }
   ],
   "source": [
    "!pip install pyspark"
   ]
  },
  {
   "cell_type": "code",
   "execution_count": null,
   "metadata": {
    "colab": {
     "base_uri": "https://localhost:8080/",
     "height": 241
    },
    "colab_type": "code",
    "id": "Wg9zVlafhDQQ",
    "outputId": "e76ac59e-9fbb-44bb-f626-f4facc4b312a"
   },
   "outputs": [
    {
     "name": "stdout",
     "output_type": "stream",
     "text": [
      "Requirement already satisfied: pyspark-dist-explore in /usr/local/lib/python3.6/dist-packages (0.1.8)\n",
      "Requirement already satisfied: numpy in /usr/local/lib/python3.6/dist-packages (from pyspark-dist-explore) (1.17.4)\n",
      "Requirement already satisfied: pandas in /usr/local/lib/python3.6/dist-packages (from pyspark-dist-explore) (0.25.3)\n",
      "Requirement already satisfied: matplotlib in /usr/local/lib/python3.6/dist-packages (from pyspark-dist-explore) (3.1.2)\n",
      "Requirement already satisfied: scipy in /usr/local/lib/python3.6/dist-packages (from pyspark-dist-explore) (1.3.3)\n",
      "Requirement already satisfied: pytz>=2017.2 in /usr/local/lib/python3.6/dist-packages (from pandas->pyspark-dist-explore) (2018.9)\n",
      "Requirement already satisfied: python-dateutil>=2.6.1 in /usr/local/lib/python3.6/dist-packages (from pandas->pyspark-dist-explore) (2.6.1)\n",
      "Requirement already satisfied: cycler>=0.10 in /usr/local/lib/python3.6/dist-packages (from matplotlib->pyspark-dist-explore) (0.10.0)\n",
      "Requirement already satisfied: pyparsing!=2.0.4,!=2.1.2,!=2.1.6,>=2.0.1 in /usr/local/lib/python3.6/dist-packages (from matplotlib->pyspark-dist-explore) (2.4.5)\n",
      "Requirement already satisfied: kiwisolver>=1.0.1 in /usr/local/lib/python3.6/dist-packages (from matplotlib->pyspark-dist-explore) (1.1.0)\n",
      "Requirement already satisfied: six>=1.5 in /usr/local/lib/python3.6/dist-packages (from python-dateutil>=2.6.1->pandas->pyspark-dist-explore) (1.12.0)\n",
      "Requirement already satisfied: setuptools in /usr/local/lib/python3.6/dist-packages (from kiwisolver>=1.0.1->matplotlib->pyspark-dist-explore) (42.0.2)\n"
     ]
    }
   ],
   "source": [
    "!apt-get install openjdk-8-jdk-headless -qq > /dev/null\n",
    "!wget -q http://www-eu.apache.org/dist/spark/spark-2.4.4/spark-2.4.4-bin-hadoop2.7.tgz\n",
    "!tar xf spark-2.4.4-bin-hadoop2.7.tgz\n",
    "!pip install -q findspark\n",
    "!pip install pyspark-dist-explore\n",
    "!pip install -U -q PyDrive"
   ]
  },
  {
   "cell_type": "code",
   "execution_count": null,
   "metadata": {
    "colab": {},
    "colab_type": "code",
    "id": "BtL09W-9IE3T"
   },
   "outputs": [],
   "source": [
    "import pandas as pd\n",
    "import numpy as np\n",
    "import matplotlib.pyplot as plt\n",
    "import math\n",
    "import seaborn as sns\n",
    "from random import sample\n",
    "from pydrive.auth import GoogleAuth\n",
    "from pydrive.drive import GoogleDrive\n",
    "from google.colab import auth\n",
    "from oauth2client.client import GoogleCredentials\n",
    "from pyspark_dist_explore import Histogram, hist, distplot, pandas_histogram\n",
    "from pyspark.mllib.stat import Statistics\n",
    "from pyspark.ml import Pipeline\n",
    "from pyspark.ml.stat import Correlation\n",
    "from pyspark.ml.feature import VectorAssembler\n",
    "from pyspark.ml.feature import Imputer\n",
    "from pyspark.ml.feature import Normalizer\n",
    "from pyspark.ml.feature import StandardScaler\n",
    "from pyspark.ml.feature import OneHotEncoderModel\n",
    "from pyspark.ml.feature import PCA, PCAModel\n",
    "from pyspark.ml.feature import StringIndexer, OneHotEncoderEstimator, VectorAssembler\n",
    "from pyspark.ml.classification import LogisticRegression\n",
    "from pyspark.ml.feature import Normalizer\n",
    "from pyspark.sql.functions import isnan, when, count, col\n",
    "from pyspark.sql.types import IntegerType\n",
    "from pyspark.sql.functions import log"
   ]
  },
  {
   "cell_type": "code",
   "execution_count": null,
   "metadata": {
    "colab": {},
    "colab_type": "code",
    "id": "CQI62YvKhQUI"
   },
   "outputs": [],
   "source": [
    "import os\n",
    "os.environ[\"JAVA_HOME\"] = \"/usr/lib/jvm/java-8-openjdk-amd64\"\n",
    "os.environ[\"SPARK_HOME\"] = \"/content/spark-2.4.4-bin-hadoop2.7\""
   ]
  },
  {
   "cell_type": "code",
   "execution_count": null,
   "metadata": {
    "colab": {},
    "colab_type": "code",
    "id": "VEDqF34EhXSs"
   },
   "outputs": [],
   "source": [
    "import findspark\n",
    "findspark.init(\"spark-2.4.4-bin-hadoop2.7\")# SPARK_HOME\n",
    "from pyspark.sql import SparkSession\n",
    "spark = SparkSession.builder.master(\"local[*]\").getOrCreate()"
   ]
  },
  {
   "cell_type": "code",
   "execution_count": null,
   "metadata": {
    "colab": {},
    "colab_type": "code",
    "id": "60Rhpt2WhZx-"
   },
   "outputs": [],
   "source": [
    "# start Spark Session\n",
    "from pyspark.sql import SparkSession\n",
    "app_name = \"finalproject_notebook\"\n",
    "master = \"local[*]\"\n",
    "spark = SparkSession\\\n",
    "        .builder\\\n",
    "        .appName(app_name)\\\n",
    "        .master(master)\\\n",
    "        .getOrCreate()\n",
    "sc = spark.sparkContext"
   ]
  },
  {
   "cell_type": "code",
   "execution_count": null,
   "metadata": {
    "colab": {
     "base_uri": "https://localhost:8080/",
     "height": 216
    },
    "colab_type": "code",
    "id": "gBVrkJ-ehhG5",
    "outputId": "b400169f-a842-444c-a84e-3677000ef54c"
   },
   "outputs": [
    {
     "data": {
      "text/html": [
       "\n",
       "            <div>\n",
       "                <p><b>SparkSession - in-memory</b></p>\n",
       "                \n",
       "        <div>\n",
       "            <p><b>SparkContext</b></p>\n",
       "\n",
       "            <p><a href=\"http://9e5b8edcafca:4040\">Spark UI</a></p>\n",
       "\n",
       "            <dl>\n",
       "              <dt>Version</dt>\n",
       "                <dd><code>v2.4.4</code></dd>\n",
       "              <dt>Master</dt>\n",
       "                <dd><code>local[*]</code></dd>\n",
       "              <dt>AppName</dt>\n",
       "                <dd><code>pyspark-shell</code></dd>\n",
       "            </dl>\n",
       "        </div>\n",
       "        \n",
       "            </div>\n",
       "        "
      ],
      "text/plain": [
       "<pyspark.sql.session.SparkSession at 0x7f734a1c0e48>"
      ]
     },
     "execution_count": 34,
     "metadata": {
      "tags": []
     },
     "output_type": "execute_result"
    }
   ],
   "source": [
    "spark"
   ]
  },
  {
   "cell_type": "code",
   "execution_count": null,
   "metadata": {
    "colab": {},
    "colab_type": "code",
    "id": "9UtQsbUDO8yU"
   },
   "outputs": [],
   "source": [
    "# package for loading file in Apache Parquet Format\n",
    "import pyspark\n",
    "import pyarrow.parquet as pq"
   ]
  },
  {
   "cell_type": "code",
   "execution_count": null,
   "metadata": {
    "colab": {},
    "colab_type": "code",
    "id": "DhOs4PLYhkC3"
   },
   "outputs": [],
   "source": [
    "# using SQLContext to read parquet file\n",
    "from pyspark.sql import SQLContext\n",
    "sc = spark.sparkContext\n",
    "sqlContext = SQLContext(sc)"
   ]
  },
  {
   "cell_type": "markdown",
   "metadata": {
    "colab_type": "text",
    "id": "xvxF54yR7OmJ"
   },
   "source": [
    "### (2) Map google drive for data import"
   ]
  },
  {
   "cell_type": "markdown",
   "metadata": {
    "colab_type": "text",
    "id": "deDhXhWIxlKq"
   },
   "source": [
    "Our notebook is created and coompleted using Google Colaboratory. `train.csv` is loaded in our shared Google Drive folder. Therefore, we need to set up Google Drive authentication to read in datasets. "
   ]
  },
  {
   "cell_type": "code",
   "execution_count": null,
   "metadata": {
    "colab": {},
    "colab_type": "code",
    "id": "fF9ojZEcOOiH"
   },
   "outputs": [],
   "source": [
    "# Authenticate and create the PyDrive client.\n",
    "auth.authenticate_user()\n",
    "gauth = GoogleAuth()\n",
    "gauth.credentials = GoogleCredentials.get_application_default()\n",
    "drive = GoogleDrive(gauth)"
   ]
  },
  {
   "cell_type": "markdown",
   "metadata": {
    "colab_type": "text",
    "id": "Jp1kQECFMkCK"
   },
   "source": [
    "### (3) Import and export data"
   ]
  },
  {
   "cell_type": "markdown",
   "metadata": {
    "colab_type": "text",
    "id": "Ojvw2lADyNaI"
   },
   "source": [
    "We converted `train.csv` to `train.txt`."
   ]
  },
  {
   "cell_type": "code",
   "execution_count": null,
   "metadata": {
    "colab": {
     "base_uri": "https://localhost:8080/",
     "height": 34
    },
    "colab_type": "code",
    "id": "yxJy8Os3IqqE",
    "outputId": "1bc06d86-4267-494f-bd2c-b7e69f7423cf"
   },
   "outputs": [
    {
     "name": "stdout",
     "output_type": "stream",
     "text": [
      "1YLDrDVHfi1fJMNJCbtyHHrayuHWVQ0A5\n"
     ]
    }
   ],
   "source": [
    "test_csv_link = 'https://drive.google.com/open?id=1U1kq5eK9talUX6hwg1XWm2JlIMiOhhg_'\n",
    "train_csv_link = 'https://drive.google.com/open?id=1YLDrDVHfi1fJMNJCbtyHHrayuHWVQ0A5'\n",
    "\n",
    "_, test_id = test_csv_link.split('=')\n",
    "_, train_id = train_csv_link.split('=')\n",
    "# print (test_id) # Verify that you have everything after '='\n",
    "print (train_id) # Verify that you have everything after '='\n",
    "\n",
    "downloaded_test = drive.CreateFile({'id':test_id})\n",
    "downloaded_train = drive.CreateFile({'id':train_id}) \n",
    "downloaded_test.GetContentFile('test.txt')\n",
    "downloaded_train.GetContentFile('train.txt')"
   ]
  },
  {
   "cell_type": "markdown",
   "metadata": {
    "colab_type": "text",
    "id": "Cq_cxMneD1Vu"
   },
   "source": [
    "### (4) Split full dataset (train.txt) to train and test (80% - 20%) \n"
   ]
  },
  {
   "cell_type": "markdown",
   "metadata": {
    "colab_type": "text",
    "id": "lY-xla132sWO"
   },
   "source": [
    "We splited full dataset (train.txt) to train and test (80% - 20%). Furthermore, we randomly sampled 1,000 records from training dataset, and created it as toy dataset. \n",
    "\n",
    "Notes: codes commented out to avoid accidental changes to these data imports"
   ]
  },
  {
   "cell_type": "code",
   "execution_count": null,
   "metadata": {
    "colab": {},
    "colab_type": "code",
    "id": "3q3al9FWBTIs"
   },
   "outputs": [],
   "source": [
    "## the train.txt is too big to read with pandas, there the 80%-20% split will carry out by Spark\n",
    "dataRDD = sc.textFile('train.txt')"
   ]
  },
  {
   "cell_type": "code",
   "execution_count": null,
   "metadata": {
    "colab": {
     "base_uri": "https://localhost:8080/",
     "height": 34
    },
    "colab_type": "code",
    "id": "7SEvZtXYEKgg",
    "outputId": "27ec7e31-5308-4125-ecd4-6c2e10abbbf2"
   },
   "outputs": [
    {
     "name": "stdout",
     "output_type": "stream",
     "text": [
      "Total line of full dataset: 45840617\n"
     ]
    }
   ],
   "source": [
    "## total count of train.txt dataset\n",
    "full_data_count = dataRDD.count()\n",
    "print('Total line of full dataset: %s' %full_data_count)"
   ]
  },
  {
   "cell_type": "code",
   "execution_count": null,
   "metadata": {
    "colab": {},
    "colab_type": "code",
    "id": "C_VlVWgGETvf"
   },
   "outputs": [],
   "source": [
    "## create trainRDD and devRDD (80%-20%)\n",
    "trainRDD, devRDD = dataRDD.randomSplit([0.8,0.2], seed = 5)\n",
    "\n",
    "# random sample about 1000 examples from trainRDD as toyRDD\n",
    "toyRDD = trainRDD.sample(False, 0.00003).cache()"
   ]
  },
  {
   "cell_type": "code",
   "execution_count": null,
   "metadata": {
    "colab": {},
    "colab_type": "code",
    "id": "vn0yz5OyEpVV"
   },
   "outputs": [],
   "source": [
    "## create a list of toy dataset\n",
    "def parse(line):\n",
    "  context = line.split('\\t')\n",
    "  yield(context)\n",
    "\n",
    "# run Spark job\n",
    "toy_data = toyRDD.flatMap(parse).collect()"
   ]
  },
  {
   "cell_type": "code",
   "execution_count": null,
   "metadata": {
    "colab": {},
    "colab_type": "code",
    "id": "xXC5gH6oFKRO"
   },
   "outputs": [],
   "source": [
    "## write toy dataset as toy.txt\n",
    "df = pd.DataFrame(toy_data)\n",
    "df.to_csv('/content/drive/My Drive/Colab Notebooks/dac/toy.txt', sep=',', index=False)"
   ]
  },
  {
   "cell_type": "markdown",
   "metadata": {
    "colab_type": "text",
    "id": "DxCpcG3gMOaA"
   },
   "source": [
    "### (5) Load toy samples from Google drive"
   ]
  },
  {
   "cell_type": "code",
   "execution_count": null,
   "metadata": {
    "colab": {},
    "colab_type": "code",
    "id": "vgS5jZURF9Xh"
   },
   "outputs": [],
   "source": [
    "## load toy dataset (1000 data points) from Google drive\n",
    "toy_csv_link = 'https://drive.google.com/open?id=1UiHJ4XDJK6QxkrfD_2azcjTiWtPx5je2'\n",
    "\n",
    "_, toy_id = toy_csv_link.split('=')\n",
    "\n",
    "downloaded_toy = drive.CreateFile({'id':toy_id})\n",
    "downloaded_toy.GetContentFile('toy.txt')"
   ]
  },
  {
   "cell_type": "markdown",
   "metadata": {
    "colab_type": "text",
    "id": "0d6o2qYJ6KiK"
   },
   "source": [
    "We further created 2 larger toy datasets (each with 10,000 records). These datasets are created for EDA pruposes, in order to verify whether certain trends are common in all random samples. These sample datasets also use for examine the regression model is the small sacle."
   ]
  },
  {
   "cell_type": "code",
   "execution_count": null,
   "metadata": {
    "colab": {},
    "colab_type": "code",
    "id": "X4DXrl23AKul"
   },
   "outputs": [],
   "source": [
    "## load 3 toy dataset (10000 data points) from Google drive\n",
    "toy_10000_1_link = 'https://drive.google.com/open?id=1tlO0J4Nmlmn34h0TcieddtYE6L1sVktX'\n",
    "toy_10000_2_link = 'https://drive.google.com/open?id=1sa-Lp7eOh3X3fhXKr4gX0wEUA0YZbhJZ'\n",
    "\n",
    "_, toy_id1 = toy_10000_1_link.split('=')\n",
    "_, toy_id2 = toy_10000_2_link.split('=')\n",
    "\n",
    "downloaded_toy1 = drive.CreateFile({'id':toy_id1})\n",
    "downloaded_toy1.GetContentFile('toy10000-1.txt')\n",
    "\n",
    "downloaded_toy2 = drive.CreateFile({'id':toy_id2})\n",
    "downloaded_toy2.GetContentFile('toy10000-2.txt')"
   ]
  },
  {
   "cell_type": "code",
   "execution_count": null,
   "metadata": {
    "colab": {},
    "colab_type": "code",
    "id": "XZPzUze8GhHv"
   },
   "outputs": [],
   "source": [
    "## read file into pandas dataframe\n",
    "with open('toy.txt') as toy:\n",
    "  toy = pd.read_csv(toy)"
   ]
  },
  {
   "cell_type": "markdown",
   "metadata": {
    "colab_type": "text",
    "id": "WV_fFhpt3iRJ"
   },
   "source": [
    "# **2. EDA & Discussion of Challenges​** \n"
   ]
  },
  {
   "cell_type": "markdown",
   "metadata": {
    "colab_type": "text",
    "id": "KIFA3nbPAc3B"
   },
   "source": [
    "## **2.1 First view of the raw dataset**"
   ]
  },
  {
   "cell_type": "markdown",
   "metadata": {
    "colab_type": "text",
    "id": "6GLrfCRRmp3_"
   },
   "source": [
    "* Column 0 represents the target variable which takes on the value of either 1 (clicked) or 0 (did not click). \n",
    "* Columns 1 to 13 are feature variables with numeric fields \n",
    "* Columns 14 to 39 are feature variables that are categorical in nature"
   ]
  },
  {
   "cell_type": "code",
   "execution_count": null,
   "metadata": {
    "colab": {
     "base_uri": "https://localhost:8080/",
     "height": 479
    },
    "colab_type": "code",
    "id": "v61AZTaRPWHC",
    "outputId": "52005a0a-6562-4a97-a4ea-d326abc1cefa"
   },
   "outputs": [
    {
     "name": "stdout",
     "output_type": "stream",
     "text": [
      "+---+----+---+----+----+-----+----+----+---+----+----+----+----+----+--------+--------+--------+--------+--------+--------+--------+--------+--------+--------+--------+--------+--------+--------+--------+--------+--------+--------+--------+--------+--------+--------+--------+--------+--------+--------+\n",
      "|  0|   1|  2|   3|   4|    5|   6|   7|  8|   9|  10|  11|  12|  13|      14|      15|      16|      17|      18|      19|      20|      21|      22|      23|      24|      25|      26|      27|      28|      29|      30|      31|      32|      33|      34|      35|      36|      37|      38|      39|\n",
      "+---+----+---+----+----+-----+----+----+---+----+----+----+----+----+--------+--------+--------+--------+--------+--------+--------+--------+--------+--------+--------+--------+--------+--------+--------+--------+--------+--------+--------+--------+--------+--------+--------+--------+--------+--------+\n",
      "|  0|   3|  5|   8|  32|  766|  93|  25| 47| 326|   1|   4|null|  44|05db9164|38a947a1|42a04a35|7031bb66|25c83c98|7e0ccccf|15f8eb35|f504a6f4|a73ee510|4ec65f86|f8bed1fb|7127a7d6|18a5133f|b28479f6|17194aa4|51a8930b|e5ba7672|1f8f8372|    null|    null|53cb3c2b|ad3062eb|423fab69|b258af68|    null|    null|\n",
      "|  0|   0|  0|null|null| 1571|   5|   7|  5|  13|   0|   3|null|null|05db9164|09e68b86|1b2c0594|d8d9a31d|25c83c98|7e0ccccf|9a4f2943|5b392875|a73ee510|86b46b2e|4a00b569|f7d40c2a|42ef23bb|1adce6ef|dbc5e126|9bc9e085|e5ba7672|5aed7436|04de9d96|5840adea|2076b084|ad3062eb|32c7478e|3900a598|e8b83407|396cda21|\n",
      "|  0|null| -1|null|null|18086|  86|   1|  1|  45|null|   1|null|null|8cf07265|3f0d3f28|d7ee147d|e4f81cba|384874ce|fe6b92e5|928efe34|5b392875|a73ee510|fa7d0797|4c074d2a|f52253c5|f948ca5d|32813e21|e8d4033b|f6d03ec3|e5ba7672|744ad4a0|    null|    null|2e4782f5|    null|3a171ecb|e5fca70a|    null|    null|\n",
      "|  0|  24|331|  32|  75|  560| 253| 177| 22|1965|   1|  22|   0| 207|f473b8dc|942f9a8d|435c3859|be42d44a|25c83c98|7e0ccccf|3f4ec687|0b153874|a73ee510|e113fc4b|c4adf918|e4c074db|85dbe138|1adce6ef|ae97ecc3|a029b14b|27c07bd6|1f868fdd|9653bb65|a458ea53|76ff3b70|    null|32c7478e|9fc6df89|9d93af03|91002aff|\n",
      "|  1|   1| 10|  47|  12|    2|   2|   1| 15|  60|   1|   1|null|   2|05db9164|38d50e09|15e1524a|f438658e|f281d2a7|fbad5c96|9963c37d|5b392875|a73ee510|d2f1c80c|9a024337|b94e4985|7a7b8db5|b28479f6|06373944|8fb26375|d4bb7bd8|fffe2a63|21ddcdc9|b1252a9d|c7cf9eeb|ad3062eb|32c7478e|df487a73|001f3601|c27f155b|\n",
      "|  0|   3| 10|   5|  12|  568|  15|   3| 11|  12|   1|   1|   0|  12|05db9164|90081f33|f30661f3|d285863e|384874ce|fe6b92e5|e0218d0b|0b153874|a73ee510|aedbd1e7|41475a84|a76aa4c6|4e997c84|b28479f6|1c51f095|ad6bcaa7|07c540c4|1b884e69|    null|    null|e7d9805f|    null|32c7478e|d5c410bd|    null|    null|\n",
      "|  0|   0|  1|null|null|16428|null|null|  5|null|   0|null|null|null|05db9164|dc1def19|5d1ca1e5|196060ff|4cf72387|fe6b92e5|c0251c88|0b153874|a73ee510|70d3f60a|ada36e89|71c32035|c63ea0b4|ad1cc976|71d7ea29|cf393f9f|e5ba7672|5681c2c1|    null|    null|06c4ef72|    null|c3dc6cef|6bc2bf95|    null|    null|\n",
      "|  0|   0|  3|  11|   2| 2059|  63|   7| 39|  63|   0|   1|null|   2|5a9ed9b0|78ccd99e|4d485115|dd51f47e|384874ce|3bf701e7|6990f900|37e4aa92|a73ee510|4f63bf1e|75ebee06|52183311|0c7dd611|f862f261|ada14dd8|9329f3a2|e5ba7672|e7e991cb|fc134659|a458ea53|d018eac4|    null|3a171ecb|bb90fac0|c243e98b|c12a6ac4|\n",
      "|  0|null| 25|   3|   7|15719|  44|  25|  7|  42|null|   1|   0|   7|05db9164|09e68b86|2794b521|d62b7a28|25c83c98|7e0ccccf|24c48926|5b392875|a73ee510|afa26c81|9f0003f4|2e238e8c|5afd9e51|b28479f6|52baadf5|68b46bec|e5ba7672|5aed7436|a34d2cf6|b1252a9d|cc1531a9|    null|32c7478e|df707311|e8b83407|006de9be|\n",
      "|  0|null|  1|   3|   9| 2727|  13|  19| 11|  67|null|   2|   1|   9|68fd1e64|207b2d81|d73903c4|77a972c7|25c83c98|    null|d2dbdfe6|37e4aa92|a73ee510|efea433b|7e40f08a|70a58a12|1aa94af3|07d13a8f|0c67c4ca|807b85d5|3486227d|395856b0|21ddcdc9|a458ea53|98f5f4f7|    null|32c7478e|cc92fe5a|001f3601|bc84f389|\n",
      "|  0|null|  4|  16|   6|10075|null|   0|  6|  16|null|   0|null|   6|05db9164|a0e12995|b3d2f3df|811a5b41|25c83c98|fe6b92e5|ed70802a|5b392875|a73ee510|3b08e48b|afb21dbe|f4d79ee3|b59b744b|b28479f6|83763c20|9aa23130|776ce399|1616f155|21ddcdc9|5840adea|a2ab0cc8|ad3062eb|3a171ecb|8548f4a1|9b3e8820|e75c9ae9|\n",
      "|  0|  13|  0|   6|   9|    0|   1| 197| 18| 191|   1|  12|   0|   1|05db9164|95e2d337|20e4194f|c5455c5f|25c83c98|7e0ccccf|ac2d4799|56563555|a73ee510|2c882805|434d6c13|182bb2f9|7301027a|07d13a8f|4e505ea3|2cde4ca7|8efede7f|7b06fafe|a01a206d|a458ea53|e7c19539|    null|423fab69|16bb3de8|2bf691b1|d3b2f8c3|\n",
      "|  0|   0| 19|  19|   4| 1496|  31|   1| 18|  18|   0|   1|   0|   4|68fd1e64|3ab4d7f5|a4b38ecc|27d8fdb5|25c83c98|    null|87e1825e|0b153874|a73ee510|17a0cc50|9fd640ca|47d2b89c|56b1ebb5|dcd762ee|9b8c4db5|77ecf4f4|d4bb7bd8|b76fb0de|21ddcdc9|b1252a9d|33e00b0e|    null|3a171ecb|65e74c52|c9f3bea7|f3ea27fd|\n",
      "|  0|null| -1|null|null|13865| 133|   5| 11| 100|null|   2|   0|null|05db9164|a796837e|5c05f1ab|97ce69e9|25c83c98|7e0ccccf|c9255aae|0b153874|a73ee510|3bc8bb1a|ff48b5b4|50ec33a6|19fe98bf|07d13a8f|23a9a76d|5a9431f3|e5ba7672|c4ba79ab|    null|    null|e9672021|    null|32c7478e|8fc66e78|    null|    null|\n",
      "|  0|null| 28|  12|  17| 2836| 279|   3| 15| 249|null|   2|   0|  38|5a9ed9b0|08d6d899|9143c832|f56b7dd5|25c83c98|fe6b92e5|410f6b58|0b153874|a73ee510|4ce8f99f|7f8ffe57|ae1bb660|46f42a63|b28479f6|bfef54b3|bad5ee18|3486227d|87c6f83c|    null|    null|0429f84b|    null|32c7478e|c0d61a5c|    null|    null|\n",
      "|  0|   5|  0|   1|   3|    4|   1|   5| 25|  65|   2|   2|null|   0|be589b51|207b2d81|8f113de9|f6dcfdcf|4cf72387|    null|d2dbdfe6|f504a6f4|a73ee510|9598fde8|7e40f08a|78d9706e|1aa94af3|64c94865|11b2ae92|8e6c8cf8|3486227d|395856b0|21ddcdc9|b1252a9d|6ee9862d|    null|32c7478e|e4cf11c4|001f3601|032198c9|\n",
      "|  0|null|  3|null|null|35526|null|   0|  4|   2|null|   0|null|null|8cf07265|38a947a1|4470baf4|8c8a4c47|25c83c98|3bf701e7|ce4f7f55|0b153874|a73ee510|d7026747|38f692a7|bb669e25|6e5da64f|b28479f6|a3443e75|2b2ce127|1e88c74f|ade68c22|    null|    null|2b796e4a|    null|32c7478e|8d365d3b|    null|    null|\n",
      "|  0|null|307|   1|   1| null|null|   0|  1|   4|null|   0|null|   1|05db9164|8db5bc37|4e1476b1|2c20fcf8|4cf72387|fe6b92e5|d356c7e6|f504a6f4|7cc72ec2|3b08e48b|727af3e2|da7b77d1|49fe3d4e|64c94865|a299ce75|65ac3c6a|2005abd1|e7c97dee|    null|    null|33f24a65|    null|be7c41b4|1aa84899|    null|    null|\n",
      "|  0|null|485|  65|   7|   80| 140|   4|  7| 128|null|   1|null|   7|05db9164|1cfdf714|ea96c30a|a7678b46|384874ce|fbad5c96|90a2c015|0b153874|a73ee510|9ce4c96c|0f736a0c|08c4db93|3af886ff|1adce6ef|24a39c8a|cacb59d6|e5ba7672|6a74e011|04de9d96|a458ea53|271844e4|ad3062eb|423fab69|7939255b|cb079c2d|bc33111f|\n",
      "|  0|null| -1|null|null|25489|null|null|  8|null|null|null|null|null|05db9164|b961056b|86ed5799|e1281c2c|4cf72387|3bf701e7|ce4f7f55|0b153874|a73ee510|3b08e48b|38f692a7|1d3086a0|6e5da64f|b28479f6|d2160250|b2a85d25|07c540c4|0d6480a8|    null|    null|a7c59acc|    null|32c7478e|b0835adb|    null|    null|\n",
      "+---+----+---+----+----+-----+----+----+---+----+----+----+----+----+--------+--------+--------+--------+--------+--------+--------+--------+--------+--------+--------+--------+--------+--------+--------+--------+--------+--------+--------+--------+--------+--------+--------+--------+--------+--------+\n",
      "only showing top 20 rows\n",
      "\n"
     ]
    }
   ],
   "source": [
    "# This is to read the text file into spark \n",
    "# so that we can tranform it into parquet file for more efficient processing\n",
    "toyDataFrame = spark.read.format(\"csv\").option(\"header\", True).load('toy.txt')\n",
    "\n",
    "toyDataFrame.show()"
   ]
  },
  {
   "cell_type": "markdown",
   "metadata": {
    "colab_type": "text",
    "id": "vcX9Uhmu-Ar3"
   },
   "source": [
    "The datatype of each column is `string`. We would need to do data type conversion before featuring engineering and modeling. "
   ]
  },
  {
   "cell_type": "code",
   "execution_count": null,
   "metadata": {
    "colab": {
     "base_uri": "https://localhost:8080/",
     "height": 731
    },
    "colab_type": "code",
    "id": "5vm1u704PbCx",
    "outputId": "513c58c5-4b3e-4534-9ad0-34211dd6a4ce"
   },
   "outputs": [
    {
     "name": "stdout",
     "output_type": "stream",
     "text": [
      "root\n",
      " |-- 0: string (nullable = true)\n",
      " |-- 1: string (nullable = true)\n",
      " |-- 2: string (nullable = true)\n",
      " |-- 3: string (nullable = true)\n",
      " |-- 4: string (nullable = true)\n",
      " |-- 5: string (nullable = true)\n",
      " |-- 6: string (nullable = true)\n",
      " |-- 7: string (nullable = true)\n",
      " |-- 8: string (nullable = true)\n",
      " |-- 9: string (nullable = true)\n",
      " |-- 10: string (nullable = true)\n",
      " |-- 11: string (nullable = true)\n",
      " |-- 12: string (nullable = true)\n",
      " |-- 13: string (nullable = true)\n",
      " |-- 14: string (nullable = true)\n",
      " |-- 15: string (nullable = true)\n",
      " |-- 16: string (nullable = true)\n",
      " |-- 17: string (nullable = true)\n",
      " |-- 18: string (nullable = true)\n",
      " |-- 19: string (nullable = true)\n",
      " |-- 20: string (nullable = true)\n",
      " |-- 21: string (nullable = true)\n",
      " |-- 22: string (nullable = true)\n",
      " |-- 23: string (nullable = true)\n",
      " |-- 24: string (nullable = true)\n",
      " |-- 25: string (nullable = true)\n",
      " |-- 26: string (nullable = true)\n",
      " |-- 27: string (nullable = true)\n",
      " |-- 28: string (nullable = true)\n",
      " |-- 29: string (nullable = true)\n",
      " |-- 30: string (nullable = true)\n",
      " |-- 31: string (nullable = true)\n",
      " |-- 32: string (nullable = true)\n",
      " |-- 33: string (nullable = true)\n",
      " |-- 34: string (nullable = true)\n",
      " |-- 35: string (nullable = true)\n",
      " |-- 36: string (nullable = true)\n",
      " |-- 37: string (nullable = true)\n",
      " |-- 38: string (nullable = true)\n",
      " |-- 39: string (nullable = true)\n",
      "\n"
     ]
    }
   ],
   "source": [
    "toyDataFrame.printSchema()"
   ]
  },
  {
   "cell_type": "markdown",
   "metadata": {
    "colab_type": "text",
    "id": "gvGUV3SW_Gau"
   },
   "source": [
    "## **2.2 Histogram of numeric variables**"
   ]
  },
  {
   "cell_type": "markdown",
   "metadata": {
    "colab_type": "text",
    "id": "3JNP1pgu-cpJ"
   },
   "source": [
    "From the histograms of all numeric variables (1 to 13), we can see that \n",
    "- nearly all variables present high degree of skewness, with very high counts at the low values and low counts at high values. As a result, we need to run log transformation to reduce the skewness. \n",
    "- column 10 is a categorical variable rather than numeric. In feature engineering steps, we will treat it as categorical variable. \n",
    "- the scale of these columns are at different magnitude, with certain columns under 5 or 50, and certain columns in the range of hundreds, thousands, and even 1,000,000. As such, we also need to apply normalization/standardization. "
   ]
  },
  {
   "cell_type": "code",
   "execution_count": null,
   "metadata": {
    "colab": {
     "base_uri": "https://localhost:8080/",
     "height": 607
    },
    "colab_type": "code",
    "id": "JjN_165qcGVJ",
    "outputId": "3786c9fd-3b94-487b-98f5-8e48c60ae834"
   },
   "outputs": [
    {
     "data": {
      "image/png": "[encoded data removed]",
      "text/plain": [
       "<Figure size 936x720 with 16 Axes>"
      ]
     },
     "metadata": {
      "tags": []
     },
     "output_type": "display_data"
    }
   ],
   "source": [
    "# show histogram of all numerical features. \n",
    "# Some are actually cateogrical and need to be converted. \n",
    "# Some are skewed and need to be normalized\n",
    "toy.hist(figsize=(13,10),bins=50)\n",
    "plt.show()"
   ]
  },
  {
   "cell_type": "markdown",
   "metadata": {
    "colab_type": "text",
    "id": "fjI3gV9Bb-zZ"
   },
   "source": [
    "## **2.3 Scatterplot to see outliers**"
   ]
  },
  {
   "cell_type": "markdown",
   "metadata": {
    "colab_type": "text",
    "id": "JStzSqtRFgfS"
   },
   "source": [
    "From the scatterplots of all numeric variables (1 to 13), we can see that \n",
    "- The values of Column 8 is evidently spread out. \n",
    "- On the contrary, Column 12 and 13 have a higher degree of concentration.\n",
    "- Column 1 to 7, 9 and 11 are in the middle ground.   \n",
    "- For Column 10, most data points have value of 0, 1 and 2. A few data points have value of 3. An extreme outlier has a value of 5.  "
   ]
  },
  {
   "cell_type": "code",
   "execution_count": null,
   "metadata": {
    "colab": {
     "base_uri": "https://localhost:8080/",
     "height": 716
    },
    "colab_type": "code",
    "id": "5KEcN5vTKddN",
    "outputId": "570a863d-8546-401b-890e-6001ea06eb2d"
   },
   "outputs": [
    {
     "data": {
      "image/png": "[encoded data removed]",
      "text/plain": [
       "<Figure size 936x864 with 14 Axes>"
      ]
     },
     "metadata": {
      "tags": []
     },
     "output_type": "display_data"
    }
   ],
   "source": [
    "# Scatterplot to see outliers\n",
    "x = range(len(toy))\n",
    "\n",
    "fig = plt.figure(figsize=(13, 12))\n",
    "plt.subplots_adjust(hspace=0.5)\n",
    "\n",
    "for i in range(14):\n",
    "  y = toy.iloc[:,i]\n",
    "  ax = plt.subplot(4,4,i+1)\n",
    "  ax.scatter(x,y, s=10)\n",
    "  ax.set_title(\"col={}\".format(i))"
   ]
  },
  {
   "cell_type": "markdown",
   "metadata": {
    "colab_type": "text",
    "id": "txPgEkamQaPz"
   },
   "source": [
    "## **2.4 Read toy data into parquet format for additional EDAs**"
   ]
  },
  {
   "cell_type": "markdown",
   "metadata": {
    "colab_type": "text",
    "id": "PC8iBUvIHxU7"
   },
   "source": [
    "Parquet is a serverless file format which is highly optimized. For larger dataset, we should consider using this file format for scalability. After saving our dataset into parquet file, we read in the data from parquet file. In addition, we conducted further EDA on three larger toy sets (each with 10,000 records) to verify whether:\n",
    "- skewness are common to all toy datasets;\n",
    "- large scale of value difference in numeric fields are present in all toy datasets;\n",
    "- the counts of records with null value in each column for all toy datasets. We can see that for certain columns, majority of records are null. In this case, we should consider remove these columns from our modeling. "
   ]
  },
  {
   "cell_type": "code",
   "execution_count": null,
   "metadata": {
    "colab": {},
    "colab_type": "code",
    "id": "p8a7F38KhaMh"
   },
   "outputs": [],
   "source": [
    "# write parquet file from the dataframe \n",
    "toyDataFrame.write.parquet('toy_df.parquet')"
   ]
  },
  {
   "cell_type": "code",
   "execution_count": null,
   "metadata": {
    "colab": {
     "base_uri": "https://localhost:8080/",
     "height": 479
    },
    "colab_type": "code",
    "id": "n8bRPTLOh4hz",
    "outputId": "c4a8bddc-692d-4114-d026-737930755e01"
   },
   "outputs": [
    {
     "name": "stdout",
     "output_type": "stream",
     "text": [
      "+---+----+---+----+----+-----+----+----+---+----+----+----+----+----+--------+--------+--------+--------+--------+--------+--------+--------+--------+--------+--------+--------+--------+--------+--------+--------+--------+--------+--------+--------+--------+--------+--------+--------+--------+--------+\n",
      "|  0|   1|  2|   3|   4|    5|   6|   7|  8|   9|  10|  11|  12|  13|      14|      15|      16|      17|      18|      19|      20|      21|      22|      23|      24|      25|      26|      27|      28|      29|      30|      31|      32|      33|      34|      35|      36|      37|      38|      39|\n",
      "+---+----+---+----+----+-----+----+----+---+----+----+----+----+----+--------+--------+--------+--------+--------+--------+--------+--------+--------+--------+--------+--------+--------+--------+--------+--------+--------+--------+--------+--------+--------+--------+--------+--------+--------+--------+\n",
      "|  0|   3|  5|   8|  32|  766|  93|  25| 47| 326|   1|   4|null|  44|05db9164|38a947a1|42a04a35|7031bb66|25c83c98|7e0ccccf|15f8eb35|f504a6f4|a73ee510|4ec65f86|f8bed1fb|7127a7d6|18a5133f|b28479f6|17194aa4|51a8930b|e5ba7672|1f8f8372|    null|    null|53cb3c2b|ad3062eb|423fab69|b258af68|    null|    null|\n",
      "|  0|   0|  0|null|null| 1571|   5|   7|  5|  13|   0|   3|null|null|05db9164|09e68b86|1b2c0594|d8d9a31d|25c83c98|7e0ccccf|9a4f2943|5b392875|a73ee510|86b46b2e|4a00b569|f7d40c2a|42ef23bb|1adce6ef|dbc5e126|9bc9e085|e5ba7672|5aed7436|04de9d96|5840adea|2076b084|ad3062eb|32c7478e|3900a598|e8b83407|396cda21|\n",
      "|  0|null| -1|null|null|18086|  86|   1|  1|  45|null|   1|null|null|8cf07265|3f0d3f28|d7ee147d|e4f81cba|384874ce|fe6b92e5|928efe34|5b392875|a73ee510|fa7d0797|4c074d2a|f52253c5|f948ca5d|32813e21|e8d4033b|f6d03ec3|e5ba7672|744ad4a0|    null|    null|2e4782f5|    null|3a171ecb|e5fca70a|    null|    null|\n",
      "|  0|  24|331|  32|  75|  560| 253| 177| 22|1965|   1|  22|   0| 207|f473b8dc|942f9a8d|435c3859|be42d44a|25c83c98|7e0ccccf|3f4ec687|0b153874|a73ee510|e113fc4b|c4adf918|e4c074db|85dbe138|1adce6ef|ae97ecc3|a029b14b|27c07bd6|1f868fdd|9653bb65|a458ea53|76ff3b70|    null|32c7478e|9fc6df89|9d93af03|91002aff|\n",
      "|  1|   1| 10|  47|  12|    2|   2|   1| 15|  60|   1|   1|null|   2|05db9164|38d50e09|15e1524a|f438658e|f281d2a7|fbad5c96|9963c37d|5b392875|a73ee510|d2f1c80c|9a024337|b94e4985|7a7b8db5|b28479f6|06373944|8fb26375|d4bb7bd8|fffe2a63|21ddcdc9|b1252a9d|c7cf9eeb|ad3062eb|32c7478e|df487a73|001f3601|c27f155b|\n",
      "|  0|   3| 10|   5|  12|  568|  15|   3| 11|  12|   1|   1|   0|  12|05db9164|90081f33|f30661f3|d285863e|384874ce|fe6b92e5|e0218d0b|0b153874|a73ee510|aedbd1e7|41475a84|a76aa4c6|4e997c84|b28479f6|1c51f095|ad6bcaa7|07c540c4|1b884e69|    null|    null|e7d9805f|    null|32c7478e|d5c410bd|    null|    null|\n",
      "|  0|   0|  1|null|null|16428|null|null|  5|null|   0|null|null|null|05db9164|dc1def19|5d1ca1e5|196060ff|4cf72387|fe6b92e5|c0251c88|0b153874|a73ee510|70d3f60a|ada36e89|71c32035|c63ea0b4|ad1cc976|71d7ea29|cf393f9f|e5ba7672|5681c2c1|    null|    null|06c4ef72|    null|c3dc6cef|6bc2bf95|    null|    null|\n",
      "|  0|   0|  3|  11|   2| 2059|  63|   7| 39|  63|   0|   1|null|   2|5a9ed9b0|78ccd99e|4d485115|dd51f47e|384874ce|3bf701e7|6990f900|37e4aa92|a73ee510|4f63bf1e|75ebee06|52183311|0c7dd611|f862f261|ada14dd8|9329f3a2|e5ba7672|e7e991cb|fc134659|a458ea53|d018eac4|    null|3a171ecb|bb90fac0|c243e98b|c12a6ac4|\n",
      "|  0|null| 25|   3|   7|15719|  44|  25|  7|  42|null|   1|   0|   7|05db9164|09e68b86|2794b521|d62b7a28|25c83c98|7e0ccccf|24c48926|5b392875|a73ee510|afa26c81|9f0003f4|2e238e8c|5afd9e51|b28479f6|52baadf5|68b46bec|e5ba7672|5aed7436|a34d2cf6|b1252a9d|cc1531a9|    null|32c7478e|df707311|e8b83407|006de9be|\n",
      "|  0|null|  1|   3|   9| 2727|  13|  19| 11|  67|null|   2|   1|   9|68fd1e64|207b2d81|d73903c4|77a972c7|25c83c98|    null|d2dbdfe6|37e4aa92|a73ee510|efea433b|7e40f08a|70a58a12|1aa94af3|07d13a8f|0c67c4ca|807b85d5|3486227d|395856b0|21ddcdc9|a458ea53|98f5f4f7|    null|32c7478e|cc92fe5a|001f3601|bc84f389|\n",
      "|  0|null|  4|  16|   6|10075|null|   0|  6|  16|null|   0|null|   6|05db9164|a0e12995|b3d2f3df|811a5b41|25c83c98|fe6b92e5|ed70802a|5b392875|a73ee510|3b08e48b|afb21dbe|f4d79ee3|b59b744b|b28479f6|83763c20|9aa23130|776ce399|1616f155|21ddcdc9|5840adea|a2ab0cc8|ad3062eb|3a171ecb|8548f4a1|9b3e8820|e75c9ae9|\n",
      "|  0|  13|  0|   6|   9|    0|   1| 197| 18| 191|   1|  12|   0|   1|05db9164|95e2d337|20e4194f|c5455c5f|25c83c98|7e0ccccf|ac2d4799|56563555|a73ee510|2c882805|434d6c13|182bb2f9|7301027a|07d13a8f|4e505ea3|2cde4ca7|8efede7f|7b06fafe|a01a206d|a458ea53|e7c19539|    null|423fab69|16bb3de8|2bf691b1|d3b2f8c3|\n",
      "|  0|   0| 19|  19|   4| 1496|  31|   1| 18|  18|   0|   1|   0|   4|68fd1e64|3ab4d7f5|a4b38ecc|27d8fdb5|25c83c98|    null|87e1825e|0b153874|a73ee510|17a0cc50|9fd640ca|47d2b89c|56b1ebb5|dcd762ee|9b8c4db5|77ecf4f4|d4bb7bd8|b76fb0de|21ddcdc9|b1252a9d|33e00b0e|    null|3a171ecb|65e74c52|c9f3bea7|f3ea27fd|\n",
      "|  0|null| -1|null|null|13865| 133|   5| 11| 100|null|   2|   0|null|05db9164|a796837e|5c05f1ab|97ce69e9|25c83c98|7e0ccccf|c9255aae|0b153874|a73ee510|3bc8bb1a|ff48b5b4|50ec33a6|19fe98bf|07d13a8f|23a9a76d|5a9431f3|e5ba7672|c4ba79ab|    null|    null|e9672021|    null|32c7478e|8fc66e78|    null|    null|\n",
      "|  0|null| 28|  12|  17| 2836| 279|   3| 15| 249|null|   2|   0|  38|5a9ed9b0|08d6d899|9143c832|f56b7dd5|25c83c98|fe6b92e5|410f6b58|0b153874|a73ee510|4ce8f99f|7f8ffe57|ae1bb660|46f42a63|b28479f6|bfef54b3|bad5ee18|3486227d|87c6f83c|    null|    null|0429f84b|    null|32c7478e|c0d61a5c|    null|    null|\n",
      "|  0|   5|  0|   1|   3|    4|   1|   5| 25|  65|   2|   2|null|   0|be589b51|207b2d81|8f113de9|f6dcfdcf|4cf72387|    null|d2dbdfe6|f504a6f4|a73ee510|9598fde8|7e40f08a|78d9706e|1aa94af3|64c94865|11b2ae92|8e6c8cf8|3486227d|395856b0|21ddcdc9|b1252a9d|6ee9862d|    null|32c7478e|e4cf11c4|001f3601|032198c9|\n",
      "|  0|null|  3|null|null|35526|null|   0|  4|   2|null|   0|null|null|8cf07265|38a947a1|4470baf4|8c8a4c47|25c83c98|3bf701e7|ce4f7f55|0b153874|a73ee510|d7026747|38f692a7|bb669e25|6e5da64f|b28479f6|a3443e75|2b2ce127|1e88c74f|ade68c22|    null|    null|2b796e4a|    null|32c7478e|8d365d3b|    null|    null|\n",
      "|  0|null|307|   1|   1| null|null|   0|  1|   4|null|   0|null|   1|05db9164|8db5bc37|4e1476b1|2c20fcf8|4cf72387|fe6b92e5|d356c7e6|f504a6f4|7cc72ec2|3b08e48b|727af3e2|da7b77d1|49fe3d4e|64c94865|a299ce75|65ac3c6a|2005abd1|e7c97dee|    null|    null|33f24a65|    null|be7c41b4|1aa84899|    null|    null|\n",
      "|  0|null|485|  65|   7|   80| 140|   4|  7| 128|null|   1|null|   7|05db9164|1cfdf714|ea96c30a|a7678b46|384874ce|fbad5c96|90a2c015|0b153874|a73ee510|9ce4c96c|0f736a0c|08c4db93|3af886ff|1adce6ef|24a39c8a|cacb59d6|e5ba7672|6a74e011|04de9d96|a458ea53|271844e4|ad3062eb|423fab69|7939255b|cb079c2d|bc33111f|\n",
      "|  0|null| -1|null|null|25489|null|null|  8|null|null|null|null|null|05db9164|b961056b|86ed5799|e1281c2c|4cf72387|3bf701e7|ce4f7f55|0b153874|a73ee510|3b08e48b|38f692a7|1d3086a0|6e5da64f|b28479f6|d2160250|b2a85d25|07c540c4|0d6480a8|    null|    null|a7c59acc|    null|32c7478e|b0835adb|    null|    null|\n",
      "+---+----+---+----+----+-----+----+----+---+----+----+----+----+----+--------+--------+--------+--------+--------+--------+--------+--------+--------+--------+--------+--------+--------+--------+--------+--------+--------+--------+--------+--------+--------+--------+--------+--------+--------+--------+\n",
      "only showing top 20 rows\n",
      "\n"
     ]
    }
   ],
   "source": [
    "# read parquet file. \n",
    "# Parquet file is a serverless data format that is highly optimized. \n",
    "# We can use spark sql or dataframe to read and analyze the parquet file. \n",
    "toy_df = sqlContext.read.parquet('toy_df.parquet')\n",
    "toy_df.show()"
   ]
  },
  {
   "cell_type": "code",
   "execution_count": null,
   "metadata": {
    "colab": {
     "base_uri": "https://localhost:8080/",
     "height": 34
    },
    "colab_type": "code",
    "id": "Lm2symvtFUlR",
    "outputId": "bc3aa257-4cc4-44e5-aa7f-7f44195e8fb7"
   },
   "outputs": [
    {
     "name": "stdout",
     "output_type": "stream",
     "text": [
      "Number of lines in toy data: 1136\n"
     ]
    }
   ],
   "source": [
    "print(\"Number of lines in toy data: %s\" %toy_df.count())"
   ]
  },
  {
   "cell_type": "code",
   "execution_count": null,
   "metadata": {
    "colab": {
     "base_uri": "https://localhost:8080/",
     "height": 258
    },
    "colab_type": "code",
    "id": "CD1SalBNo9zN",
    "outputId": "92c624ac-0a24-4064-9e44-90719294eb7d"
   },
   "outputs": [
    {
     "name": "stdout",
     "output_type": "stream",
     "text": [
      "+-------+------------------+-----------------+-----------------+------------------+------------------+------------------+------------------+-----------------+------------------+------------------+------------------+-----------------+------------------+------------------+\n",
      "|summary|                 0|                1|                2|                 3|                 4|                 5|                 6|                7|                 8|                 9|                10|               11|                12|                13|\n",
      "+-------+------------------+-----------------+-----------------+------------------+------------------+------------------+------------------+-----------------+------------------+------------------+------------------+-----------------+------------------+------------------+\n",
      "|  count|              1136|              614|             1136|               882|               887|              1107|               885|             1076|              1136|              1076|               614|             1076|               287|               887|\n",
      "|   mean|0.2623239436619718|4.037459283387622|118.1355633802817|18.243764172335602|7.4464487034949265|18607.394760614272|118.54237288135593|19.95353159851301|12.216549295774648|104.31319702602231|0.6270358306188925| 3.08271375464684|1.1498257839721255| 8.010146561443067|\n",
      "| stddev|0.4400915651508726|8.290813174458327|457.6906339528268|36.859499330874755| 9.369105750600346| 65918.14015368244|345.32683328765603|61.04677334923951|13.280661601574721|214.52814517491203|0.7083643881374064|6.188634629881896| 5.031563830950303|12.026818634079863|\n",
      "|    min|                 0|                0|               -1|                 1|                 0|                 0|                 0|                0|                 0|                 0|                 0|                0|                 0|                 0|\n",
      "|    25%|               0.0|              0.0|              0.0|               2.0|               2.0|             230.0|               8.0|              1.0|               2.0|              11.0|               0.0|              1.0|               0.0|               2.0|\n",
      "|    50%|               0.0|              1.0|              3.0|               6.0|               4.0|            2818.0|              31.0|              4.0|               7.0|              40.0|               1.0|              1.0|               0.0|               4.0|\n",
      "|    75%|               1.0|              4.0|             39.0|              18.0|               9.0|           11072.0|              93.0|             14.0|              18.0|             109.0|               1.0|              3.0|               1.0|              10.0|\n",
      "|    max|                 1|                9|              997|                99|                 9|              9990|                99|               97|                 9|               991|                 5|               95|                 7|                 9|\n",
      "+-------+------------------+-----------------+-----------------+------------------+------------------+------------------+------------------+-----------------+------------------+------------------+------------------+-----------------+------------------+------------------+\n",
      "\n"
     ]
    }
   ],
   "source": [
    "# check the summary statistics of numeric columns. \n",
    "# Some of the columns are in much large scales than other ones. \n",
    "# Potentially need log transformation\n",
    "toy_df.select(['0','1','2','3','4','5','6','7','8','9','10','11','12','13']).summary().show()"
   ]
  },
  {
   "cell_type": "code",
   "execution_count": null,
   "metadata": {
    "colab": {
     "base_uri": "https://localhost:8080/",
     "height": 119
    },
    "colab_type": "code",
    "id": "KrHlkcO4ppPI",
    "outputId": "5e1ce3a4-b867-4e81-edf7-4969917de605"
   },
   "outputs": [
    {
     "name": "stdout",
     "output_type": "stream",
     "text": [
      "+---+---+---+---+---+---+---+---+---+---+---+---+---+---+---+---+---+---+---+---+---+---+---+---+---+---+---+---+---+---+---+---+---+---+---+---+---+---+---+---+\n",
      "|  0|  1|  2|  3|  4|  5|  6|  7|  8|  9| 10| 11| 12| 13| 14| 15| 16| 17| 18| 19| 20| 21| 22| 23| 24| 25| 26| 27| 28| 29| 30| 31| 32| 33| 34| 35| 36| 37| 38| 39|\n",
      "+---+---+---+---+---+---+---+---+---+---+---+---+---+---+---+---+---+---+---+---+---+---+---+---+---+---+---+---+---+---+---+---+---+---+---+---+---+---+---+---+\n",
      "|  0|522|  0|254|249| 29|251| 60|  0| 60|522| 60|849|249|  0|  0| 42| 42|  0|143|  0|  0|  0|  0|  0| 42|  0|  0|  0| 42|  0|  0|484|484| 42|879|  0| 42|484|484|\n",
      "+---+---+---+---+---+---+---+---+---+---+---+---+---+---+---+---+---+---+---+---+---+---+---+---+---+---+---+---+---+---+---+---+---+---+---+---+---+---+---+---+\n",
      "\n"
     ]
    }
   ],
   "source": [
    "# Check for count of n/a in every column. \n",
    "# Need to decide how to deal with the n/a. \n",
    "# Do we fill it with null or do we remove them. \n",
    "\n",
    "toy_df.select([count(when(isnan(c) | col(c).isNull(), c)).alias(c) for c in toy_df.columns]).show()"
   ]
  },
  {
   "cell_type": "code",
   "execution_count": null,
   "metadata": {
    "colab": {
     "base_uri": "https://localhost:8080/",
     "height": 479
    },
    "colab_type": "code",
    "id": "3oaZ7wz8BnKg",
    "outputId": "2c85220e-85f6-426c-982b-5c9d6cd64479"
   },
   "outputs": [
    {
     "name": "stdout",
     "output_type": "stream",
     "text": [
      "+---+----+---+----+----+-----+----+----+---+----+----+----+----+----+--------+--------+--------+--------+--------+--------+--------+--------+--------+--------+--------+--------+--------+--------+--------+--------+--------+--------+--------+--------+--------+--------+--------+--------+--------+--------+\n",
      "|  0|   1|  2|   3|   4|    5|   6|   7|  8|   9|  10|  11|  12|  13|      14|      15|      16|      17|      18|      19|      20|      21|      22|      23|      24|      25|      26|      27|      28|      29|      30|      31|      32|      33|      34|      35|      36|      37|      38|      39|\n",
      "+---+----+---+----+----+-----+----+----+---+----+----+----+----+----+--------+--------+--------+--------+--------+--------+--------+--------+--------+--------+--------+--------+--------+--------+--------+--------+--------+--------+--------+--------+--------+--------+--------+--------+--------+--------+\n",
      "|  1|   5| 44|  30|   4|    0|   0|   5|  4|   4|   1|   1|null|   0|8cf07265|c1384774|7a5112be|8ae8b275|4cf72387|fbad5c96|81bb0302|0b153874|a73ee510|7f314591|b7094596|5d6c3838|1f9d2c38|07d13a8f|022c81dc|84af67c1|e5ba7672|8e8b535e|21ddcdc9|b1252a9d|35d97d15|ad3062eb|32c7478e|f1b99840|ea9a246c|c884d8e8|\n",
      "|  0|   9|103|  18|  43|   79|  54|   9| 48|  50|   1|   1|null|  48|05db9164|09e68b86|75d74398|ac9bd079|b0530c50|fe6b92e5|e44ffd7f|5b392875|a73ee510|c16dd063|4ad5ddce|b576ecc1|8846a878|b28479f6|6f73304a|8ed678b1|e5ba7672|479030a6|7d1c0c2a|5840adea|24fe27f9|78e2e389|3a171ecb|41be4766|e8b83407|d8a062c4|\n",
      "|  0|   1|499|null|null|  201|  21|  25| 22|  21|   1|   4|null|null|05db9164|68b3edbf|d032c263|c18be181|25c83c98|7e0ccccf|9f525672|0b153874|a73ee510|1650cb99|843d8639|dfbb09fb|9cab1003|b28479f6|f5799c5c|84898b2a|e5ba7672|3009c5ce|    null|    null|0014c32a|    null|32c7478e|3b183c5c|    null|    null|\n",
      "|  1|  21| 34|   4|   8|  214|   8|  24| 13|  19|   2|   3|   0|   8|5a9ed9b0|8947f767|42c26a8f|b46a9894|30903e74|7e0ccccf|9e8dab66|0b153874|a73ee510|5ba575e7|2d9eed4d|7711b15e|949ea585|b28479f6|a473257f|fce2df8a|e5ba7672|bd17c3da|20f7f165|b1252a9d|cca849a0|    null|32c7478e|955b41c1|e8b83407|76b01db0|\n",
      "|  1|null| 24|   7|   7|  236|null|   0| 30|  32|null|   0|null|   7|05db9164|39dfaa0d|21d13ddc|0fccb71f|25c83c98|fbad5c96|753aa291|0b153874|a73ee510|3b08e48b|d20ffd8f|17ebf5d3|6619af2b|b28479f6|2223bbe1|97c5a99d|776ce399|df4fffb7|21ddcdc9|5840adea|2063e5dc|    null|3a171ecb|1e258e53|010f6491|aa5f0a15|\n",
      "|  0|null|  0|   3|   1|39317| 731|   1|  9| 207|null|   0|null|   1|05db9164|9a82ab91|02cf9876|c18be181|25c83c98|7e0ccccf|ca4c27ef|0b153874|a73ee510|0bd12a8c|1bdc0607|8fe001f4|619a03e9|07d13a8f|33d2c881|36103458|e5ba7672|004fdf10|    null|    null|e587c466|    null|423fab69|3b183c5c|    null|    null|\n",
      "|  0|null|492|   4|   4| 1655|  26|  17|  4| 407|null|   5|null|   4|5a9ed9b0|26a88120|b00d1501|d16679b9|25c83c98|fe6b92e5|49b74ebc|0b153874|a73ee510|7f79890b|c4adf918|e0d76380|85dbe138|b28479f6|2ebbf26a|1203a270|e5ba7672|b486119d|    null|    null|73d06dde|78e2e389|32c7478e|aee52b6f|    null|    null|\n",
      "|  0|null| 58|   1|null|68035|1116|   0|  4| 105|null|   0|null|null|68fd1e64|38a947a1|def800b5|6a14f9b9|25c83c98|7e0ccccf|675b6656|0b153874|7cc72ec2|d4f05169|192461f2|8c1ecd95|bd91360a|07d13a8f|06c17681|f8b34416|07c540c4|e5f8f18f|    null|    null|f3ddd519|    null|3a171ecb|b34f3128|    null|    null|\n",
      "|  0|null|102|   2|   2|19379|   3|   5|  2|   3|null|   2|null|   2|05db9164|a244fe99|    null|    null|25c83c98|    null|50b436c9|0b153874|a73ee510|d8a1c4f1|a0a5e9d7|    null|ee79db7b|07d13a8f|2f5df569|    null|e5ba7672|35901cfb|    null|    null|    null|    null|32c7478e|    null|    null|    null|\n",
      "|  0|   0|  1|  20|   0| 3587| 425|   2| 14| 172|   0|   2|null|  13|68fd1e64|80e26c9b|46cbd7dd|4a370794|25c83c98|7e0ccccf|5ed5419b|0b153874|a73ee510|8bfda13d|aa1ed092|39cb5326|8cde53cf|b28479f6|4c1df281|4c292f1d|e5ba7672|f54016b9|21ddcdc9|a458ea53|8ac7d638|    null|be7c41b4|1793a828|e8b83407|da9fe092|\n",
      "|  0|   0| 10|  41|   3| 5666|null|   0|  3|   3|   0|   0|null|   3|05db9164|86d4fccc|b009d929|c7043c4b|b0530c50|fe6b92e5|00d45786|0b153874|a73ee510|bc0ddfd3|c1face1a|3563ab62|e206ac9b|07d13a8f|be8e0869|b688c8cc|e5ba7672|be645006|21ddcdc9|5840adea|2754aaf1|    null|3a171ecb|3b183c5c|001f3601|d2decebb|\n",
      "|  0|   0|  3|   3|   9| 1399|  55|   1| 12|  43|   0|   1|null|  12|05db9164|f9875f50|196e1d2c|3a28497c|4cf72387|7e0ccccf|fd38440a|c8ddd494|a73ee510|b6168da6|f1f039ef|4dcdc859|60d930f7|07d13a8f|4ad96776|66d8e59e|d4bb7bd8|43a9e4b1|5af15ee4|b1252a9d|6af744f2|    null|32c7478e|b2455157|e8b83407|66d5e352|\n",
      "|  0|null|  7|   1|null| null|null|null|  0|null|null|null|null|null|05db9164|38a947a1|2d8004c4|40ed41e5|25c83c98|fbad5c96|ce8217f8|1f89b562|7cc72ec2|3b08e48b|9d12ce9b|ad972965|9dfda2b9|07d13a8f|c68ba31d|1206a8a1|2005abd1|e96a7df2|    null|    null|54d8bb06|    null|be7c41b4|a415643d|    null|    null|\n",
      "|  0|   2|  5|   3|   3|   37|   3|   2|  2|   3|   1|   1|null|   3|05db9164|c8687797|74e1a23a|9a6888fb|b2241560|7e0ccccf|73afe74f|5b392875|a73ee510|fa7d0797|2d9eed4d|fb8fab62|949ea585|07d13a8f|5db1ef75|c6b1e1b2|07c540c4|a7e06874|21ddcdc9|5840adea|99c09e97|    null|3a171ecb|335a6a1e|010f6491|8d8eb391|\n",
      "|  0|   0|  0|   9|  21| 1918| 271|   5| 37| 264|   0|   1|   0|  37|68fd1e64|2607540a|53e9f222|150aaab7|25c83c98|fbad5c96|8f89a2e1|0b153874|a73ee510|fa7d0797|7d4bba07|42400ece|2fad1153|b28479f6|d50f20a7|1b319444|e5ba7672|8a25126c|    null|    null|b4d113e2|    null|3a171ecb|a54aa9d4|    null|    null|\n",
      "|  0|   0| 60|   6|  12|  192|  83|   1| 29|  81|   0|   1|   0|  12|c71ae391|38a947a1|4470baf4|8c8a4c47|4cf72387|7e0ccccf|3b3a8277|062b5529|a73ee510|3b08e48b|8349edc7|bb669e25|176d07bc|b28479f6|9a82459a|2b2ce127|1e88c74f|b133fcd4|    null|    null|2b796e4a|    null|be7c41b4|8d365d3b|    null|    null|\n",
      "|  0|null| -1|null|null|  326|null|   0|  0|   0|null|   0|null|null|05db9164|38a947a1|3e5f573b|a7aa1f76|25c83c98|7e0ccccf|e3fb0ef1|0b153874|a73ee510|3b08e48b|f272f98e|54d52689|9b9e44d2|b28479f6|b720e84d|21e0910e|776ce399|1c0fe168|    null|    null|f7eb4736|    null|be7c41b4|fa59122c|    null|    null|\n",
      "|  0|   0|  0|   6|   9| 6122| 130|  29| 22| 151|   0|   3|   0|   9|5a9ed9b0|ae46a29d|fdc2671b|f922efad|25c83c98|fbad5c96|436ced8f|5b392875|a73ee510|4aead435|e95473ad|26ffc51b|44a10680|1adce6ef|c6a089a8|01adbab4|e5ba7672|e32bf683|    null|    null|21c9516a|    null|423fab69|b34f3128|    null|    null|\n",
      "|  0|   0|  0|null|null| 1740|  10|   4|  1|   5|   0|   1|null|null|05db9164|80e26c9b|ab654591|515c2bcc|25c83c98|7e0ccccf|11754474|0b153874|a73ee510|3b08e48b|88ac36d5|e0a57f94|d8e8499b|07d13a8f|f3635baf|12bf7f57|e5ba7672|f54016b9|21ddcdc9|b1252a9d|e79470cf|    null|93bad2c0|8dca7de3|e8b83407|a6d189cc|\n",
      "|  0|   0| -1|   8|   5| 1977|  82|   4|  7|  78|   0|   1|null|   5|68fd1e64|89ddfee8|2d3be2d7|d2099731|25c83c98|7e0ccccf|928efe34|5b392875|a73ee510|5162b19c|0d989d65|53cbb0c5|f948ca5d|07d13a8f|4df3da6b|0c09278f|e5ba7672|5bb2ec8e|21ddcdc9|a458ea53|f254276d|ad3062eb|32c7478e|3fdb382b|b9266ff0|49d68486|\n",
      "+---+----+---+----+----+-----+----+----+---+----+----+----+----+----+--------+--------+--------+--------+--------+--------+--------+--------+--------+--------+--------+--------+--------+--------+--------+--------+--------+--------+--------+--------+--------+--------+--------+--------+--------+--------+\n",
      "only showing top 20 rows\n",
      "\n"
     ]
    }
   ],
   "source": [
    "# check additional dataframe for EDA\n",
    "toy100001_df = spark.read.format(\"csv\").option(\"header\", True).load('toy10000-1.txt')\n",
    "toy100001_df.show()"
   ]
  },
  {
   "cell_type": "code",
   "execution_count": null,
   "metadata": {
    "colab": {
     "base_uri": "https://localhost:8080/",
     "height": 34
    },
    "colab_type": "code",
    "id": "3GWIoYE8FPMq",
    "outputId": "803def52-b1fc-470e-9653-fdb2c43f4f44"
   },
   "outputs": [
    {
     "name": "stdout",
     "output_type": "stream",
     "text": [
      "Number of lines in toy 10001 data: 10849\n"
     ]
    }
   ],
   "source": [
    "print(\"Number of lines in toy 10001 data: %s\" %toy100001_df.count())"
   ]
  },
  {
   "cell_type": "code",
   "execution_count": null,
   "metadata": {
    "colab": {
     "base_uri": "https://localhost:8080/",
     "height": 119
    },
    "colab_type": "code",
    "id": "QHzF9Fi8FEov",
    "outputId": "77012bbd-e0e0-47a0-d7ec-6e634fe9e3a9"
   },
   "outputs": [
    {
     "name": "stdout",
     "output_type": "stream",
     "text": [
      "+---+----+---+----+----+---+----+---+---+---+----+---+----+----+---+---+---+---+---+----+---+---+---+---+---+---+---+---+---+---+---+---+----+----+---+----+---+---+----+----+\n",
      "|  0|   1|  2|   3|   4|  5|   6|  7|  8|  9|  10| 11|  12|  13| 14| 15| 16| 17| 18|  19| 20| 21| 22| 23| 24| 25| 26| 27| 28| 29| 30| 31|  32|  33| 34|  35| 36| 37|  38|  39|\n",
      "+---+----+---+----+----+---+----+---+---+---+----+---+----+----+---+---+---+---+---+----+---+---+---+---+---+---+---+---+---+---+---+---+----+----+---+----+---+---+----+----+\n",
      "|  0|4866|  0|2344|2381|270|2383|480|  4|480|4866|480|8344|2381|  0|  0|371|371|  0|1282|  0|  0|  0|  0|  0|371|  0|  0|  0|371|  0|  0|4766|4766|371|8302|  0|371|4766|4766|\n",
      "+---+----+---+----+----+---+----+---+---+---+----+---+----+----+---+---+---+---+---+----+---+---+---+---+---+---+---+---+---+---+---+---+----+----+---+----+---+---+----+----+\n",
      "\n"
     ]
    }
   ],
   "source": [
    "toy100001_df.select([count(when(isnan(c) | col(c).isNull(), c)).alias(c) for c in toy100001_df.columns]).show()"
   ]
  },
  {
   "cell_type": "code",
   "execution_count": null,
   "metadata": {
    "colab": {
     "base_uri": "https://localhost:8080/",
     "height": 479
    },
    "colab_type": "code",
    "id": "3UuNQEWwEjXb",
    "outputId": "dbf7153e-1dac-4f00-a935-1c2efbc23d73"
   },
   "outputs": [
    {
     "name": "stdout",
     "output_type": "stream",
     "text": [
      "+---+----+---+----+----+-----+----+---+---+---+----+---+----+----+--------+--------+--------+--------+--------+--------+--------+--------+--------+--------+--------+--------+--------+--------+--------+--------+--------+--------+--------+--------+--------+--------+--------+--------+--------+--------+\n",
      "|  0|   1|  2|   3|   4|    5|   6|  7|  8|  9|  10| 11|  12|  13|      14|      15|      16|      17|      18|      19|      20|      21|      22|      23|      24|      25|      26|      27|      28|      29|      30|      31|      32|      33|      34|      35|      36|      37|      38|      39|\n",
      "+---+----+---+----+----+-----+----+---+---+---+----+---+----+----+--------+--------+--------+--------+--------+--------+--------+--------+--------+--------+--------+--------+--------+--------+--------+--------+--------+--------+--------+--------+--------+--------+--------+--------+--------+--------+\n",
      "|  0|   0|  0|   6|null| 2972|  26|  2|  3| 11|   0|  1|   0|null|68fd1e64|80e26c9b|9dd3c4fc|a09fab49|25c83c98|fbad5c96|d69b60fc|0b153874|a73ee510|3b08e48b|1a036e26|3c5900b5|52f64c84|b28479f6|4c1df281|0decd005|07c540c4|f54016b9|21ddcdc9|b1252a9d|7633c7c8|    null|32c7478e|17f458f7|e8b83407|71236095|\n",
      "|  0|   0|  1|   2|   7| 3286|null|  0| 21| 13|   0|  0|   1|   7|05db9164|bccb7a1a|f299d036|d1038a37|4cf72387|7e0ccccf|424fbb9a|0b153874|a73ee510|3b08e48b|2386466b|7fbe45f8|45db6793|07d13a8f|e6696727|63a04c4a|3486227d|d51975d7|21ddcdc9|5840adea|7bfa4d82|c9d4222a|32c7478e|c646e587|ea9a246c|4612bd34|\n",
      "|  1|   8|253|  50|  15|    7|   2| 22| 48|250|   1|  6|null|   0|05db9164|1cfdf714|44dbad79|b54345fb|4cf72387|7e0ccccf|7195046d|0b153874|a73ee510|3d12126c|4d8549da|2161f91f|51b97b8f|b28479f6|d345b1a0|aa640967|e5ba7672|e88ffc9d|5b885066|b1252a9d|f101cc1d|    null|bcdee96c|b839567a|9b3e8820|9b10b2d8|\n",
      "|  0|   1| 30|  41|   7|    4|   1| 14|  5| 53|   1|  5|null|   1|68fd1e64|58e67aaf|962bdb57|5345e2ea|4cf72387|7e0ccccf|45e063a0|0b153874|a73ee510|27f4bf82|da89cb9b|0ac9dec6|165642be|1adce6ef|d002b6d9|a56e8538|e5ba7672|c21c3e4c|26e97973|a458ea53|0303d915|ad3062eb|bcdee96c|3fdb382b|9b3e8820|49d68486|\n",
      "|  0|null|  0|   5|   4| 4186|  17| 15|  6| 48|null|  7|null|   5|5bfa8ab5|0a519c5c|77f2f2e5|d16679b9|4cf72387|7e0ccccf|6e8d859c|e602701d|a73ee510|3b08e48b|2a55306d|9f32b866|04490a65|07d13a8f|b812f9f2|31ca40b6|e5ba7672|2efa89c6|    null|    null|dfcfc3fa|    null|be7c41b4|aee52b6f|    null|    null|\n",
      "|  1|null|  0|   1|   1|20592|   1| 22|  0|  1|null|  1|null|   1|be589b51|942f9a8d|435c3859|be42d44a|4cf72387|7e0ccccf|49b74ebc|0b153874|a73ee510|0e9ead52|c4adf918|e4c074db|85dbe138|1adce6ef|ae97ecc3|a029b14b|e5ba7672|1f868fdd|55dd3565|a458ea53|76ff3b70|    null|32c7478e|9fc6df89|9d93af03|91002aff|\n",
      "|  1|   1|  1|   1|null|  355|   6|  1|  2|  3|   1|  1|null|null|05db9164|4f25e98b|0596d6cc|e54d02a6|25c83c98|7e0ccccf|b5043bcd|985e3fcb|a73ee510|3013a9ec|371dae82|8c80aacc|18fc2b1e|64c94865|40e29d2a|c9081591|d4bb7bd8|7ef5affa|17e184e7|a458ea53|7d2c5560|    null|32c7478e|3fdb382b|001f3601|49d68486|\n",
      "|  0|   1| -1|null|null|  741|  43|  1| 27| 53|   1|  1|null|null|05db9164|403ea497|2cbec47f|3e2bfbda|25c83c98|fbad5c96|197b4575|0b153874|a73ee510|6c47047a|24f22538|21a23bfe|e40e52ae|b28479f6|91f74a64|587267a3|d4bb7bd8|a78bd508|21ddcdc9|5840adea|c2a93b37|    null|3a171ecb|1793a828|e8b83407|2fede552|\n",
      "|  0|null|393| 127|   0|16228|  69|  1|  7| 22|null|  1|null|   6|05db9164|bfdcfc4a|8d7ac293|69b09eba|25c83c98|7e0ccccf|cc5ed2f1|0b153874|a73ee510|3b08e48b|081c279a|6a383d87|9f16a973|b28479f6|2ed5bdad|3950217e|07c540c4|ffd53157|21ddcdc9|5840adea|5334fccb|c9d4222a|32c7478e|03a8e84d|e8b83407|b2a97390|\n",
      "|  0|null| 10|null|   9|30124|  76| 13| 20|217|null|  2|   0|   9|5bfa8ab5|26a88120|b00d1501|d16679b9|25c83c98|7e0ccccf|3f4ec687|5b392875|a73ee510|726f00fd|c4adf918|e0d76380|85dbe138|b28479f6|2ebbf26a|1203a270|27c07bd6|b486119d|    null|    null|73d06dde|    null|32c7478e|aee52b6f|    null|    null|\n",
      "|  0|null|351|   4|   4| 1599|null|  0|  4| 60|null|  0|null|  17|68fd1e64|38a947a1|51602699|6a14f9b9|25c83c98|fe6b92e5|dced2023|0b153874|a73ee510|3b08e48b|ac60dfda|3783ed83|d100e0ca|07d13a8f|a4861bb9|f8b34416|776ce399|e5f8f18f|    null|    null|f3ddd519|    null|32c7478e|b34f3128|    null|    null|\n",
      "|  0|  18| -1|  40|   3|  336|  50|110| 42|292|   2| 12|   0|   3|5a9ed9b0|65265295|88887c92|1fbb595c|25c83c98|7e0ccccf|f828f7fb|0b153874|a73ee510|33ecf57b|ab066900|e9f98af8|5d4198ed|07d13a8f|b30b312f|7da9962b|3486227d|abad9dca|21ddcdc9|b1252a9d|3d1d2aff|    null|32c7478e|4a5cfcca|9b3e8820|99e71d4d|\n",
      "|  0|null| -1|null|null| null|null|  0|  0|  1|null|  0|null|null|05db9164|38a947a1|142b42a0|9027968e|4cf72387|fe6b92e5|88002ee1|5b392875|7cc72ec2|3b08e48b|f1b78ab4|05826464|6e5da64f|07d13a8f|501fccee|0f130b6f|2005abd1|a2cb75c2|    null|    null|19887c46|    null|423fab69|e3baf9ac|    null|    null|\n",
      "|  0|  10| 28|  15|   9|   24|  12| 10|  9|  9|   2|  2|null|   9|be589b51|207b2d81|88c384f6|b88f54e4|4cf72387|6f6d9be8|9b98e9fc|0b153874|a73ee510|f6f942d1|7f8ffe57|e2f5bfda|46f42a63|07d13a8f|90ff0d8d|b3219019|e5ba7672|25c88e42|21ddcdc9|b1252a9d|27c0669c|    null|32c7478e|570e3148|001f3601|6cfc7081|\n",
      "|  1|null| 44|   9|   9|18807|  45|  4|  8| 16|null|  1|null|   9|05db9164|207b2d81|e48e5552|9ddc492e|25c83c98|    null|a015ed43|64523cfa|a73ee510|efea433b|ccfdca2f|e5e1ca92|d76cea6e|07d13a8f|0c67c4ca|29fd6b7b|e5ba7672|395856b0|21ddcdc9|b1252a9d|e5191f27|    null|32c7478e|c23c2e19|001f3601|3d04cc90|\n",
      "|  0|null|  2|   1|null| 3388|null|  0|  0| 10|null|  0|null|null|05db9164|38a947a1|517bfe1c|1ceec30c|25c83c98|7e0ccccf|20a04274|0b153874|a73ee510|3b08e48b|f5f5efa3|c504cddb|32d3f313|b28479f6|033862ee|38e9704f|776ce399|c04654d0|    null|    null|f52f289f|    null|be7c41b4|e7d518ab|    null|    null|\n",
      "|  1|null|  1|null|null| 8553|null|  0|  0|  1|null|  0|null|null|05db9164|c44e8a72|75b637ed|20377150|25c83c98|    null|9099e7b5|0b153874|a73ee510|3b08e48b|70d4d706|23b331c3|b6a6a31e|07d13a8f|b88d2fea|1031af98|776ce399|456d734d|b93aa927|b1252a9d|0dafe080|    null|32c7478e|3fdb382b|724b04da|49d68486|\n",
      "|  0|   3| 24|  32|   9|  132|  21| 18| 20|146|   1|  7|   0|  21|5bfa8ab5|dd8c896e|9c69612f|13508380|0942e0a7|7e0ccccf|274b6720|0b153874|a73ee510|34ae4e8c|2872a4bd|9a7de6bc|f8320f48|07d13a8f|95275a51|6a8cc3f9|e5ba7672|3182300e|1d1eb838|b1252a9d|1c02a851|    null|423fab69|45ab94c8|010f6491|c84c4aec|\n",
      "|  0|null|  0|   2|null|33157|null|  0|  0|  6|null|  0|null|null|05db9164|c44e8a72|10767489|f5e89c21|25c83c98|7e0ccccf|a25cceac|5b392875|a73ee510|7a447743|5bee5497|bee4c1d0|a57cffd3|b28479f6|1addf65e|c0d85914|d4bb7bd8|456d734d|410499c1|a458ea53|f41e7bb3|    null|32c7478e|29ce79bf|e8b83407|0610d914|\n",
      "|  0|   1| 20|null|   1|  203|  24|  1| 18| 18|   1|  1|null|   1|be589b51|d833535f|b00d1501|d16679b9|25c83c98|fbad5c96|9b98e9fc|5b392875|a73ee510|547c0ffe|7f8ffe57|e0d76380|46f42a63|b28479f6|a733d362|1203a270|07c540c4|281769c2|    null|    null|73d06dde|    null|32c7478e|aee52b6f|    null|    null|\n",
      "+---+----+---+----+----+-----+----+---+---+---+----+---+----+----+--------+--------+--------+--------+--------+--------+--------+--------+--------+--------+--------+--------+--------+--------+--------+--------+--------+--------+--------+--------+--------+--------+--------+--------+--------+--------+\n",
      "only showing top 20 rows\n",
      "\n"
     ]
    }
   ],
   "source": [
    "toy100002_df = spark.read.format(\"csv\").option(\"header\", True).load('toy10000-2.txt')\n",
    "toy100002_df.show()"
   ]
  },
  {
   "cell_type": "code",
   "execution_count": null,
   "metadata": {
    "colab": {
     "base_uri": "https://localhost:8080/",
     "height": 34
    },
    "colab_type": "code",
    "id": "HH0vC-rRFlN_",
    "outputId": "fb1c9761-7f8e-4895-bb36-1ffd967fb1c1"
   },
   "outputs": [
    {
     "name": "stdout",
     "output_type": "stream",
     "text": [
      "Number of lines in toy 10002 data: 11131\n"
     ]
    }
   ],
   "source": [
    "print(\"Number of lines in toy 10002 data: %s\" %toy100002_df.count())"
   ]
  },
  {
   "cell_type": "code",
   "execution_count": null,
   "metadata": {
    "colab": {
     "base_uri": "https://localhost:8080/",
     "height": 119
    },
    "colab_type": "code",
    "id": "G4CWYxBXFqxw",
    "outputId": "df42a7ed-8d21-46d3-b34e-cf4f8ae62d26"
   },
   "outputs": [
    {
     "name": "stdout",
     "output_type": "stream",
     "text": [
      "+---+----+---+----+----+---+----+---+---+---+----+---+----+----+---+---+---+---+---+----+---+---+---+---+---+---+---+---+---+---+---+---+----+----+---+----+---+---+----+----+\n",
      "|  0|   1|  2|   3|   4|  5|   6|  7|  8|  9|  10| 11|  12|  13| 14| 15| 16| 17| 18|  19| 20| 21| 22| 23| 24| 25| 26| 27| 28| 29| 30| 31|  32|  33| 34|  35| 36| 37|  38|  39|\n",
      "+---+----+---+----+----+---+----+---+---+---+----+---+----+----+---+---+---+---+---+----+---+---+---+---+---+---+---+---+---+---+---+---+----+----+---+----+---+---+----+----+\n",
      "|  0|5070|  0|2457|2449|287|2426|463|  5|463|5070|463|8492|2449|  0|  0|398|398|  0|1373|  0|  0|  0|  0|  0|398|  0|  0|  0|398|  0|  0|4893|4893|398|8582|  0|398|4893|4893|\n",
      "+---+----+---+----+----+---+----+---+---+---+----+---+----+----+---+---+---+---+---+----+---+---+---+---+---+---+---+---+---+---+---+---+----+----+---+----+---+---+----+----+\n",
      "\n"
     ]
    }
   ],
   "source": [
    "toy100002_df.select([count(when(isnan(c) | col(c).isNull(), c)).alias(c) for c in toy100002_df.columns]).show()"
   ]
  },
  {
   "cell_type": "markdown",
   "metadata": {
    "colab_type": "text",
    "id": "tapBjkWpcVTf"
   },
   "source": [
    "## **2.5 Heatmaps to see similarity and correlations**"
   ]
  },
  {
   "cell_type": "markdown",
   "metadata": {
    "colab_type": "text",
    "id": "U1--JEFRtr4H"
   },
   "source": [
    "From the null count and heatmap visualization, we see certain similarity in some columns. The following columns tend to be null in the same rows:\n",
    "* Col 1, 10 \n",
    "* Col 3, 4, 6, 13\n",
    "* Col 7, 9, 11\n",
    "* Col 16, 17, 25 and 29\n",
    "* Col 32, 33, 38, 39 \n",
    "* Col 12, 35: for these two columns, half of the rows are empty. Which bring up a question on whether they would be useful for prediction. We may need to consider removing these 2 features from our model. "
   ]
  },
  {
   "cell_type": "code",
   "execution_count": null,
   "metadata": {
    "colab": {
     "base_uri": "https://localhost:8080/",
     "height": 773
    },
    "colab_type": "code",
    "id": "O3JFgFN_Kxb2",
    "outputId": "dc186857-378e-41be-f78a-c99f656aaede"
   },
   "outputs": [
    {
     "data": {
      "image/png": "[encoded data removed]",
      "text/plain": [
       "<Figure size 432x288 with 2 Axes>"
      ]
     },
     "metadata": {
      "tags": []
     },
     "output_type": "display_data"
    },
    {
     "data": {
      "image/png": "[encoded data removed]",
      "text/plain": [
       "<Figure size 432x288 with 2 Axes>"
      ]
     },
     "metadata": {
      "tags": []
     },
     "output_type": "display_data"
    },
    {
     "data": {
      "image/png": "[encoded data removed]",
      "text/plain": [
       "<Figure size 432x288 with 2 Axes>"
      ]
     },
     "metadata": {
      "tags": []
     },
     "output_type": "display_data"
    }
   ],
   "source": [
    "# Heatmap function for specified columns\n",
    "pandas_df = toy_df.toPandas()\n",
    "pandas_df10001 = toy100001_df.toPandas()\n",
    "pandas_df10002 = toy100002_df.toPandas()\n",
    "\n",
    "def col_heat(dataframe, columns): \n",
    "    temp_df = dataframe.iloc[:,columns]\n",
    "    temp_df_heatmap = temp_df.isnull()\n",
    "    sns.heatmap(data=temp_df_heatmap)\n",
    "    plt.xticks(rotation=0, fontsize=10)\n",
    "    plt.yticks(rotation=0, fontsize=10)\n",
    "    plt.show()\n",
    "\n",
    "# use pandas and seaborn to visualize the missing value issue. \n",
    "# For numeric columns, we can fillna with mean. \n",
    "# We need to think about how to deal with the na in the non-numeric columns\n",
    "\n",
    "all_col = range(40)\n",
    "# col_heat(all_col)\n",
    "\n",
    "# plot 3 sample datasets\n",
    "col_heat(pandas_df, all_col)\n",
    "col_heat(pandas_df10001, all_col)\n",
    "col_heat(pandas_df10002, all_col)"
   ]
  },
  {
   "cell_type": "markdown",
   "metadata": {
    "colab_type": "text",
    "id": "AnmrDzOx_t3a"
   },
   "source": [
    "Next, we want to inspect the correlations between variables further by examing their correlation matrix and correlation heatmaps. From the correlation heatmaps, we can see that:\n",
    "- Column 7 and 11 have strong positive correlation, \n",
    "- Column 10 and 1 have strong positive correlation, \n",
    "- Column 4 and 13 have strong positive correlation. \n",
    "\n",
    "Therefore, we would need to consider dropping one of the correlated columns during our feature engineering step. "
   ]
  },
  {
   "cell_type": "code",
   "execution_count": null,
   "metadata": {
    "colab": {},
    "colab_type": "code",
    "id": "6zqhe1hBh23r"
   },
   "outputs": [],
   "source": [
    "# fill na with 0\n",
    "df_nona = pandas_df.fillna(0)"
   ]
  },
  {
   "cell_type": "code",
   "execution_count": null,
   "metadata": {
    "colab": {},
    "colab_type": "code",
    "id": "kEIsE_At0CDa"
   },
   "outputs": [],
   "source": [
    "# correlation matrix \n",
    "df_13 = df_nona.iloc[:,0:14]"
   ]
  },
  {
   "cell_type": "code",
   "execution_count": null,
   "metadata": {
    "colab": {},
    "colab_type": "code",
    "id": "N0OQJ8gjuF17"
   },
   "outputs": [],
   "source": [
    "# change all columns to numeric \n",
    "col = df_13.columns\n",
    "df_13[col] = df_13[col].apply(pd.to_numeric, errors='coerce')"
   ]
  },
  {
   "cell_type": "code",
   "execution_count": null,
   "metadata": {
    "colab": {
     "base_uri": "https://localhost:8080/",
     "height": 483
    },
    "colab_type": "code",
    "id": "gJ6s18Qrhzk9",
    "outputId": "2c4d6984-8991-4794-8114-ff3b792f0a54"
   },
   "outputs": [
    {
     "data": {
      "text/html": [
       "<div>\n",
       "<style scoped>\n",
       "    .dataframe tbody tr th:only-of-type {\n",
       "        vertical-align: middle;\n",
       "    }\n",
       "\n",
       "    .dataframe tbody tr th {\n",
       "        vertical-align: top;\n",
       "    }\n",
       "\n",
       "    .dataframe thead th {\n",
       "        text-align: right;\n",
       "    }\n",
       "</style>\n",
       "<table border=\"1\" class=\"dataframe\">\n",
       "  <thead>\n",
       "    <tr style=\"text-align: right;\">\n",
       "      <th></th>\n",
       "      <th>0</th>\n",
       "      <th>1</th>\n",
       "      <th>2</th>\n",
       "      <th>3</th>\n",
       "      <th>4</th>\n",
       "      <th>5</th>\n",
       "      <th>6</th>\n",
       "      <th>7</th>\n",
       "      <th>8</th>\n",
       "      <th>9</th>\n",
       "      <th>10</th>\n",
       "      <th>11</th>\n",
       "      <th>12</th>\n",
       "      <th>13</th>\n",
       "    </tr>\n",
       "  </thead>\n",
       "  <tbody>\n",
       "    <tr>\n",
       "      <th>0</th>\n",
       "      <td>1.000000</td>\n",
       "      <td>0.071663</td>\n",
       "      <td>0.031518</td>\n",
       "      <td>-0.016930</td>\n",
       "      <td>-0.022359</td>\n",
       "      <td>-0.077261</td>\n",
       "      <td>-0.053731</td>\n",
       "      <td>0.006213</td>\n",
       "      <td>-0.021787</td>\n",
       "      <td>-0.016119</td>\n",
       "      <td>0.135189</td>\n",
       "      <td>0.083508</td>\n",
       "      <td>-0.039319</td>\n",
       "      <td>-0.097807</td>\n",
       "    </tr>\n",
       "    <tr>\n",
       "      <th>1</th>\n",
       "      <td>0.071663</td>\n",
       "      <td>1.000000</td>\n",
       "      <td>0.008527</td>\n",
       "      <td>0.066571</td>\n",
       "      <td>0.133098</td>\n",
       "      <td>-0.093329</td>\n",
       "      <td>-0.083124</td>\n",
       "      <td>0.481910</td>\n",
       "      <td>0.210609</td>\n",
       "      <td>0.121597</td>\n",
       "      <td>0.660884</td>\n",
       "      <td>0.371547</td>\n",
       "      <td>0.053320</td>\n",
       "      <td>0.072102</td>\n",
       "    </tr>\n",
       "    <tr>\n",
       "      <th>2</th>\n",
       "      <td>0.031518</td>\n",
       "      <td>0.008527</td>\n",
       "      <td>1.000000</td>\n",
       "      <td>-0.032088</td>\n",
       "      <td>-0.086562</td>\n",
       "      <td>0.085795</td>\n",
       "      <td>-0.016741</td>\n",
       "      <td>-0.007519</td>\n",
       "      <td>-0.027295</td>\n",
       "      <td>0.006229</td>\n",
       "      <td>0.022320</td>\n",
       "      <td>-0.009925</td>\n",
       "      <td>-0.005648</td>\n",
       "      <td>-0.055749</td>\n",
       "    </tr>\n",
       "    <tr>\n",
       "      <th>3</th>\n",
       "      <td>-0.016930</td>\n",
       "      <td>0.066571</td>\n",
       "      <td>-0.032088</td>\n",
       "      <td>1.000000</td>\n",
       "      <td>0.330984</td>\n",
       "      <td>-0.030508</td>\n",
       "      <td>0.000704</td>\n",
       "      <td>-0.033776</td>\n",
       "      <td>0.262367</td>\n",
       "      <td>-0.011754</td>\n",
       "      <td>0.052273</td>\n",
       "      <td>-0.037593</td>\n",
       "      <td>0.000407</td>\n",
       "      <td>0.200882</td>\n",
       "    </tr>\n",
       "    <tr>\n",
       "      <th>4</th>\n",
       "      <td>-0.022359</td>\n",
       "      <td>0.133098</td>\n",
       "      <td>-0.086562</td>\n",
       "      <td>0.330984</td>\n",
       "      <td>1.000000</td>\n",
       "      <td>-0.108690</td>\n",
       "      <td>-0.008380</td>\n",
       "      <td>0.038702</td>\n",
       "      <td>0.537259</td>\n",
       "      <td>0.208870</td>\n",
       "      <td>0.183565</td>\n",
       "      <td>0.070951</td>\n",
       "      <td>0.024418</td>\n",
       "      <td>0.735196</td>\n",
       "    </tr>\n",
       "    <tr>\n",
       "      <th>5</th>\n",
       "      <td>-0.077261</td>\n",
       "      <td>-0.093329</td>\n",
       "      <td>0.085795</td>\n",
       "      <td>-0.030508</td>\n",
       "      <td>-0.108690</td>\n",
       "      <td>1.000000</td>\n",
       "      <td>0.019449</td>\n",
       "      <td>-0.078353</td>\n",
       "      <td>-0.151915</td>\n",
       "      <td>-0.082124</td>\n",
       "      <td>-0.153634</td>\n",
       "      <td>-0.116215</td>\n",
       "      <td>-0.029048</td>\n",
       "      <td>-0.086887</td>\n",
       "    </tr>\n",
       "    <tr>\n",
       "      <th>6</th>\n",
       "      <td>-0.053731</td>\n",
       "      <td>-0.083124</td>\n",
       "      <td>-0.016741</td>\n",
       "      <td>0.000704</td>\n",
       "      <td>-0.008380</td>\n",
       "      <td>0.019449</td>\n",
       "      <td>1.000000</td>\n",
       "      <td>-0.052143</td>\n",
       "      <td>0.007327</td>\n",
       "      <td>0.137297</td>\n",
       "      <td>-0.142268</td>\n",
       "      <td>-0.053994</td>\n",
       "      <td>-0.008339</td>\n",
       "      <td>0.047439</td>\n",
       "    </tr>\n",
       "    <tr>\n",
       "      <th>7</th>\n",
       "      <td>0.006213</td>\n",
       "      <td>0.481910</td>\n",
       "      <td>-0.007519</td>\n",
       "      <td>-0.033776</td>\n",
       "      <td>0.038702</td>\n",
       "      <td>-0.078353</td>\n",
       "      <td>-0.052143</td>\n",
       "      <td>1.000000</td>\n",
       "      <td>0.115958</td>\n",
       "      <td>0.387017</td>\n",
       "      <td>0.338522</td>\n",
       "      <td>0.761762</td>\n",
       "      <td>0.141419</td>\n",
       "      <td>0.027560</td>\n",
       "    </tr>\n",
       "    <tr>\n",
       "      <th>8</th>\n",
       "      <td>-0.021787</td>\n",
       "      <td>0.210609</td>\n",
       "      <td>-0.027295</td>\n",
       "      <td>0.262367</td>\n",
       "      <td>0.537259</td>\n",
       "      <td>-0.151915</td>\n",
       "      <td>0.007327</td>\n",
       "      <td>0.115958</td>\n",
       "      <td>1.000000</td>\n",
       "      <td>0.255121</td>\n",
       "      <td>0.231352</td>\n",
       "      <td>0.175146</td>\n",
       "      <td>0.107537</td>\n",
       "      <td>0.462657</td>\n",
       "    </tr>\n",
       "    <tr>\n",
       "      <th>9</th>\n",
       "      <td>-0.016119</td>\n",
       "      <td>0.121597</td>\n",
       "      <td>0.006229</td>\n",
       "      <td>-0.011754</td>\n",
       "      <td>0.208870</td>\n",
       "      <td>-0.082124</td>\n",
       "      <td>0.137297</td>\n",
       "      <td>0.387017</td>\n",
       "      <td>0.255121</td>\n",
       "      <td>1.000000</td>\n",
       "      <td>0.098649</td>\n",
       "      <td>0.466354</td>\n",
       "      <td>0.074364</td>\n",
       "      <td>0.314604</td>\n",
       "    </tr>\n",
       "    <tr>\n",
       "      <th>10</th>\n",
       "      <td>0.135189</td>\n",
       "      <td>0.660884</td>\n",
       "      <td>0.022320</td>\n",
       "      <td>0.052273</td>\n",
       "      <td>0.183565</td>\n",
       "      <td>-0.153634</td>\n",
       "      <td>-0.142268</td>\n",
       "      <td>0.338522</td>\n",
       "      <td>0.231352</td>\n",
       "      <td>0.098649</td>\n",
       "      <td>1.000000</td>\n",
       "      <td>0.372133</td>\n",
       "      <td>0.046299</td>\n",
       "      <td>0.039894</td>\n",
       "    </tr>\n",
       "    <tr>\n",
       "      <th>11</th>\n",
       "      <td>0.083508</td>\n",
       "      <td>0.371547</td>\n",
       "      <td>-0.009925</td>\n",
       "      <td>-0.037593</td>\n",
       "      <td>0.070951</td>\n",
       "      <td>-0.116215</td>\n",
       "      <td>-0.053994</td>\n",
       "      <td>0.761762</td>\n",
       "      <td>0.175146</td>\n",
       "      <td>0.466354</td>\n",
       "      <td>0.372133</td>\n",
       "      <td>1.000000</td>\n",
       "      <td>0.077470</td>\n",
       "      <td>0.066839</td>\n",
       "    </tr>\n",
       "    <tr>\n",
       "      <th>12</th>\n",
       "      <td>-0.039319</td>\n",
       "      <td>0.053320</td>\n",
       "      <td>-0.005648</td>\n",
       "      <td>0.000407</td>\n",
       "      <td>0.024418</td>\n",
       "      <td>-0.029048</td>\n",
       "      <td>-0.008339</td>\n",
       "      <td>0.141419</td>\n",
       "      <td>0.107537</td>\n",
       "      <td>0.074364</td>\n",
       "      <td>0.046299</td>\n",
       "      <td>0.077470</td>\n",
       "      <td>1.000000</td>\n",
       "      <td>0.024503</td>\n",
       "    </tr>\n",
       "    <tr>\n",
       "      <th>13</th>\n",
       "      <td>-0.097807</td>\n",
       "      <td>0.072102</td>\n",
       "      <td>-0.055749</td>\n",
       "      <td>0.200882</td>\n",
       "      <td>0.735196</td>\n",
       "      <td>-0.086887</td>\n",
       "      <td>0.047439</td>\n",
       "      <td>0.027560</td>\n",
       "      <td>0.462657</td>\n",
       "      <td>0.314604</td>\n",
       "      <td>0.039894</td>\n",
       "      <td>0.066839</td>\n",
       "      <td>0.024503</td>\n",
       "      <td>1.000000</td>\n",
       "    </tr>\n",
       "  </tbody>\n",
       "</table>\n",
       "</div>"
      ],
      "text/plain": [
       "           0         1         2  ...        11        12        13\n",
       "0   1.000000  0.071663  0.031518  ...  0.083508 -0.039319 -0.097807\n",
       "1   0.071663  1.000000  0.008527  ...  0.371547  0.053320  0.072102\n",
       "2   0.031518  0.008527  1.000000  ... -0.009925 -0.005648 -0.055749\n",
       "3  -0.016930  0.066571 -0.032088  ... -0.037593  0.000407  0.200882\n",
       "4  -0.022359  0.133098 -0.086562  ...  0.070951  0.024418  0.735196\n",
       "5  -0.077261 -0.093329  0.085795  ... -0.116215 -0.029048 -0.086887\n",
       "6  -0.053731 -0.083124 -0.016741  ... -0.053994 -0.008339  0.047439\n",
       "7   0.006213  0.481910 -0.007519  ...  0.761762  0.141419  0.027560\n",
       "8  -0.021787  0.210609 -0.027295  ...  0.175146  0.107537  0.462657\n",
       "9  -0.016119  0.121597  0.006229  ...  0.466354  0.074364  0.314604\n",
       "10  0.135189  0.660884  0.022320  ...  0.372133  0.046299  0.039894\n",
       "11  0.083508  0.371547 -0.009925  ...  1.000000  0.077470  0.066839\n",
       "12 -0.039319  0.053320 -0.005648  ...  0.077470  1.000000  0.024503\n",
       "13 -0.097807  0.072102 -0.055749  ...  0.066839  0.024503  1.000000\n",
       "\n",
       "[14 rows x 14 columns]"
      ]
     },
     "execution_count": 36,
     "metadata": {
      "tags": []
     },
     "output_type": "execute_result"
    }
   ],
   "source": [
    "# find pairwise correlations between columns \n",
    "corr = df_13.corr()\n",
    "corr"
   ]
  },
  {
   "cell_type": "code",
   "execution_count": null,
   "metadata": {
    "colab": {
     "base_uri": "https://localhost:8080/",
     "height": 271
    },
    "colab_type": "code",
    "id": "G-0yhvGcg0Ua",
    "outputId": "122fabcf-7c8f-4763-e53a-68e9958d5e4e"
   },
   "outputs": [
    {
     "data": {
      "image/png": "[encoded data removed]",
      "text/plain": [
       "<Figure size 432x288 with 2 Axes>"
      ]
     },
     "metadata": {
      "tags": []
     },
     "output_type": "display_data"
    }
   ],
   "source": [
    "# draw heatmap of the pairwise correlations. \n",
    "# Results indicate that 7 and 11, 10 and 1, 4 and 13 have strong positive correlation. \n",
    "# Need to exam multicollinearity\n",
    "ax = sns.heatmap(\n",
    "    corr, \n",
    "    vmin=-1, vmax=1, center=0,\n",
    "    cmap=sns.diverging_palette(20, 220, n=200),\n",
    "    square=True\n",
    ")\n",
    "ax.set_xticklabels(\n",
    "    ax.get_xticklabels(),\n",
    "    rotation=45,\n",
    "    horizontalalignment='right'\n",
    ");"
   ]
  },
  {
   "cell_type": "markdown",
   "metadata": {
    "colab_type": "text",
    "id": "ffw3FaeUyGc6"
   },
   "source": [
    "## **2.6 Uniqueness percentage in categorical fields**"
   ]
  },
  {
   "cell_type": "markdown",
   "metadata": {
    "colab_type": "text",
    "id": "jPTrPsbvzKBB"
   },
   "source": [
    "For categorical fields (Columns 14-39), we further check the counts of unique categories for each feature. The following columns showing high counts of unique categories (more than 50% uniqueness):\n",
    "- 16, 17, 20, 23, 24, 25, 26, 28, 29, 31, 34, 37\n",
    "\n",
    "Assuming a variable with 100% uniqueness, which means every row has its own category for this variable. It would not help in our modeling by distinguishing our data points to different groups. As such, we assume that a variable with high uniqueness percentage may contribute less information compared to those with lower uniqueness. As the dataset gets larger, feature dimension reduction becomes more important in order for our modeling to scale. Thus, in our feature engineering step, we would like to consider removing categorical variables with more than 50% uniqueness.  "
   ]
  },
  {
   "cell_type": "code",
   "execution_count": null,
   "metadata": {
    "colab": {
     "base_uri": "https://localhost:8080/",
     "height": 1000
    },
    "colab_type": "code",
    "id": "YUtGkiVTCNWe",
    "outputId": "8c8add77-8505-4c63-92bc-3af0e9bf5ec7"
   },
   "outputs": [
    {
     "name": "stdout",
     "output_type": "stream",
     "text": [
      "no. of data in col 14: 1136\n",
      "no. of unique in col 14: 60\n",
      "% of uniqueness 14: 5.28%\n",
      "=======\n",
      "\n",
      "no. of data in col 15: 1136\n",
      "no. of unique in col 15: 211\n",
      "% of uniqueness 15: 18.57%\n",
      "=======\n",
      "\n",
      "no. of data in col 16: 1136\n",
      "no. of unique in col 16: 863\n",
      "% of uniqueness 16: 75.97%\n",
      "=======\n",
      "\n",
      "no. of data in col 17: 1136\n",
      "no. of unique in col 17: 732\n",
      "% of uniqueness 17: 64.44%\n",
      "=======\n",
      "\n",
      "no. of data in col 18: 1136\n",
      "no. of unique in col 18: 27\n",
      "% of uniqueness 18: 2.38%\n",
      "=======\n",
      "\n",
      "no. of data in col 19: 1136\n",
      "no. of unique in col 19: 8\n",
      "% of uniqueness 19: 0.7%\n",
      "=======\n",
      "\n",
      "no. of data in col 20: 1136\n",
      "no. of unique in col 20: 785\n",
      "% of uniqueness 20: 69.1%\n",
      "=======\n",
      "\n",
      "no. of data in col 21: 1136\n",
      "no. of unique in col 21: 34\n",
      "% of uniqueness 21: 2.99%\n",
      "=======\n",
      "\n",
      "no. of data in col 22: 1136\n",
      "no. of unique in col 22: 2\n",
      "% of uniqueness 22: 0.18%\n",
      "=======\n",
      "\n",
      "no. of data in col 23: 1136\n",
      "no. of unique in col 23: 667\n",
      "% of uniqueness 23: 58.71%\n",
      "=======\n",
      "\n",
      "no. of data in col 24: 1136\n",
      "no. of unique in col 24: 629\n",
      "% of uniqueness 24: 55.37%\n",
      "=======\n",
      "\n",
      "no. of data in col 25: 1136\n",
      "no. of unique in col 25: 835\n",
      "% of uniqueness 25: 73.5%\n",
      "=======\n",
      "\n",
      "no. of data in col 26: 1136\n",
      "no. of unique in col 26: 573\n",
      "% of uniqueness 26: 50.44%\n",
      "=======\n",
      "\n",
      "no. of data in col 27: 1136\n",
      "no. of unique in col 27: 18\n",
      "% of uniqueness 27: 1.58%\n",
      "=======\n",
      "\n",
      "no. of data in col 28: 1136\n",
      "no. of unique in col 28: 618\n",
      "% of uniqueness 28: 54.4%\n",
      "=======\n",
      "\n",
      "no. of data in col 29: 1136\n",
      "no. of unique in col 29: 799\n",
      "% of uniqueness 29: 70.33%\n",
      "=======\n",
      "\n",
      "no. of data in col 30: 1136\n",
      "no. of unique in col 30: 9\n",
      "% of uniqueness 30: 0.79%\n",
      "=======\n",
      "\n",
      "no. of data in col 31: 1136\n",
      "no. of unique in col 31: 432\n",
      "% of uniqueness 31: 38.03%\n",
      "=======\n",
      "\n",
      "no. of data in col 32: 1136\n",
      "no. of unique in col 32: 136\n",
      "% of uniqueness 32: 11.97%\n",
      "=======\n",
      "\n",
      "no. of data in col 33: 1136\n",
      "no. of unique in col 33: 4\n",
      "% of uniqueness 33: 0.35%\n",
      "=======\n",
      "\n",
      "no. of data in col 34: 1136\n",
      "no. of unique in col 34: 821\n",
      "% of uniqueness 34: 72.27%\n",
      "=======\n",
      "\n",
      "no. of data in col 35: 1136\n",
      "no. of unique in col 35: 6\n",
      "% of uniqueness 35: 0.53%\n",
      "=======\n",
      "\n",
      "no. of data in col 36: 1136\n",
      "no. of unique in col 36: 12\n",
      "% of uniqueness 36: 1.06%\n",
      "=======\n",
      "\n",
      "no. of data in col 37: 1136\n",
      "no. of unique in col 37: 537\n",
      "% of uniqueness 37: 47.27%\n",
      "=======\n",
      "\n",
      "no. of data in col 38: 1136\n",
      "no. of unique in col 38: 28\n",
      "% of uniqueness 38: 2.46%\n",
      "=======\n",
      "\n",
      "no. of data in col 39: 1136\n",
      "no. of unique in col 39: 399\n",
      "% of uniqueness 39: 35.12%\n",
      "=======\n",
      "\n"
     ]
    }
   ],
   "source": [
    "# Categorical fields: columns 14-39 \n",
    "# ===> Check number of unique categories for each feature\n",
    "df_14_39 = df_nona.iloc[:,14:40]\n",
    "\n",
    "for col in range(df_14_39.shape[1]):\n",
    "    temp_df = df_14_39.iloc[:,col]\n",
    "    print(\"no. of data in col {}: {}\".format(temp_df.name, len(temp_df)))\n",
    "    print(\"no. of unique in col {}: {}\".format(temp_df.name, len(temp_df.unique())))\n",
    "    print(\"% of uniqueness {}: {}%\".format(temp_df.name, (round(len(temp_df.unique())/len(temp_df)*100,2))))\n",
    "    print(\"=======\\n\")"
   ]
  },
  {
   "cell_type": "markdown",
   "metadata": {
    "colab_type": "text",
    "id": "mdzMVKVd3HjT"
   },
   "source": [
    "## **2.7 Takeaways from EDA**  \n",
    "Our EDA was conducted on 4 toy datasets, one with 1,000 records, the other three each with 10,000 records. Even though our EDA has not been run on full dataset, we could already see some challenges in modeling based off the EDA results:\n",
    "- The numeric data are highly skewed. Log transformation should be applied.\n",
    "- The value scale among numeric variables present significant difference. Normalization/standardization should be considered. \n",
    "- There are large amount of null values in both numeric and categorical fields. We need to come up with an approach in handling these null values. Should they be removed, replaced with zeros, or replaced with mean? Should we handle numeric and categorical fields differently? \n",
    "- Both the semantics and the values of categorical variables are unknown. To build them into our model, we need to perform certain encoding in order to convert hashed strings to numbers. One hot encoding would be applied to these categorical variables. The biggest challenge we anticipate in doing so would be: \n",
    "  - when applying to full dataset, because there could be large number of categories for each variable, one hot encoding would further expand our features to a even more substantial amount. \n",
    "  - with such a considerable size of features, it could lead to memory issue at our modeling stage. \n",
    "- Feature reduction becomes a key in resolving this potential memory issue. Approaches we could take in next stage would be:\n",
    "  - Removing features with high percentage (more than 50%) of null values;\n",
    "  - Dropping similar columns, or correlated columns;\n",
    "  - Removing features with high percentage (more than 50%) of uniqueness;\n",
    "  - Running PCA on our engineered dataset to further reduce feature dimensions. \n"
   ]
  },
  {
   "cell_type": "markdown",
   "metadata": {
    "colab_type": "text",
    "id": "X_5nr__Bc1cw"
   },
   "source": [
    "# **3. Algorithm Explanation​**\n",
    "\n"
   ]
  },
  {
   "cell_type": "markdown",
   "metadata": {
    "colab_type": "text",
    "id": "O08QHfpDwQQe"
   },
   "source": [
    "## **3.1 Model selection**\n",
    "\n",
    "With the outcome variable being binary, taking on values of only 1 or 0, and EDA showing that the dataset contain both numeric and categorical fields, logistic regression model was selected. A logistic model trained on the training data will be used for prediction on the developmental set, and finally test set."
   ]
  },
  {
   "cell_type": "markdown",
   "metadata": {
    "colab_type": "text",
    "id": "kjXfGAkvxmN0"
   },
   "source": [
    "## **3.2 Set up mini toy dataset**\n",
    "In this section, we set up a mini toy dataset with similar type of fields to demonstrate the math behind the algorithm. Suppose we want to predict whether an animal is a cat (1) or dog (0) based on weight in lbs, length in inches and colour of fur. \n",
    "\n",
    "The mini toy dataset has four fields:\n",
    "* Column 1: target variable - cat (1) or dog (0)\n",
    "* Column 2: weight in lbs (numeric)\n",
    "* Column 3: length in inches (numeric) \n",
    "* Column 4: colour of fur (categorical)\n",
    "\n",
    "The following transformations will be applied to the mini toy dataset before performing logistic regression:\n",
    "*   Log transformation\n",
    "*   One hot encoding\n",
    "*   Normalization\n",
    "*   Augmentation\n",
    "\n"
   ]
  },
  {
   "cell_type": "markdown",
   "metadata": {
    "colab_type": "text",
    "id": "nKdDYLjABp_x"
   },
   "source": [
    "After one-hot encoding, the dataset would expand into 5 fields:\n",
    "\n",
    "* Column 1: target variable - cat (1) or dog (0)\n",
    "* Column 2: weight in lbs\n",
    "* Column 3: length in inches  \n",
    "* Column 4: fur_brown (1 or 0)\n",
    "* Column 5: fur_black (1 or 0)"
   ]
  },
  {
   "cell_type": "code",
   "execution_count": null,
   "metadata": {
    "colab": {
     "base_uri": "https://localhost:8080/",
     "height": 34
    },
    "colab_type": "code",
    "id": "VT3TfYk-kX4A",
    "outputId": "a2e759c2-190c-4883-c8e1-05c08481d01a"
   },
   "outputs": [
    {
     "name": "stdout",
     "output_type": "stream",
     "text": [
      "Overwriting mini_toy.txt\n"
     ]
    }
   ],
   "source": [
    "%%writefile mini_toy.txt\n",
    "1 7.9 18.1 brown \n",
    "0 44.1 20 black \n",
    "0 55.1 27.5 brown \n",
    "1 8.2 17.5 brown \n",
    "1 9.0 18.5 black "
   ]
  },
  {
   "cell_type": "markdown",
   "metadata": {
    "colab_type": "text",
    "id": "loKdnvaddHE9"
   },
   "source": [
    "## **3.3 Logistic regression math**\n",
    "\n",
    "Logistic regression is a statistical model that uses a logistic function to model a binary dependent variable <sup>(3)</sup>. Training data is used to fit a logistic regression model to obtain model coefficients. Then, the test data is put into this model to predict whether the outcome is 1 or 0, in this case, whether the animal is cat or dog.\n",
    "\n",
    "It assumes that <sup>(4)</sup>:\n",
    "* The independent variables are independent of each other so that the model has no multi-collinearity.\n",
    "* The independent variables are linearly related to the log odds.\n",
    "* Sample size is sufficiently large.\n",
    "\n"
   ]
  },
  {
   "cell_type": "markdown",
   "metadata": {
    "colab_type": "text",
    "id": "XknKLTFuBSAB"
   },
   "source": [
    "In our mini toy set, the probability that an animal is cat given a set of features would be:\n",
    "\n",
    "$$ P(y=1|x)= \\frac{1}{1 + e^{-({\\theta}\\cdot\\mathbf{x}^{'T}_i)}}$$\n",
    "\n",
    "And the probability that the animal is dog would be 1 minus the term above:\n",
    "\n",
    "$$ P(y=0|x)= 1 - \\frac{1}{1 + e^{-({\\theta}\\cdot\\mathbf{x}^{'T}_i)}}$$\n",
    "\n",
    "where $x$ refers to the features weight, length, fur_brown and fur_black.\n",
    "\n",
    "The predicted output is in the form of probability. Since we are making a binary prediction, a probability higher than 0.5 would be predicted as 1 (cat), and less than 0.5 predicted as 0 (dog). "
   ]
  },
  {
   "cell_type": "markdown",
   "metadata": {
    "colab_type": "text",
    "id": "GSqp2OI9dQCy"
   },
   "source": [
    "### (1) Loss Function\n",
    "\n",
    "Instead of mean-squared error, we use log loss as the cost function for logistic regression <sup>(5)</sup>:\n",
    "\n",
    "$$J(\\theta) = - \\frac{1}{n} \\sum_{i=1}^{n} [y^{i}\\cdot{log(h_\\theta}(x_i)) + (1-y^{i})\\cdot{log(1-h_\\theta}(x_i))]$$\n",
    "\n",
    "where, $$\\boldsymbol{h_\\theta}(x_i) = \\frac{1}{1 + e^{-(\\boldsymbol{\\theta}\\cdot\\mathbf{x}^{'T}_i)}}$$\n",
    "\n",
    "$$\n",
    "\\boldsymbol{\\theta} :=\n",
    "\\begin{bmatrix}\n",
    "\\mathbf{w}\\\\\n",
    "b\n",
    "\\end{bmatrix}\n",
    "$$\n"
   ]
  },
  {
   "cell_type": "markdown",
   "metadata": {
    "colab_type": "text",
    "id": "_6UsSK2CtgxF"
   },
   "source": [
    "### (2) Gradient Descent\n",
    "Gradient is shown as below <sup>(6)</sup>:\n",
    "$$\n",
    "g(\\theta_j) = \\frac{\\partial}{\\partial \\theta_j}J(\\theta) = \\sum_{i=1}^{n} (\\boldsymbol{h_{\\theta}}(x^i_j)-y^i)x^i_j\n",
    "$$\n",
    "\n",
    "Gradient update:\n",
    "$$\n",
    "\\theta_{j+1} = \\theta_j - \\alpha \\sum_{i=1}^{n} (\\boldsymbol{h_{\\theta}}(x^i_j)-y^i)x^i_j\n",
    "$$\n",
    "\n",
    "where $\\alpha$ is the learning rate. \n"
   ]
  },
  {
   "cell_type": "markdown",
   "metadata": {
    "colab_type": "text",
    "id": "TW24ABr2dUyr"
   },
   "source": [
    "### (3) Binary Predictions\n",
    "For binary logistic regression problem, by default, if the parameterized function $\\boldsymbol{h_\\theta}(x_i)$ result is larger than $0.5$, then $\\hat{y_i}$ is predicted as class 1; else, predicted as class 0. "
   ]
  },
  {
   "cell_type": "markdown",
   "metadata": {
    "colab_type": "text",
    "id": "TfLr8CZm-gxJ"
   },
   "source": [
    "# **4. Algorithm Implementation**\n"
   ]
  },
  {
   "cell_type": "markdown",
   "metadata": {
    "colab_type": "text",
    "id": "LbLzr1xeat2e"
   },
   "source": [
    "## **4.1 Homegrown Logistic Regression**\n",
    "\n",
    "In this section, we developed functions to implement a \"homegrown\" algorithm on the mini toy dataset:\n",
    "\n",
    "- `parse`: splits fields and target variable and to log-transform the numeric fields\n",
    "- `onehot`: one-hot encode the specified categorical fields\n",
    "- `normalize`: scale and center data around the mean of each feature\n",
    "- `AugmentRDD`: adds a bias feature of 1 at index 0 and weights to parameter function. Weights refer to model coefficients with bias at index 0\n",
    "- `LRLoss`: compute loss for logistic regression based on the input dataRDD and current model.\n",
    "- `GDUpdate`: perform one Logistic Regression gradient descent step/update.\n",
    "- `LRGDFit`: perform nSteps iterations of Logistic Regression gradient descent, track loss on train set, and return current model as well as its corresponding train loss.\n",
    "- `LRGDPredict`: perform prediction based on Logistic Regression weights.\n"
   ]
  },
  {
   "cell_type": "code",
   "execution_count": null,
   "metadata": {
    "colab": {},
    "colab_type": "code",
    "id": "Q9IlmTLqkdDy"
   },
   "outputs": [],
   "source": [
    "# load data \n",
    "data = sc.textFile(\"mini_toy.txt\")   "
   ]
  },
  {
   "cell_type": "code",
   "execution_count": null,
   "metadata": {
    "colab": {
     "base_uri": "https://localhost:8080/",
     "height": 102
    },
    "colab_type": "code",
    "id": "qJ51eboFkeL0",
    "outputId": "91bca808-b065-43c0-f0c1-12f4bc532fa0"
   },
   "outputs": [
    {
     "data": {
      "text/plain": [
       "[([2.066862759472976, 2.89591193827178, 'brown'], '1'),\n",
       " ([3.7864597824528, 2.995732273553991, 'black'], '0'),\n",
       " ([4.009149716158869, 3.3141860046725258, 'brown'], '0'),\n",
       " ([2.1041341542702074, 2.8622008809294686, 'brown'], '1'),\n",
       " ([2.1972245773362196, 2.917770732084279, 'black'], '1')]"
      ]
     },
     "execution_count": 40,
     "metadata": {
      "tags": []
     },
     "output_type": "execute_result"
    }
   ],
   "source": [
    "# helper function to \n",
    "# (1) split fields and target\n",
    "# (2) log-transform the numeric fields\n",
    "num_col = [1,2]\n",
    "str_col = [3]\n",
    "\n",
    "def parse(line):\n",
    "    \"\"\"\n",
    "    Map str row --> (tuple,of,fields) and log transform numeric fields\n",
    "    \"\"\"\n",
    "    fields = np.array(line.split(\" \"))\n",
    "    target = fields[0]\n",
    "    # initialise all_features with specified numerical fields converted to float\n",
    "    all_features = [np.log(np.float(x)) for x in fields[num_col]]\n",
    "    # add on categorical fields to maintain the same structure as original data\n",
    "    for x in str_col:\n",
    "        all_features.append(fields[x])\n",
    "    \n",
    "    return (all_features, target)\n",
    "\n",
    "data.map(parse).collect()"
   ]
  },
  {
   "cell_type": "code",
   "execution_count": null,
   "metadata": {
    "colab": {},
    "colab_type": "code",
    "id": "z3eSiPhik3jn"
   },
   "outputs": [],
   "source": [
    "# category dict with column index as keys, and categories as values\n",
    "cat_dict = {}\n",
    "cat_dict['2']=('black','brown')"
   ]
  },
  {
   "cell_type": "code",
   "execution_count": null,
   "metadata": {
    "colab": {
     "base_uri": "https://localhost:8080/",
     "height": 102
    },
    "colab_type": "code",
    "id": "wpXyGEtc9l6p",
    "outputId": "5cfab830-f2d0-4c06-bb81-523c4565206f"
   },
   "outputs": [
    {
     "data": {
      "text/plain": [
       "[(array([2.06686276, 2.89591194, 0.        , 1.        ]), 1),\n",
       " (array([3.78645978, 2.99573227, 1.        , 0.        ]), 0),\n",
       " (array([4.00914972, 3.314186  , 0.        , 1.        ]), 0),\n",
       " (array([2.10413415, 2.86220088, 0.        , 1.        ]), 1),\n",
       " (array([2.19722458, 2.91777073, 1.        , 0.        ]), 1)]"
      ]
     },
     "execution_count": 42,
     "metadata": {
      "tags": []
     },
     "output_type": "execute_result"
    }
   ],
   "source": [
    "# helper function for one-hot encoding\n",
    "def onehot(line):\n",
    "    \"\"\"\n",
    "    one-hot encode the categorical fields \n",
    "    \"\"\"\n",
    "    all_features, target = line\n",
    "    # retrieve categories\n",
    "    for col in str_col:\n",
    "        cat = cat_dict[str(col-1)]\n",
    "    \n",
    "    for i in range(len(cat)):\n",
    "        if all_features[col-1] == cat[i]:\n",
    "            enc = 1;\n",
    "        else:\n",
    "            enc = 0;\n",
    "\n",
    "        all_features.append(enc)\n",
    "    # remove str column\n",
    "    del all_features[2]\n",
    "\n",
    "    return (np.array(all_features), int(target))\n",
    "\n",
    "data.map(parse) \\\n",
    "    .map(onehot) \\\n",
    "    .collect()"
   ]
  },
  {
   "cell_type": "code",
   "execution_count": null,
   "metadata": {
    "colab": {},
    "colab_type": "code",
    "id": "oRfSteDQwanM"
   },
   "outputs": [],
   "source": [
    "# log-transform and one-hot encode minitoy\n",
    "miniRDDCached = data.map(parse).map(onehot).cache()\n"
   ]
  },
  {
   "cell_type": "code",
   "execution_count": null,
   "metadata": {
    "colab": {},
    "colab_type": "code",
    "id": "Y84XB2om-jFi"
   },
   "outputs": [],
   "source": [
    "def normalize(dataRDD):\n",
    "    \"\"\"\n",
    "    Scale and center data around the mean of each feature.\n",
    "    dataRDD - each record is a tuple of (features_array, y)\n",
    "    \"\"\"\n",
    "    featureMeans = dataRDD.map(lambda x: x[0]).mean()\n",
    "    featureStdev = np.sqrt(dataRDD.map(lambda x: x[0]).variance())\n",
    "    normedRDD = dataRDD.map(lambda x: ((x[0] - featureMeans)/featureStdev, x[1]))\n",
    "    \n",
    "    return normedRDD"
   ]
  },
  {
   "cell_type": "code",
   "execution_count": null,
   "metadata": {
    "colab": {},
    "colab_type": "code",
    "id": "0iUwW_dUo8Ad"
   },
   "outputs": [],
   "source": [
    "normedRDD = normalize(miniRDDCached).cache()"
   ]
  },
  {
   "cell_type": "code",
   "execution_count": null,
   "metadata": {
    "colab": {},
    "colab_type": "code",
    "id": "i5zqelpQYPKE"
   },
   "outputs": [],
   "source": [
    "def AugmentRDD(dataRDD, W):\n",
    "    \"\"\"\n",
    "    Augment the dataRDD by adding bias feature of 1 at index 0\n",
    "    Plug in weights (model, W) to parameter function\n",
    "    Args:\n",
    "        dataRDD - each record is a tuple of (features_array, y)\n",
    "        W       - (array) model coefficients with bias at index 0\n",
    "    Return:\n",
    "        augmentedData - each record is a tuple of ((parameter function value, feature_array with bias), y)\n",
    "    \"\"\"\n",
    "    # add a bias 'feature' of 1 at index 0\n",
    "    augmentedData = dataRDD.map(lambda x: (np.append([1.0], x[0]), x[1]))\\\n",
    "                           .map(lambda x: ((1 / (1 + np.exp(-(W.dot(x[0])))), x[0]), x[1]))\\\n",
    "                           .cache()\n",
    "    \n",
    "    return augmentedData"
   ]
  },
  {
   "cell_type": "code",
   "execution_count": null,
   "metadata": {
    "colab": {},
    "colab_type": "code",
    "id": "UkOqzROGnb46"
   },
   "outputs": [],
   "source": [
    "def LRLoss(augmentedData, W):\n",
    "    \"\"\"\n",
    "    Compute loss for logistic regression.\n",
    "    Args:\n",
    "        augmentedData - each record is a tuple of ((parameter function values, features_array with bias), y) \n",
    "        W             - (array) model coefficients with bias at index 0\n",
    "    \"\"\"\n",
    "    # calculate loss based on formula\n",
    "    loss = augmentedData.map(lambda x: -(x[1]*(np.log(x[0][0]))+(1-x[1])*(np.log(x[0][0]))))\\\n",
    "                        .mean()\n",
    "\n",
    "    return loss"
   ]
  },
  {
   "cell_type": "code",
   "execution_count": null,
   "metadata": {
    "colab": {},
    "colab_type": "code",
    "id": "uSGC4eFYngf8"
   },
   "outputs": [],
   "source": [
    "def GDUpdate(augmentedData, W, learningRate = 0.1):\n",
    "    \"\"\"\n",
    "    Perform one Logistic Regression gradient descent step/update.\n",
    "    Args:\n",
    "        augmentedData - records are tuples of ((parameter function values, features_array with bias), y) \n",
    "        W       - (array) model coefficients with bias at index 0\n",
    "    Returns:\n",
    "        new_model - (array) updated coefficients, bias at index 0\n",
    "    \"\"\"\n",
    "    # calculate gradient\n",
    "    grad = augmentedData.map(lambda x: (x[0][0] - x[1])*x[0][1])\\\n",
    "                        .sum()\n",
    "    \n",
    "    # update model weights by gradient\n",
    "    new_model = W - learningRate * grad\n",
    "    \n",
    "    return new_model"
   ]
  },
  {
   "cell_type": "code",
   "execution_count": null,
   "metadata": {
    "colab": {},
    "colab_type": "code",
    "id": "E19OyQ45Ybf5"
   },
   "outputs": [],
   "source": [
    "def LRGDFit(normed_trainRDD, wInit, nSteps=20, learningRate=0.1, verbose=False):\n",
    "    \"\"\"\n",
    "    Perform nSteps iterations of Logistic Regression gradient descent \n",
    "    Track loss on train set\n",
    "    Return current model, its corresponding train loss. \n",
    "    \"\"\"\n",
    "    # initialize lists to track model performance\n",
    "    train_history, model_history = [], []\n",
    "    \n",
    "    # perform n updates & compute test and train loss after each\n",
    "    model = wInit\n",
    "    \n",
    "    for idx in range(nSteps): \n",
    "        \n",
    "        augmentedData = AugmentRDD(normed_trainRDD, model)\n",
    "        model = GDUpdate(augmentedData, model, learningRate)\n",
    "        training_loss = LRLoss(augmentedData, model) \n",
    "        \n",
    "        # keep track of train loss and models\n",
    "        train_history.append(training_loss)\n",
    "        model_history.append(model)\n",
    "        \n",
    "        # console output if desired\n",
    "        if verbose:\n",
    "            print(\"----------\")\n",
    "            print(f\"STEP: {idx+1}\")\n",
    "            print(f\"training loss: {training_loss}\")\n",
    "            print(f\"Model: {[round(w,3) for w in model]}\")\n",
    "            \n",
    "    return model, training_loss\n",
    "  "
   ]
  },
  {
   "cell_type": "code",
   "execution_count": null,
   "metadata": {
    "colab": {},
    "colab_type": "code",
    "id": "ffJ2fIKPgQj9"
   },
   "outputs": [],
   "source": [
    "def LRGDPredict(normed_dataRDD, W):\n",
    "    \"\"\"\n",
    "    Perform prediction based on Logistic Regression weights.\n",
    "    Args:\n",
    "        dataRDD - RDD with test records that are tuples of (features_array, y)\n",
    "        W       - (array) final model coefficients with bias at index 0\n",
    "    Returns:\n",
    "        preds - (array) predicted labels for each test record ((predicted labels, features_array), true label)\n",
    "    \"\"\"\n",
    "    # run AugmentRDD function on dataRDD\n",
    "    augmentedData = AugmentRDD(normed_dataRDD, W)\n",
    "    \n",
    "    # calculate parameterized function based on final weights (W) and then make predictions\n",
    "    preds = augmentedData.map(lambda x: ((1 if x[0][0]>0.5 else 0), x[1]))\\\n",
    "                         .cache()\n",
    "    \n",
    "    # calculate loss based on final weights (W)\n",
    "    test_loss = LRLoss(augmentedData, W)\n",
    "    \n",
    "    return preds, test_loss"
   ]
  },
  {
   "cell_type": "code",
   "execution_count": null,
   "metadata": {
    "colab": {
     "base_uri": "https://localhost:8080/",
     "height": 51
    },
    "colab_type": "code",
    "id": "Ue--K_z7rY7n",
    "outputId": "5cdb3596-cb77-4328-b6d0-c0eb3db4d2ef"
   },
   "outputs": [
    {
     "name": "stdout",
     "output_type": "stream",
     "text": [
      "Mean: 0.6\n",
      "Variance: 0.24000000000000005\n"
     ]
    }
   ],
   "source": [
    "# Calculate mean and variance of the target variable for initial model\n",
    "meanTarget = miniRDDCached.map(lambda x: x[1]).mean()\n",
    "varTarget = miniRDDCached.map(lambda x: x[1]).variance()\n",
    "print(f\"Mean: {meanTarget}\")\n",
    "print(f\"Variance: {varTarget}\")"
   ]
  },
  {
   "cell_type": "code",
   "execution_count": null,
   "metadata": {
    "colab": {},
    "colab_type": "code",
    "id": "VM0FE4hdtHwM"
   },
   "outputs": [],
   "source": [
    "# Structure: meanTarget, features of one-hot encoded array set to 0\n",
    "BASELINE = np.array([0, 0, 0, 0, 0])"
   ]
  },
  {
   "cell_type": "code",
   "execution_count": null,
   "metadata": {
    "colab": {
     "base_uri": "https://localhost:8080/",
     "height": 1000
    },
    "colab_type": "code",
    "id": "GiVadJ41bzBy",
    "outputId": "eae6c9b8-6e2d-416a-d1c5-7fadf86d67f0"
   },
   "outputs": [
    {
     "name": "stdout",
     "output_type": "stream",
     "text": [
      "----------\n",
      "STEP: 1\n",
      "training loss: 0.6931471805599452\n",
      "Model: [0.001, -0.005, -0.004, -0.001, 0.001]\n",
      "----------\n",
      "STEP: 2\n",
      "training loss: 0.6926563292808673\n",
      "Model: [0.002, -0.01, -0.008, -0.002, 0.002]\n",
      "----------\n",
      "STEP: 3\n",
      "training loss: 0.6921848596225832\n",
      "Model: [0.003, -0.015, -0.011, -0.002, 0.002]\n",
      "----------\n",
      "STEP: 4\n",
      "training loss: 0.6917325210938765\n",
      "Model: [0.004, -0.019, -0.015, -0.003, 0.003]\n",
      "----------\n",
      "STEP: 5\n",
      "training loss: 0.6912990650568742\n",
      "Model: [0.005, -0.024, -0.019, -0.004, 0.004]\n",
      "----------\n",
      "STEP: 6\n",
      "training loss: 0.690884244756879\n",
      "Model: [0.006, -0.029, -0.023, -0.005, 0.005]\n",
      "----------\n",
      "STEP: 7\n",
      "training loss: 0.6904878153504592\n",
      "Model: [0.007, -0.034, -0.026, -0.006, 0.006]\n",
      "----------\n",
      "STEP: 8\n",
      "training loss: 0.6901095339318346\n",
      "Model: [0.008, -0.038, -0.03, -0.006, 0.006]\n",
      "----------\n",
      "STEP: 9\n",
      "training loss: 0.6897491595575902\n",
      "Model: [0.009, -0.043, -0.034, -0.007, 0.007]\n",
      "----------\n",
      "STEP: 10\n",
      "training loss: 0.6894064532697566\n",
      "Model: [0.01, -0.048, -0.038, -0.008, 0.008]\n",
      "----------\n",
      "STEP: 11\n",
      "training loss: 0.6890811781172881\n",
      "Model: [0.011, -0.053, -0.041, -0.009, 0.009]\n",
      "----------\n",
      "STEP: 12\n",
      "training loss: 0.6887730991759792\n",
      "Model: [0.012, -0.057, -0.045, -0.01, 0.01]\n",
      "----------\n",
      "STEP: 13\n",
      "training loss: 0.6884819835668534\n",
      "Model: [0.013, -0.062, -0.048, -0.01, 0.01]\n",
      "----------\n",
      "STEP: 14\n",
      "training loss: 0.688207600473062\n",
      "Model: [0.014, -0.066, -0.052, -0.011, 0.011]\n",
      "----------\n",
      "STEP: 15\n",
      "training loss: 0.6879497211553287\n",
      "Model: [0.015, -0.071, -0.056, -0.012, 0.012]\n",
      "----------\n",
      "STEP: 16\n",
      "training loss: 0.6877081189659802\n",
      "Model: [0.016, -0.076, -0.059, -0.013, 0.013]\n",
      "----------\n",
      "STEP: 17\n",
      "training loss: 0.6874825693615938\n",
      "Model: [0.017, -0.08, -0.063, -0.013, 0.013]\n",
      "----------\n",
      "STEP: 18\n",
      "training loss: 0.6872728499143086\n",
      "Model: [0.018, -0.085, -0.066, -0.014, 0.014]\n",
      "----------\n",
      "STEP: 19\n",
      "training loss: 0.6870787403218255\n",
      "Model: [0.019, -0.089, -0.07, -0.015, 0.015]\n",
      "----------\n",
      "STEP: 20\n",
      "training loss: 0.6869000224161442\n",
      "Model: [0.02, -0.094, -0.073, -0.016, 0.016]\n"
     ]
    }
   ],
   "source": [
    "# Experiment with different nSteps = 5, 10, 15, 20, and learning rate = 0.1, 0.01, 0.002\n",
    "model, train_loss = LRGDFit(normedRDD, BASELINE, 20, 0.002, verbose=True)\n",
    " "
   ]
  },
  {
   "cell_type": "markdown",
   "metadata": {
    "colab_type": "text",
    "id": "w_MiIx2QKuej"
   },
   "source": [
    "## **4.2 Feature Engineering**\n",
    "\n",
    "As seen from the EDA, the actual dataset has many null values and other quirks that has to be handled before a logistic regression model can be trained. The following section details the steps leading to training a model. We revert to using the 1000 point dataset for this purpose. "
   ]
  },
  {
   "cell_type": "markdown",
   "metadata": {
    "colab_type": "text",
    "id": "IVg1XzByadRw"
   },
   "source": [
    "### (1) Drop columns with majority rows as null and columns with more than 50% uniqueness\n",
    "\n",
    "As observed in EDA, these columns have many missing values and therefore, will not be as useful as other columns in the model: 1, 10, 12, 32, 33, 35, 38, 39.\n",
    "\n",
    "Also, these categorical columns have high uniqueness in the number of categories as explained in Section 2.6 and will thus be dropped from the dataset so that the approach is scalable: 16, 17, 20, 23, 24, 25, 26, 28, 29, 31, 34, 37."
   ]
  },
  {
   "cell_type": "code",
   "execution_count": null,
   "metadata": {
    "colab": {
     "base_uri": "https://localhost:8080/",
     "height": 459
    },
    "colab_type": "code",
    "id": "fTa9tA-QKhIu",
    "outputId": "a446aa4f-8d87-4797-b9d5-165aa2bab7ff"
   },
   "outputs": [
    {
     "name": "stdout",
     "output_type": "stream",
     "text": [
      "+---+---+----+----+-----+----+----+---+----+----+----+--------+--------+--------+--------+--------+--------+--------+--------+--------+\n",
      "|  0|  2|   3|   4|    5|   6|   7|  8|   9|  11|  13|      14|      15|      18|      19|      21|      22|      27|      30|      36|\n",
      "+---+---+----+----+-----+----+----+---+----+----+----+--------+--------+--------+--------+--------+--------+--------+--------+--------+\n",
      "|  0|  5|   8|  32|  766|  93|  25| 47| 326|   4|  44|05db9164|38a947a1|25c83c98|7e0ccccf|f504a6f4|a73ee510|b28479f6|e5ba7672|423fab69|\n",
      "|  0|  0|null|null| 1571|   5|   7|  5|  13|   3|null|05db9164|09e68b86|25c83c98|7e0ccccf|5b392875|a73ee510|1adce6ef|e5ba7672|32c7478e|\n",
      "|  0| -1|null|null|18086|  86|   1|  1|  45|   1|null|8cf07265|3f0d3f28|384874ce|fe6b92e5|5b392875|a73ee510|32813e21|e5ba7672|3a171ecb|\n",
      "|  0|331|  32|  75|  560| 253| 177| 22|1965|  22| 207|f473b8dc|942f9a8d|25c83c98|7e0ccccf|0b153874|a73ee510|1adce6ef|27c07bd6|32c7478e|\n",
      "|  1| 10|  47|  12|    2|   2|   1| 15|  60|   1|   2|05db9164|38d50e09|f281d2a7|fbad5c96|5b392875|a73ee510|b28479f6|d4bb7bd8|32c7478e|\n",
      "|  0| 10|   5|  12|  568|  15|   3| 11|  12|   1|  12|05db9164|90081f33|384874ce|fe6b92e5|0b153874|a73ee510|b28479f6|07c540c4|32c7478e|\n",
      "|  0|  1|null|null|16428|null|null|  5|null|null|null|05db9164|dc1def19|4cf72387|fe6b92e5|0b153874|a73ee510|ad1cc976|e5ba7672|c3dc6cef|\n",
      "|  0|  3|  11|   2| 2059|  63|   7| 39|  63|   1|   2|5a9ed9b0|78ccd99e|384874ce|3bf701e7|37e4aa92|a73ee510|f862f261|e5ba7672|3a171ecb|\n",
      "|  0| 25|   3|   7|15719|  44|  25|  7|  42|   1|   7|05db9164|09e68b86|25c83c98|7e0ccccf|5b392875|a73ee510|b28479f6|e5ba7672|32c7478e|\n",
      "|  0|  1|   3|   9| 2727|  13|  19| 11|  67|   2|   9|68fd1e64|207b2d81|25c83c98|    null|37e4aa92|a73ee510|07d13a8f|3486227d|32c7478e|\n",
      "|  0|  4|  16|   6|10075|null|   0|  6|  16|   0|   6|05db9164|a0e12995|25c83c98|fe6b92e5|5b392875|a73ee510|b28479f6|776ce399|3a171ecb|\n",
      "|  0|  0|   6|   9|    0|   1| 197| 18| 191|  12|   1|05db9164|95e2d337|25c83c98|7e0ccccf|56563555|a73ee510|07d13a8f|8efede7f|423fab69|\n",
      "|  0| 19|  19|   4| 1496|  31|   1| 18|  18|   1|   4|68fd1e64|3ab4d7f5|25c83c98|    null|0b153874|a73ee510|dcd762ee|d4bb7bd8|3a171ecb|\n",
      "|  0| -1|null|null|13865| 133|   5| 11| 100|   2|null|05db9164|a796837e|25c83c98|7e0ccccf|0b153874|a73ee510|07d13a8f|e5ba7672|32c7478e|\n",
      "|  0| 28|  12|  17| 2836| 279|   3| 15| 249|   2|  38|5a9ed9b0|08d6d899|25c83c98|fe6b92e5|0b153874|a73ee510|b28479f6|3486227d|32c7478e|\n",
      "|  0|  0|   1|   3|    4|   1|   5| 25|  65|   2|   0|be589b51|207b2d81|4cf72387|    null|f504a6f4|a73ee510|64c94865|3486227d|32c7478e|\n",
      "|  0|  3|null|null|35526|null|   0|  4|   2|   0|null|8cf07265|38a947a1|25c83c98|3bf701e7|0b153874|a73ee510|b28479f6|1e88c74f|32c7478e|\n",
      "|  0|307|   1|   1| null|null|   0|  1|   4|   0|   1|05db9164|8db5bc37|4cf72387|fe6b92e5|f504a6f4|7cc72ec2|64c94865|2005abd1|be7c41b4|\n",
      "|  0|485|  65|   7|   80| 140|   4|  7| 128|   1|   7|05db9164|1cfdf714|384874ce|fbad5c96|0b153874|a73ee510|1adce6ef|e5ba7672|423fab69|\n",
      "|  0| -1|null|null|25489|null|null|  8|null|null|null|05db9164|b961056b|4cf72387|3bf701e7|0b153874|a73ee510|b28479f6|07c540c4|32c7478e|\n",
      "+---+---+----+----+-----+----+----+---+----+----+----+--------+--------+--------+--------+--------+--------+--------+--------+--------+\n",
      "only showing top 20 rows\n",
      "\n"
     ]
    }
   ],
   "source": [
    "# drop columns with more than 50% null value ['1','10','12','32','33','35','38','39']\n",
    "# drop columns with more than 50% uniqueness ['16', '17', '20', '23', '24', '25', '26', '28', '29', '31', '34', '37']\n",
    "drop_col = ['1','10','12','32','33','35','38','39','16','17','20','23','24','25','26','28','29','31','34','37']\n",
    "toy_df_choose = toy_df.drop(*drop_col)\n",
    "toy_df_choose.show()"
   ]
  },
  {
   "cell_type": "markdown",
   "metadata": {
    "colab_type": "text",
    "id": "VJ1jkO8teyY1"
   },
   "source": [
    "### (2) Convert string to float for numeric variables\n",
    "\n",
    "All fields in the dataset are string-format and have to be changed to float for numeric fields for model-training."
   ]
  },
  {
   "cell_type": "code",
   "execution_count": null,
   "metadata": {
    "colab": {
     "base_uri": "https://localhost:8080/",
     "height": 391
    },
    "colab_type": "code",
    "id": "XSmepTZ6KlV5",
    "outputId": "37f84fcc-4feb-4093-c8c8-d21e95aab619"
   },
   "outputs": [
    {
     "name": "stdout",
     "output_type": "stream",
     "text": [
      "root\n",
      " |-- 0: string (nullable = true)\n",
      " |-- 2: float (nullable = true)\n",
      " |-- 3: float (nullable = true)\n",
      " |-- 4: float (nullable = true)\n",
      " |-- 5: float (nullable = true)\n",
      " |-- 6: float (nullable = true)\n",
      " |-- 7: float (nullable = true)\n",
      " |-- 8: float (nullable = true)\n",
      " |-- 9: float (nullable = true)\n",
      " |-- 11: float (nullable = true)\n",
      " |-- 13: float (nullable = true)\n",
      " |-- 14: string (nullable = true)\n",
      " |-- 15: string (nullable = true)\n",
      " |-- 18: string (nullable = true)\n",
      " |-- 19: string (nullable = true)\n",
      " |-- 21: string (nullable = true)\n",
      " |-- 22: string (nullable = true)\n",
      " |-- 27: string (nullable = true)\n",
      " |-- 30: string (nullable = true)\n",
      " |-- 36: string (nullable = true)\n",
      "\n"
     ]
    }
   ],
   "source": [
    "# covert string to float for numeric values\n",
    "for i in toy_df_choose.columns[1:11]:\n",
    "    toy_df_choose = toy_df_choose.withColumn(i, toy_df_choose[i].cast('float'))\n",
    "toy_df_choose.printSchema()"
   ]
  },
  {
   "cell_type": "markdown",
   "metadata": {
    "colab_type": "text",
    "id": "gyh8oEX2e7L-"
   },
   "source": [
    "### (3) Run log(x+1) transformations on numeric variables\n",
    "\n",
    "A log transformation is applied at this step to remove the high skewness in the data observed in EDA. Instead of log(x), log(x+1) is used to handle datapoints that have a value of 0."
   ]
  },
  {
   "cell_type": "code",
   "execution_count": null,
   "metadata": {
    "colab": {
     "base_uri": "https://localhost:8080/",
     "height": 479
    },
    "colab_type": "code",
    "id": "mOH9US5UY-h-",
    "outputId": "1b544df5-5a7b-4d5c-d357-9ec028b823ae"
   },
   "outputs": [
    {
     "name": "stdout",
     "output_type": "stream",
     "text": [
      "+---+-----+----+----+-------+-----+-----+----+------+----+-----+--------+--------+--------+--------+--------+--------+--------+--------+--------+------------------+------------------+------------------+------------------+------------------+------------------+------------------+------------------+------------------+------------------+\n",
      "|  0|    2|   3|   4|      5|    6|    7|   8|     9|  11|   13|      14|      15|      18|      19|      21|      22|      27|      30|      36|             log_2|             log_3|             log_4|             log_5|             log_6|             log_7|             log_8|             log_9|            log_11|            log_13|\n",
      "+---+-----+----+----+-------+-----+-----+----+------+----+-----+--------+--------+--------+--------+--------+--------+--------+--------+--------+------------------+------------------+------------------+------------------+------------------+------------------+------------------+------------------+------------------+------------------+\n",
      "|  0|  5.0| 8.0|32.0|  766.0| 93.0| 25.0|47.0| 326.0| 4.0| 44.0|05db9164|38a947a1|25c83c98|7e0ccccf|f504a6f4|a73ee510|b28479f6|e5ba7672|423fab69| 1.791759469228055|2.1972245773362196|3.4965075614664802| 6.642486801367256| 4.543294782270004| 3.258096538021482| 3.871201010907891|5.7899601708972535|1.6094379124341003|3.8066624897703196|\n",
      "|  0|  0.0|null|null| 1571.0|  5.0|  7.0| 5.0|  13.0| 3.0| null|05db9164|09e68b86|25c83c98|7e0ccccf|5b392875|a73ee510|1adce6ef|e5ba7672|32c7478e|               0.0|              null|              null| 7.360103972989152| 1.791759469228055|2.0794415416798357| 1.791759469228055|2.6390573296152584|1.3862943611198906|              null|\n",
      "|  0| -1.0|null|null|18086.0| 86.0|  1.0| 1.0|  45.0| 1.0| null|8cf07265|3f0d3f28|384874ce|fe6b92e5|5b392875|a73ee510|32813e21|e5ba7672|3a171ecb|              null|              null|              null| 9.802948727157515| 4.465908118654584|0.6931471805599453|0.6931471805599453| 3.828641396489095|0.6931471805599453|              null|\n",
      "|  0|331.0|32.0|75.0|  560.0|253.0|177.0|22.0|1965.0|22.0|207.0|f473b8dc|942f9a8d|25c83c98|7e0ccccf|0b153874|a73ee510|1adce6ef|27c07bd6|32c7478e| 5.805134968916488|3.4965075614664802| 4.330733340286331| 6.329720905522696| 5.537334267018537| 5.181783550292085|3.1354942159291497| 7.583756300707112|3.1354942159291497| 5.337538079701318|\n",
      "|  1| 10.0|47.0|12.0|    2.0|  2.0|  1.0|15.0|  60.0| 1.0|  2.0|05db9164|38d50e09|f281d2a7|fbad5c96|5b392875|a73ee510|b28479f6|d4bb7bd8|32c7478e|2.3978952727983707| 3.871201010907891|2.5649493574615367|1.0986122886681098|1.0986122886681098|0.6931471805599453| 2.772588722239781| 4.110873864173311|0.6931471805599453|1.0986122886681098|\n",
      "|  0| 10.0| 5.0|12.0|  568.0| 15.0|  3.0|11.0|  12.0| 1.0| 12.0|05db9164|90081f33|384874ce|fe6b92e5|0b153874|a73ee510|b28479f6|07c540c4|32c7478e|2.3978952727983707| 1.791759469228055|2.5649493574615367| 6.343880434126331| 2.772588722239781|1.3862943611198906|2.4849066497880004|2.5649493574615367|0.6931471805599453|2.5649493574615367|\n",
      "|  0|  1.0|null|null|16428.0| null| null| 5.0|  null|null| null|05db9164|dc1def19|4cf72387|fe6b92e5|0b153874|a73ee510|ad1cc976|e5ba7672|c3dc6cef|0.6931471805599453|              null|              null| 9.706803344906337|              null|              null| 1.791759469228055|              null|              null|              null|\n",
      "|  0|  3.0|11.0| 2.0| 2059.0| 63.0|  7.0|39.0|  63.0| 1.0|  2.0|5a9ed9b0|78ccd99e|384874ce|3bf701e7|37e4aa92|a73ee510|f862f261|e5ba7672|3a171ecb|1.3862943611198906|2.4849066497880004|1.0986122886681098| 7.630461261783627|4.1588830833596715|2.0794415416798357|3.6888794541139363|4.1588830833596715|0.6931471805599453|1.0986122886681098|\n",
      "|  0| 25.0| 3.0| 7.0|15719.0| 44.0| 25.0| 7.0|  42.0| 1.0|  7.0|05db9164|09e68b86|25c83c98|7e0ccccf|5b392875|a73ee510|b28479f6|e5ba7672|32c7478e| 3.258096538021482|1.3862943611198906|2.0794415416798357| 9.662689065983198|3.8066624897703196| 3.258096538021482|2.0794415416798357|3.7612001156935624|0.6931471805599453|2.0794415416798357|\n",
      "|  0|  1.0| 3.0| 9.0| 2727.0| 13.0| 19.0|11.0|  67.0| 2.0|  9.0|68fd1e64|207b2d81|25c83c98|    null|37e4aa92|a73ee510|07d13a8f|3486227d|32c7478e|0.6931471805599453|1.3862943611198906| 2.302585092994046| 7.911324018963353|2.6390573296152584| 2.995732273553991|2.4849066497880004| 4.219507705176107|1.0986122886681098| 2.302585092994046|\n",
      "|  0|  4.0|16.0| 6.0|10075.0| null|  0.0| 6.0|  16.0| 0.0|  6.0|05db9164|a0e12995|25c83c98|fe6b92e5|5b392875|a73ee510|b28479f6|776ce399|3a171ecb|1.6094379124341003| 2.833213344056216|1.9459101490553132|   9.2179116374725|              null|               0.0|1.9459101490553132| 2.833213344056216|               0.0|1.9459101490553132|\n",
      "|  0|  0.0| 6.0| 9.0|    0.0|  1.0|197.0|18.0| 191.0|12.0|  1.0|05db9164|95e2d337|25c83c98|7e0ccccf|56563555|a73ee510|07d13a8f|8efede7f|423fab69|               0.0|1.9459101490553132| 2.302585092994046|               0.0|0.6931471805599453| 5.288267030694535|2.9444389791664403|5.2574953720277815|2.5649493574615367|0.6931471805599453|\n",
      "|  0| 19.0|19.0| 4.0| 1496.0| 31.0|  1.0|18.0|  18.0| 1.0|  4.0|68fd1e64|3ab4d7f5|25c83c98|    null|0b153874|a73ee510|dcd762ee|d4bb7bd8|3a171ecb| 2.995732273553991| 2.995732273553991|1.6094379124341003| 7.311218384419629|3.4657359027997265|0.6931471805599453|2.9444389791664403|2.9444389791664403|0.6931471805599453|1.6094379124341003|\n",
      "|  0| -1.0|null|null|13865.0|133.0|  5.0|11.0| 100.0| 2.0| null|05db9164|a796837e|25c83c98|7e0ccccf|0b153874|a73ee510|07d13a8f|e5ba7672|32c7478e|              null|              null|              null| 9.537195079502435| 4.897839799950911| 1.791759469228055|2.4849066497880004|  4.61512051684126|1.0986122886681098|              null|\n",
      "|  0| 28.0|12.0|17.0| 2836.0|279.0|  3.0|15.0| 249.0| 2.0| 38.0|5a9ed9b0|08d6d899|25c83c98|fe6b92e5|0b153874|a73ee510|b28479f6|3486227d|32c7478e| 3.367295829986474|2.5649493574615367|2.8903717578961645| 7.950502434808851| 5.634789603169249|1.3862943611198906| 2.772588722239781| 5.521460917862246|1.0986122886681098|3.6635616461296463|\n",
      "|  0|  0.0| 1.0| 3.0|    4.0|  1.0|  5.0|25.0|  65.0| 2.0|  0.0|be589b51|207b2d81|4cf72387|    null|f504a6f4|a73ee510|64c94865|3486227d|32c7478e|               0.0|0.6931471805599453|1.3862943611198906|1.6094379124341003|0.6931471805599453| 1.791759469228055| 3.258096538021482| 4.189654742026425|1.0986122886681098|               0.0|\n",
      "|  0|  3.0|null|null|35526.0| null|  0.0| 4.0|   2.0| 0.0| null|8cf07265|38a947a1|25c83c98|3bf701e7|0b153874|a73ee510|b28479f6|1e88c74f|32c7478e|1.3862943611198906|              null|              null|10.478048249762029|              null|               0.0|1.6094379124341003|1.0986122886681098|               0.0|              null|\n",
      "|  0|307.0| 1.0| 1.0|   null| null|  0.0| 1.0|   4.0| 0.0|  1.0|05db9164|8db5bc37|4cf72387|fe6b92e5|f504a6f4|7cc72ec2|64c94865|2005abd1|be7c41b4| 5.730099782973574|0.6931471805599453|0.6931471805599453|              null|              null|               0.0|0.6931471805599453|1.6094379124341003|               0.0|0.6931471805599453|\n",
      "|  0|485.0|65.0| 7.0|   80.0|140.0|  4.0| 7.0| 128.0| 1.0|  7.0|05db9164|1cfdf714|384874ce|fbad5c96|0b153874|a73ee510|1adce6ef|e5ba7672|423fab69| 6.186208623900494| 4.189654742026425|2.0794415416798357| 4.394449154672439| 4.948759890378168|1.6094379124341003|2.0794415416798357| 4.859812404361672|0.6931471805599453|2.0794415416798357|\n",
      "|  0| -1.0|null|null|25489.0| null| null| 8.0|  null|null| null|05db9164|b961056b|4cf72387|3bf701e7|0b153874|a73ee510|b28479f6|07c540c4|32c7478e|              null|              null|              null|10.146041497370161|              null|              null|2.1972245773362196|              null|              null|              null|\n",
      "+---+-----+----+----+-------+-----+-----+----+------+----+-----+--------+--------+--------+--------+--------+--------+--------+--------+--------+------------------+------------------+------------------+------------------+------------------+------------------+------------------+------------------+------------------+------------------+\n",
      "only showing top 20 rows\n",
      "\n"
     ]
    }
   ],
   "source": [
    "# run log transformations on numeric variables \n",
    "from pyspark.sql.functions import log\n",
    "\n",
    "num_cols = ['2','3','4','5','6','7','8','9','11','13']\n",
    " \n",
    "log_num_toy = toy_df_choose\n",
    "for col in num_cols:\n",
    "    log_num_toy = log_num_toy.withColumn(\"log_{}\".format(col),log(toy_df_choose[col]+1))\n",
    "\n",
    "log_num_toy.show()"
   ]
  },
  {
   "cell_type": "markdown",
   "metadata": {
    "colab_type": "text",
    "id": "F8N_6ERafRqp"
   },
   "source": [
    "### (4) Fill null with mean for numeric variables\n",
    "\n",
    "Data points with missing values are filled with mean instead of 0 to avoid skewing the data. The row is not ignored because it may contain useful features in other columns."
   ]
  },
  {
   "cell_type": "code",
   "execution_count": null,
   "metadata": {
    "colab": {
     "base_uri": "https://localhost:8080/",
     "height": 479
    },
    "colab_type": "code",
    "id": "Gd3mOMiBKlTE",
    "outputId": "19ff2349-049d-4c55-d2df-18cfc327407c"
   },
   "outputs": [
    {
     "name": "stdout",
     "output_type": "stream",
     "text": [
      "+---+-----+----+----+-------+-----+-----+----+------+----+-----+--------+--------+--------+--------+--------+--------+--------+--------+--------+------------------+------------------+------------------+------------------+------------------+------------------+------------------+------------------+------------------+------------------+------------------+------------------+------------------+------------------+------------------+------------------+------------------+------------------+------------------+------------------+\n",
      "|  0|    2|   3|   4|      5|    6|    7|   8|     9|  11|   13|      14|      15|      18|      19|      21|      22|      27|      30|      36|             log_2|             log_3|             log_4|             log_5|             log_6|             log_7|             log_8|             log_9|            log_11|            log_13|     log_5_imputed|     log_9_imputed|     log_2_imputed|     log_8_imputed|     log_4_imputed|    log_13_imputed|     log_6_imputed|     log_7_imputed|     log_3_imputed|    log_11_imputed|\n",
      "+---+-----+----+----+-------+-----+-----+----+------+----+-----+--------+--------+--------+--------+--------+--------+--------+--------+--------+------------------+------------------+------------------+------------------+------------------+------------------+------------------+------------------+------------------+------------------+------------------+------------------+------------------+------------------+------------------+------------------+------------------+------------------+------------------+------------------+\n",
      "|  0|  5.0| 8.0|32.0|  766.0| 93.0| 25.0|47.0| 326.0| 4.0| 44.0|05db9164|38a947a1|25c83c98|7e0ccccf|f504a6f4|a73ee510|b28479f6|e5ba7672|423fab69| 1.791759469228055|2.1972245773362196|3.4965075614664802| 6.642486801367256| 4.543294782270004| 3.258096538021482| 3.871201010907891|5.7899601708972535|1.6094379124341003|3.8066624897703196| 6.642486801367256|5.7899601708972535| 1.791759469228055| 3.871201010907891|3.4965075614664802|3.8066624897703196| 4.543294782270004| 3.258096538021482|2.1972245773362196|1.6094379124341003|\n",
      "|  0|  0.0|null|null| 1571.0|  5.0|  7.0| 5.0|  13.0| 3.0| null|05db9164|09e68b86|25c83c98|7e0ccccf|5b392875|a73ee510|1adce6ef|e5ba7672|32c7478e|               0.0|              null|              null| 7.360103972989152| 1.791759469228055|2.0794415416798357| 1.791759469228055|2.6390573296152584|1.3862943611198906|              null| 7.360103972989152|2.6390573296152584|               0.0| 1.791759469228055|1.7041792570817396| 1.712744875772556| 1.791759469228055|2.0794415416798357|2.1407438041148916|1.3862943611198906|\n",
      "|  0| -1.0|null|null|18086.0| 86.0|  1.0| 1.0|  45.0| 1.0| null|8cf07265|3f0d3f28|384874ce|fe6b92e5|5b392875|a73ee510|32813e21|e5ba7672|3a171ecb|              null|              null|              null| 9.802948727157515| 4.465908118654584|0.6931471805599453|0.6931471805599453| 3.828641396489095|0.6931471805599453|              null| 9.802948727157515| 3.828641396489095|2.3878927248048827|0.6931471805599453|1.7041792570817396| 1.712744875772556| 4.465908118654584|0.6931471805599453|2.1407438041148916|0.6931471805599453|\n",
      "|  0|331.0|32.0|75.0|  560.0|253.0|177.0|22.0|1965.0|22.0|207.0|f473b8dc|942f9a8d|25c83c98|7e0ccccf|0b153874|a73ee510|1adce6ef|27c07bd6|32c7478e| 5.805134968916488|3.4965075614664802| 4.330733340286331| 6.329720905522696| 5.537334267018537| 5.181783550292085|3.1354942159291497| 7.583756300707112|3.1354942159291497| 5.337538079701318| 6.329720905522696| 7.583756300707112| 5.805134968916488|3.1354942159291497| 4.330733340286331| 5.337538079701318| 5.537334267018537| 5.181783550292085|3.4965075614664802|3.1354942159291497|\n",
      "|  1| 10.0|47.0|12.0|    2.0|  2.0|  1.0|15.0|  60.0| 1.0|  2.0|05db9164|38d50e09|f281d2a7|fbad5c96|5b392875|a73ee510|b28479f6|d4bb7bd8|32c7478e|2.3978952727983707| 3.871201010907891|2.5649493574615367|1.0986122886681098|1.0986122886681098|0.6931471805599453| 2.772588722239781| 4.110873864173311|0.6931471805599453|1.0986122886681098|1.0986122886681098| 4.110873864173311|2.3978952727983707| 2.772588722239781|2.5649493574615367|1.0986122886681098|1.0986122886681098|0.6931471805599453| 3.871201010907891|0.6931471805599453|\n",
      "|  0| 10.0| 5.0|12.0|  568.0| 15.0|  3.0|11.0|  12.0| 1.0| 12.0|05db9164|90081f33|384874ce|fe6b92e5|0b153874|a73ee510|b28479f6|07c540c4|32c7478e|2.3978952727983707| 1.791759469228055|2.5649493574615367| 6.343880434126331| 2.772588722239781|1.3862943611198906|2.4849066497880004|2.5649493574615367|0.6931471805599453|2.5649493574615367| 6.343880434126331|2.5649493574615367|2.3978952727983707|2.4849066497880004|2.5649493574615367|2.5649493574615367| 2.772588722239781|1.3862943611198906| 1.791759469228055|0.6931471805599453|\n",
      "|  0|  1.0|null|null|16428.0| null| null| 5.0|  null|null| null|05db9164|dc1def19|4cf72387|fe6b92e5|0b153874|a73ee510|ad1cc976|e5ba7672|c3dc6cef|0.6931471805599453|              null|              null| 9.706803344906337|              null|              null| 1.791759469228055|              null|              null|              null| 9.706803344906337|3.5397040608283685|0.6931471805599453| 1.791759469228055|1.7041792570817396| 1.712744875772556| 3.355940559060732|1.7258457796093518|2.1407438041148916|0.9739185128118837|\n",
      "|  0|  3.0|11.0| 2.0| 2059.0| 63.0|  7.0|39.0|  63.0| 1.0|  2.0|5a9ed9b0|78ccd99e|384874ce|3bf701e7|37e4aa92|a73ee510|f862f261|e5ba7672|3a171ecb|1.3862943611198906|2.4849066497880004|1.0986122886681098| 7.630461261783627|4.1588830833596715|2.0794415416798357|3.6888794541139363|4.1588830833596715|0.6931471805599453|1.0986122886681098| 7.630461261783627|4.1588830833596715|1.3862943611198906|3.6888794541139363|1.0986122886681098|1.0986122886681098|4.1588830833596715|2.0794415416798357|2.4849066497880004|0.6931471805599453|\n",
      "|  0| 25.0| 3.0| 7.0|15719.0| 44.0| 25.0| 7.0|  42.0| 1.0|  7.0|05db9164|09e68b86|25c83c98|7e0ccccf|5b392875|a73ee510|b28479f6|e5ba7672|32c7478e| 3.258096538021482|1.3862943611198906|2.0794415416798357| 9.662689065983198|3.8066624897703196| 3.258096538021482|2.0794415416798357|3.7612001156935624|0.6931471805599453|2.0794415416798357| 9.662689065983198|3.7612001156935624| 3.258096538021482|2.0794415416798357|2.0794415416798357|2.0794415416798357|3.8066624897703196| 3.258096538021482|1.3862943611198906|0.6931471805599453|\n",
      "|  0|  1.0| 3.0| 9.0| 2727.0| 13.0| 19.0|11.0|  67.0| 2.0|  9.0|68fd1e64|207b2d81|25c83c98|    null|37e4aa92|a73ee510|07d13a8f|3486227d|32c7478e|0.6931471805599453|1.3862943611198906| 2.302585092994046| 7.911324018963353|2.6390573296152584| 2.995732273553991|2.4849066497880004| 4.219507705176107|1.0986122886681098| 2.302585092994046| 7.911324018963353| 4.219507705176107|0.6931471805599453|2.4849066497880004| 2.302585092994046| 2.302585092994046|2.6390573296152584| 2.995732273553991|1.3862943611198906|1.0986122886681098|\n",
      "|  0|  4.0|16.0| 6.0|10075.0| null|  0.0| 6.0|  16.0| 0.0|  6.0|05db9164|a0e12995|25c83c98|fe6b92e5|5b392875|a73ee510|b28479f6|776ce399|3a171ecb|1.6094379124341003| 2.833213344056216|1.9459101490553132|   9.2179116374725|              null|               0.0|1.9459101490553132| 2.833213344056216|               0.0|1.9459101490553132|   9.2179116374725| 2.833213344056216|1.6094379124341003|1.9459101490553132|1.9459101490553132|1.9459101490553132| 3.355940559060732|               0.0| 2.833213344056216|               0.0|\n",
      "|  0|  0.0| 6.0| 9.0|    0.0|  1.0|197.0|18.0| 191.0|12.0|  1.0|05db9164|95e2d337|25c83c98|7e0ccccf|56563555|a73ee510|07d13a8f|8efede7f|423fab69|               0.0|1.9459101490553132| 2.302585092994046|               0.0|0.6931471805599453| 5.288267030694535|2.9444389791664403|5.2574953720277815|2.5649493574615367|0.6931471805599453|               0.0|5.2574953720277815|               0.0|2.9444389791664403| 2.302585092994046|0.6931471805599453|0.6931471805599453| 5.288267030694535|1.9459101490553132|2.5649493574615367|\n",
      "|  0| 19.0|19.0| 4.0| 1496.0| 31.0|  1.0|18.0|  18.0| 1.0|  4.0|68fd1e64|3ab4d7f5|25c83c98|    null|0b153874|a73ee510|dcd762ee|d4bb7bd8|3a171ecb| 2.995732273553991| 2.995732273553991|1.6094379124341003| 7.311218384419629|3.4657359027997265|0.6931471805599453|2.9444389791664403|2.9444389791664403|0.6931471805599453|1.6094379124341003| 7.311218384419629|2.9444389791664403| 2.995732273553991|2.9444389791664403|1.6094379124341003|1.6094379124341003|3.4657359027997265|0.6931471805599453| 2.995732273553991|0.6931471805599453|\n",
      "|  0| -1.0|null|null|13865.0|133.0|  5.0|11.0| 100.0| 2.0| null|05db9164|a796837e|25c83c98|7e0ccccf|0b153874|a73ee510|07d13a8f|e5ba7672|32c7478e|              null|              null|              null| 9.537195079502435| 4.897839799950911| 1.791759469228055|2.4849066497880004|  4.61512051684126|1.0986122886681098|              null| 9.537195079502435|  4.61512051684126|2.3878927248048827|2.4849066497880004|1.7041792570817396| 1.712744875772556| 4.897839799950911| 1.791759469228055|2.1407438041148916|1.0986122886681098|\n",
      "|  0| 28.0|12.0|17.0| 2836.0|279.0|  3.0|15.0| 249.0| 2.0| 38.0|5a9ed9b0|08d6d899|25c83c98|fe6b92e5|0b153874|a73ee510|b28479f6|3486227d|32c7478e| 3.367295829986474|2.5649493574615367|2.8903717578961645| 7.950502434808851| 5.634789603169249|1.3862943611198906| 2.772588722239781| 5.521460917862246|1.0986122886681098|3.6635616461296463| 7.950502434808851| 5.521460917862246| 3.367295829986474| 2.772588722239781|2.8903717578961645|3.6635616461296463| 5.634789603169249|1.3862943611198906|2.5649493574615367|1.0986122886681098|\n",
      "|  0|  0.0| 1.0| 3.0|    4.0|  1.0|  5.0|25.0|  65.0| 2.0|  0.0|be589b51|207b2d81|4cf72387|    null|f504a6f4|a73ee510|64c94865|3486227d|32c7478e|               0.0|0.6931471805599453|1.3862943611198906|1.6094379124341003|0.6931471805599453| 1.791759469228055| 3.258096538021482| 4.189654742026425|1.0986122886681098|               0.0|1.6094379124341003| 4.189654742026425|               0.0| 3.258096538021482|1.3862943611198906|               0.0|0.6931471805599453| 1.791759469228055|0.6931471805599453|1.0986122886681098|\n",
      "|  0|  3.0|null|null|35526.0| null|  0.0| 4.0|   2.0| 0.0| null|8cf07265|38a947a1|25c83c98|3bf701e7|0b153874|a73ee510|b28479f6|1e88c74f|32c7478e|1.3862943611198906|              null|              null|10.478048249762029|              null|               0.0|1.6094379124341003|1.0986122886681098|               0.0|              null|10.478048249762029|1.0986122886681098|1.3862943611198906|1.6094379124341003|1.7041792570817396| 1.712744875772556| 3.355940559060732|               0.0|2.1407438041148916|               0.0|\n",
      "|  0|307.0| 1.0| 1.0|   null| null|  0.0| 1.0|   4.0| 0.0|  1.0|05db9164|8db5bc37|4cf72387|fe6b92e5|f504a6f4|7cc72ec2|64c94865|2005abd1|be7c41b4| 5.730099782973574|0.6931471805599453|0.6931471805599453|              null|              null|               0.0|0.6931471805599453|1.6094379124341003|               0.0|0.6931471805599453| 7.185557654482239|1.6094379124341003| 5.730099782973574|0.6931471805599453|0.6931471805599453|0.6931471805599453| 3.355940559060732|               0.0|0.6931471805599453|               0.0|\n",
      "|  0|485.0|65.0| 7.0|   80.0|140.0|  4.0| 7.0| 128.0| 1.0|  7.0|05db9164|1cfdf714|384874ce|fbad5c96|0b153874|a73ee510|1adce6ef|e5ba7672|423fab69| 6.186208623900494| 4.189654742026425|2.0794415416798357| 4.394449154672439| 4.948759890378168|1.6094379124341003|2.0794415416798357| 4.859812404361672|0.6931471805599453|2.0794415416798357| 4.394449154672439| 4.859812404361672| 6.186208623900494|2.0794415416798357|2.0794415416798357|2.0794415416798357| 4.948759890378168|1.6094379124341003| 4.189654742026425|0.6931471805599453|\n",
      "|  0| -1.0|null|null|25489.0| null| null| 8.0|  null|null| null|05db9164|b961056b|4cf72387|3bf701e7|0b153874|a73ee510|b28479f6|07c540c4|32c7478e|              null|              null|              null|10.146041497370161|              null|              null|2.1972245773362196|              null|              null|              null|10.146041497370161|3.5397040608283685|2.3878927248048827|2.1972245773362196|1.7041792570817396| 1.712744875772556| 3.355940559060732|1.7258457796093518|2.1407438041148916|0.9739185128118837|\n",
      "+---+-----+----+----+-------+-----+-----+----+------+----+-----+--------+--------+--------+--------+--------+--------+--------+--------+--------+------------------+------------------+------------------+------------------+------------------+------------------+------------------+------------------+------------------+------------------+------------------+------------------+------------------+------------------+------------------+------------------+------------------+------------------+------------------+------------------+\n",
      "only showing top 20 rows\n",
      "\n"
     ]
    }
   ],
   "source": [
    "# Fill null with mean \n",
    "from pyspark.ml.feature import Imputer\n",
    "\n",
    "imputer = Imputer(\n",
    "    inputCols=log_num_toy.columns[-10:], \n",
    "    outputCols=[\"{}_imputed\".format(c) for c in log_num_toy.columns[-10:]]\n",
    ")\n",
    "\n",
    "toy_df_impute = imputer.fit(log_num_toy).transform(log_num_toy)\n",
    "\n",
    "toy_df_impute.show()"
   ]
  },
  {
   "cell_type": "markdown",
   "metadata": {
    "colab_type": "text",
    "id": "y8_UZohBfXsP"
   },
   "source": [
    "### (5) Fill null with zero for categorical variables\n",
    "\n",
    "Since categorical variables do not have a mean, they will be filled with 0, which becomes another category."
   ]
  },
  {
   "cell_type": "code",
   "execution_count": null,
   "metadata": {
    "colab": {
     "base_uri": "https://localhost:8080/",
     "height": 479
    },
    "colab_type": "code",
    "id": "VweI_GdBKlQD",
    "outputId": "cb2910c8-06fe-41e4-83fd-4d00c1880d6c"
   },
   "outputs": [
    {
     "name": "stdout",
     "output_type": "stream",
     "text": [
      "+---+-----+----+----+-------+-----+-----+----+------+----+-----+--------+--------+--------+--------+--------+--------+--------+--------+--------+------------------+------------------+------------------+------------------+------------------+------------------+------------------+------------------+------------------+------------------+------------------+------------------+------------------+------------------+------------------+------------------+------------------+------------------+------------------+------------------+\n",
      "|  0|    2|   3|   4|      5|    6|    7|   8|     9|  11|   13|      14|      15|      18|      19|      21|      22|      27|      30|      36|             log_2|             log_3|             log_4|             log_5|             log_6|             log_7|             log_8|             log_9|            log_11|            log_13|     log_5_imputed|     log_9_imputed|     log_2_imputed|     log_8_imputed|     log_4_imputed|    log_13_imputed|     log_6_imputed|     log_7_imputed|     log_3_imputed|    log_11_imputed|\n",
      "+---+-----+----+----+-------+-----+-----+----+------+----+-----+--------+--------+--------+--------+--------+--------+--------+--------+--------+------------------+------------------+------------------+------------------+------------------+------------------+------------------+------------------+------------------+------------------+------------------+------------------+------------------+------------------+------------------+------------------+------------------+------------------+------------------+------------------+\n",
      "|  0|  5.0| 8.0|32.0|  766.0| 93.0| 25.0|47.0| 326.0| 4.0| 44.0|05db9164|38a947a1|25c83c98|7e0ccccf|f504a6f4|a73ee510|b28479f6|e5ba7672|423fab69| 1.791759469228055|2.1972245773362196|3.4965075614664802| 6.642486801367256| 4.543294782270004| 3.258096538021482| 3.871201010907891|5.7899601708972535|1.6094379124341003|3.8066624897703196| 6.642486801367256|5.7899601708972535| 1.791759469228055| 3.871201010907891|3.4965075614664802|3.8066624897703196| 4.543294782270004| 3.258096538021482|2.1972245773362196|1.6094379124341003|\n",
      "|  0|  0.0|null|null| 1571.0|  5.0|  7.0| 5.0|  13.0| 3.0| null|05db9164|09e68b86|25c83c98|7e0ccccf|5b392875|a73ee510|1adce6ef|e5ba7672|32c7478e|               0.0|              null|              null| 7.360103972989152| 1.791759469228055|2.0794415416798357| 1.791759469228055|2.6390573296152584|1.3862943611198906|              null| 7.360103972989152|2.6390573296152584|               0.0| 1.791759469228055|1.7041792570817396| 1.712744875772556| 1.791759469228055|2.0794415416798357|2.1407438041148916|1.3862943611198906|\n",
      "|  0| -1.0|null|null|18086.0| 86.0|  1.0| 1.0|  45.0| 1.0| null|8cf07265|3f0d3f28|384874ce|fe6b92e5|5b392875|a73ee510|32813e21|e5ba7672|3a171ecb|              null|              null|              null| 9.802948727157515| 4.465908118654584|0.6931471805599453|0.6931471805599453| 3.828641396489095|0.6931471805599453|              null| 9.802948727157515| 3.828641396489095|2.3878927248048827|0.6931471805599453|1.7041792570817396| 1.712744875772556| 4.465908118654584|0.6931471805599453|2.1407438041148916|0.6931471805599453|\n",
      "|  0|331.0|32.0|75.0|  560.0|253.0|177.0|22.0|1965.0|22.0|207.0|f473b8dc|942f9a8d|25c83c98|7e0ccccf|0b153874|a73ee510|1adce6ef|27c07bd6|32c7478e| 5.805134968916488|3.4965075614664802| 4.330733340286331| 6.329720905522696| 5.537334267018537| 5.181783550292085|3.1354942159291497| 7.583756300707112|3.1354942159291497| 5.337538079701318| 6.329720905522696| 7.583756300707112| 5.805134968916488|3.1354942159291497| 4.330733340286331| 5.337538079701318| 5.537334267018537| 5.181783550292085|3.4965075614664802|3.1354942159291497|\n",
      "|  1| 10.0|47.0|12.0|    2.0|  2.0|  1.0|15.0|  60.0| 1.0|  2.0|05db9164|38d50e09|f281d2a7|fbad5c96|5b392875|a73ee510|b28479f6|d4bb7bd8|32c7478e|2.3978952727983707| 3.871201010907891|2.5649493574615367|1.0986122886681098|1.0986122886681098|0.6931471805599453| 2.772588722239781| 4.110873864173311|0.6931471805599453|1.0986122886681098|1.0986122886681098| 4.110873864173311|2.3978952727983707| 2.772588722239781|2.5649493574615367|1.0986122886681098|1.0986122886681098|0.6931471805599453| 3.871201010907891|0.6931471805599453|\n",
      "|  0| 10.0| 5.0|12.0|  568.0| 15.0|  3.0|11.0|  12.0| 1.0| 12.0|05db9164|90081f33|384874ce|fe6b92e5|0b153874|a73ee510|b28479f6|07c540c4|32c7478e|2.3978952727983707| 1.791759469228055|2.5649493574615367| 6.343880434126331| 2.772588722239781|1.3862943611198906|2.4849066497880004|2.5649493574615367|0.6931471805599453|2.5649493574615367| 6.343880434126331|2.5649493574615367|2.3978952727983707|2.4849066497880004|2.5649493574615367|2.5649493574615367| 2.772588722239781|1.3862943611198906| 1.791759469228055|0.6931471805599453|\n",
      "|  0|  1.0|null|null|16428.0| null| null| 5.0|  null|null| null|05db9164|dc1def19|4cf72387|fe6b92e5|0b153874|a73ee510|ad1cc976|e5ba7672|c3dc6cef|0.6931471805599453|              null|              null| 9.706803344906337|              null|              null| 1.791759469228055|              null|              null|              null| 9.706803344906337|3.5397040608283685|0.6931471805599453| 1.791759469228055|1.7041792570817396| 1.712744875772556| 3.355940559060732|1.7258457796093518|2.1407438041148916|0.9739185128118837|\n",
      "|  0|  3.0|11.0| 2.0| 2059.0| 63.0|  7.0|39.0|  63.0| 1.0|  2.0|5a9ed9b0|78ccd99e|384874ce|3bf701e7|37e4aa92|a73ee510|f862f261|e5ba7672|3a171ecb|1.3862943611198906|2.4849066497880004|1.0986122886681098| 7.630461261783627|4.1588830833596715|2.0794415416798357|3.6888794541139363|4.1588830833596715|0.6931471805599453|1.0986122886681098| 7.630461261783627|4.1588830833596715|1.3862943611198906|3.6888794541139363|1.0986122886681098|1.0986122886681098|4.1588830833596715|2.0794415416798357|2.4849066497880004|0.6931471805599453|\n",
      "|  0| 25.0| 3.0| 7.0|15719.0| 44.0| 25.0| 7.0|  42.0| 1.0|  7.0|05db9164|09e68b86|25c83c98|7e0ccccf|5b392875|a73ee510|b28479f6|e5ba7672|32c7478e| 3.258096538021482|1.3862943611198906|2.0794415416798357| 9.662689065983198|3.8066624897703196| 3.258096538021482|2.0794415416798357|3.7612001156935624|0.6931471805599453|2.0794415416798357| 9.662689065983198|3.7612001156935624| 3.258096538021482|2.0794415416798357|2.0794415416798357|2.0794415416798357|3.8066624897703196| 3.258096538021482|1.3862943611198906|0.6931471805599453|\n",
      "|  0|  1.0| 3.0| 9.0| 2727.0| 13.0| 19.0|11.0|  67.0| 2.0|  9.0|68fd1e64|207b2d81|25c83c98|       0|37e4aa92|a73ee510|07d13a8f|3486227d|32c7478e|0.6931471805599453|1.3862943611198906| 2.302585092994046| 7.911324018963353|2.6390573296152584| 2.995732273553991|2.4849066497880004| 4.219507705176107|1.0986122886681098| 2.302585092994046| 7.911324018963353| 4.219507705176107|0.6931471805599453|2.4849066497880004| 2.302585092994046| 2.302585092994046|2.6390573296152584| 2.995732273553991|1.3862943611198906|1.0986122886681098|\n",
      "|  0|  4.0|16.0| 6.0|10075.0| null|  0.0| 6.0|  16.0| 0.0|  6.0|05db9164|a0e12995|25c83c98|fe6b92e5|5b392875|a73ee510|b28479f6|776ce399|3a171ecb|1.6094379124341003| 2.833213344056216|1.9459101490553132|   9.2179116374725|              null|               0.0|1.9459101490553132| 2.833213344056216|               0.0|1.9459101490553132|   9.2179116374725| 2.833213344056216|1.6094379124341003|1.9459101490553132|1.9459101490553132|1.9459101490553132| 3.355940559060732|               0.0| 2.833213344056216|               0.0|\n",
      "|  0|  0.0| 6.0| 9.0|    0.0|  1.0|197.0|18.0| 191.0|12.0|  1.0|05db9164|95e2d337|25c83c98|7e0ccccf|56563555|a73ee510|07d13a8f|8efede7f|423fab69|               0.0|1.9459101490553132| 2.302585092994046|               0.0|0.6931471805599453| 5.288267030694535|2.9444389791664403|5.2574953720277815|2.5649493574615367|0.6931471805599453|               0.0|5.2574953720277815|               0.0|2.9444389791664403| 2.302585092994046|0.6931471805599453|0.6931471805599453| 5.288267030694535|1.9459101490553132|2.5649493574615367|\n",
      "|  0| 19.0|19.0| 4.0| 1496.0| 31.0|  1.0|18.0|  18.0| 1.0|  4.0|68fd1e64|3ab4d7f5|25c83c98|       0|0b153874|a73ee510|dcd762ee|d4bb7bd8|3a171ecb| 2.995732273553991| 2.995732273553991|1.6094379124341003| 7.311218384419629|3.4657359027997265|0.6931471805599453|2.9444389791664403|2.9444389791664403|0.6931471805599453|1.6094379124341003| 7.311218384419629|2.9444389791664403| 2.995732273553991|2.9444389791664403|1.6094379124341003|1.6094379124341003|3.4657359027997265|0.6931471805599453| 2.995732273553991|0.6931471805599453|\n",
      "|  0| -1.0|null|null|13865.0|133.0|  5.0|11.0| 100.0| 2.0| null|05db9164|a796837e|25c83c98|7e0ccccf|0b153874|a73ee510|07d13a8f|e5ba7672|32c7478e|              null|              null|              null| 9.537195079502435| 4.897839799950911| 1.791759469228055|2.4849066497880004|  4.61512051684126|1.0986122886681098|              null| 9.537195079502435|  4.61512051684126|2.3878927248048827|2.4849066497880004|1.7041792570817396| 1.712744875772556| 4.897839799950911| 1.791759469228055|2.1407438041148916|1.0986122886681098|\n",
      "|  0| 28.0|12.0|17.0| 2836.0|279.0|  3.0|15.0| 249.0| 2.0| 38.0|5a9ed9b0|08d6d899|25c83c98|fe6b92e5|0b153874|a73ee510|b28479f6|3486227d|32c7478e| 3.367295829986474|2.5649493574615367|2.8903717578961645| 7.950502434808851| 5.634789603169249|1.3862943611198906| 2.772588722239781| 5.521460917862246|1.0986122886681098|3.6635616461296463| 7.950502434808851| 5.521460917862246| 3.367295829986474| 2.772588722239781|2.8903717578961645|3.6635616461296463| 5.634789603169249|1.3862943611198906|2.5649493574615367|1.0986122886681098|\n",
      "|  0|  0.0| 1.0| 3.0|    4.0|  1.0|  5.0|25.0|  65.0| 2.0|  0.0|be589b51|207b2d81|4cf72387|       0|f504a6f4|a73ee510|64c94865|3486227d|32c7478e|               0.0|0.6931471805599453|1.3862943611198906|1.6094379124341003|0.6931471805599453| 1.791759469228055| 3.258096538021482| 4.189654742026425|1.0986122886681098|               0.0|1.6094379124341003| 4.189654742026425|               0.0| 3.258096538021482|1.3862943611198906|               0.0|0.6931471805599453| 1.791759469228055|0.6931471805599453|1.0986122886681098|\n",
      "|  0|  3.0|null|null|35526.0| null|  0.0| 4.0|   2.0| 0.0| null|8cf07265|38a947a1|25c83c98|3bf701e7|0b153874|a73ee510|b28479f6|1e88c74f|32c7478e|1.3862943611198906|              null|              null|10.478048249762029|              null|               0.0|1.6094379124341003|1.0986122886681098|               0.0|              null|10.478048249762029|1.0986122886681098|1.3862943611198906|1.6094379124341003|1.7041792570817396| 1.712744875772556| 3.355940559060732|               0.0|2.1407438041148916|               0.0|\n",
      "|  0|307.0| 1.0| 1.0|   null| null|  0.0| 1.0|   4.0| 0.0|  1.0|05db9164|8db5bc37|4cf72387|fe6b92e5|f504a6f4|7cc72ec2|64c94865|2005abd1|be7c41b4| 5.730099782973574|0.6931471805599453|0.6931471805599453|              null|              null|               0.0|0.6931471805599453|1.6094379124341003|               0.0|0.6931471805599453| 7.185557654482239|1.6094379124341003| 5.730099782973574|0.6931471805599453|0.6931471805599453|0.6931471805599453| 3.355940559060732|               0.0|0.6931471805599453|               0.0|\n",
      "|  0|485.0|65.0| 7.0|   80.0|140.0|  4.0| 7.0| 128.0| 1.0|  7.0|05db9164|1cfdf714|384874ce|fbad5c96|0b153874|a73ee510|1adce6ef|e5ba7672|423fab69| 6.186208623900494| 4.189654742026425|2.0794415416798357| 4.394449154672439| 4.948759890378168|1.6094379124341003|2.0794415416798357| 4.859812404361672|0.6931471805599453|2.0794415416798357| 4.394449154672439| 4.859812404361672| 6.186208623900494|2.0794415416798357|2.0794415416798357|2.0794415416798357| 4.948759890378168|1.6094379124341003| 4.189654742026425|0.6931471805599453|\n",
      "|  0| -1.0|null|null|25489.0| null| null| 8.0|  null|null| null|05db9164|b961056b|4cf72387|3bf701e7|0b153874|a73ee510|b28479f6|07c540c4|32c7478e|              null|              null|              null|10.146041497370161|              null|              null|2.1972245773362196|              null|              null|              null|10.146041497370161|3.5397040608283685|2.3878927248048827|2.1972245773362196|1.7041792570817396| 1.712744875772556| 3.355940559060732|1.7258457796093518|2.1407438041148916|0.9739185128118837|\n",
      "+---+-----+----+----+-------+-----+-----+----+------+----+-----+--------+--------+--------+--------+--------+--------+--------+--------+--------+------------------+------------------+------------------+------------------+------------------+------------------+------------------+------------------+------------------+------------------+------------------+------------------+------------------+------------------+------------------+------------------+------------------+------------------+------------------+------------------+\n",
      "only showing top 20 rows\n",
      "\n"
     ]
    }
   ],
   "source": [
    "# fill null with '0' for categorical variables\n",
    "toy_df_impute = toy_df_impute.na.fill('0')\n",
    "toy_df_impute.show()"
   ]
  },
  {
   "cell_type": "markdown",
   "metadata": {
    "colab_type": "text",
    "id": "1oZwJF-Tfd2W"
   },
   "source": [
    "### (6) Perform one-hot encoding for categorical variables\n",
    "\n",
    "Next, we one-hot encode the categorical variables so that the categories become a form which can be used by the regression model. We make use of StringIndexer from the pyspark ml library which indicates the category index of that datapoint. For example, the value of 2.0 in the first row of column 36_indexed tells us that the datapoint corresponds to the second category in the list of categories in column 36. \n",
    "\n",
    "Then, OneHotEstimater one-hot encodes each specified column in a sparse way. For the same example, the first row of 36_indexed_encoded yields (11, [2], [1.0]) which means that there are 11 categories in column 36, the datapoint belongs to second category. \n",
    "\n",
    "Finally, VectorAssembler is used to collect all the encoded features into a vector. (313, [0, 210, 236...]) would mean that there is a total of 313 features expanded from encoding the categorical features and the first row is 1.0 for category 0, 210, 236 etc."
   ]
  },
  {
   "cell_type": "code",
   "execution_count": null,
   "metadata": {
    "colab": {
     "base_uri": "https://localhost:8080/",
     "height": 479
    },
    "colab_type": "code",
    "id": "d4rlT-SAKlNL",
    "outputId": "61a095f6-657c-4614-b578-ca09207125a5"
   },
   "outputs": [
    {
     "name": "stdout",
     "output_type": "stream",
     "text": [
      "+---+-----+----+----+-------+-----+-----+----+------+----+-----+--------+--------+--------+--------+--------+--------+--------+--------+--------+------------------+------------------+------------------+------------------+------------------+------------------+------------------+------------------+------------------+------------------+------------------+------------------+------------------+------------------+------------------+------------------+------------------+------------------+------------------+------------------+----------+----------+----------+----------+----------+----------+----------+----------+------------------+------------------+------------------+------------------+------------------+------------------+------------------+------------------+--------------------+\n",
      "|  0|    2|   3|   4|      5|    6|    7|   8|     9|  11|   13|      14|      15|      18|      19|      21|      22|      27|      30|      36|             log_2|             log_3|             log_4|             log_5|             log_6|             log_7|             log_8|             log_9|            log_11|            log_13|     log_5_imputed|     log_9_imputed|     log_2_imputed|     log_8_imputed|     log_4_imputed|    log_13_imputed|     log_6_imputed|     log_7_imputed|     log_3_imputed|    log_11_imputed|15_indexed|18_indexed|19_indexed|21_indexed|22_indexed|27_indexed|30_indexed|36_indexed|36_indexed_encoded|19_indexed_encoded|15_indexed_encoded|18_indexed_encoded|27_indexed_encoded|22_indexed_encoded|30_indexed_encoded|21_indexed_encoded|         CatFeatures|\n",
      "+---+-----+----+----+-------+-----+-----+----+------+----+-----+--------+--------+--------+--------+--------+--------+--------+--------+--------+------------------+------------------+------------------+------------------+------------------+------------------+------------------+------------------+------------------+------------------+------------------+------------------+------------------+------------------+------------------+------------------+------------------+------------------+------------------+------------------+----------+----------+----------+----------+----------+----------+----------+----------+------------------+------------------+------------------+------------------+------------------+------------------+------------------+------------------+--------------------+\n",
      "|  0|  5.0| 8.0|32.0|  766.0| 93.0| 25.0|47.0| 326.0| 4.0| 44.0|05db9164|38a947a1|25c83c98|7e0ccccf|f504a6f4|a73ee510|b28479f6|e5ba7672|423fab69| 1.791759469228055|2.1972245773362196|3.4965075614664802| 6.642486801367256| 4.543294782270004| 3.258096538021482| 3.871201010907891|5.7899601708972535|1.6094379124341003|3.8066624897703196| 6.642486801367256|5.7899601708972535| 1.791759469228055| 3.871201010907891|3.4965075614664802|3.8066624897703196| 4.543294782270004| 3.258096538021482|2.1972245773362196|1.6094379124341003|       0.0|       0.0|       0.0|      15.0|       0.0|       1.0|       0.0|       2.0|    (11,[2],[1.0])|     (7,[0],[1.0])|   (210,[0],[1.0])|    (26,[0],[1.0])|    (17,[1],[1.0])|     (1,[0],[1.0])|     (8,[0],[1.0])|   (33,[15],[1.0])|(313,[0,210,236,2...|\n",
      "|  0|  0.0|null|null| 1571.0|  5.0|  7.0| 5.0|  13.0| 3.0| null|05db9164|09e68b86|25c83c98|7e0ccccf|5b392875|a73ee510|1adce6ef|e5ba7672|32c7478e|               0.0|              null|              null| 7.360103972989152| 1.791759469228055|2.0794415416798357| 1.791759469228055|2.6390573296152584|1.3862943611198906|              null| 7.360103972989152|2.6390573296152584|               0.0| 1.791759469228055|1.7041792570817396| 1.712744875772556| 1.791759469228055|2.0794415416798357|2.1407438041148916|1.3862943611198906|       5.0|       0.0|       0.0|       1.0|       0.0|       2.0|       0.0|       0.0|    (11,[0],[1.0])|     (7,[0],[1.0])|   (210,[5],[1.0])|    (26,[0],[1.0])|    (17,[2],[1.0])|     (1,[0],[1.0])|     (8,[0],[1.0])|    (33,[1],[1.0])|(313,[5,210,236,2...|\n",
      "|  0| -1.0|null|null|18086.0| 86.0|  1.0| 1.0|  45.0| 1.0| null|8cf07265|3f0d3f28|384874ce|fe6b92e5|5b392875|a73ee510|32813e21|e5ba7672|3a171ecb|              null|              null|              null| 9.802948727157515| 4.465908118654584|0.6931471805599453|0.6931471805599453| 3.828641396489095|0.6931471805599453|              null| 9.802948727157515| 3.828641396489095|2.3878927248048827|0.6931471805599453|1.7041792570817396| 1.712744875772556| 4.465908118654584|0.6931471805599453|2.1407438041148916|0.6931471805599453|      40.0|       3.0|       2.0|       1.0|       0.0|       9.0|       0.0|       1.0|    (11,[1],[1.0])|     (7,[2],[1.0])|  (210,[40],[1.0])|    (26,[3],[1.0])|    (17,[9],[1.0])|     (1,[0],[1.0])|     (8,[0],[1.0])|    (33,[1],[1.0])|(313,[40,213,238,...|\n",
      "|  0|331.0|32.0|75.0|  560.0|253.0|177.0|22.0|1965.0|22.0|207.0|f473b8dc|942f9a8d|25c83c98|7e0ccccf|0b153874|a73ee510|1adce6ef|27c07bd6|32c7478e| 5.805134968916488|3.4965075614664802| 4.330733340286331| 6.329720905522696| 5.537334267018537| 5.181783550292085|3.1354942159291497| 7.583756300707112|3.1354942159291497| 5.337538079701318| 6.329720905522696| 7.583756300707112| 5.805134968916488|3.1354942159291497| 4.330733340286331| 5.337538079701318| 5.537334267018537| 5.181783550292085|3.4965075614664802|3.1354942159291497|      30.0|       0.0|       0.0|       0.0|       0.0|       2.0|       4.0|       0.0|    (11,[0],[1.0])|     (7,[0],[1.0])|  (210,[30],[1.0])|    (26,[0],[1.0])|    (17,[2],[1.0])|     (1,[0],[1.0])|     (8,[4],[1.0])|    (33,[0],[1.0])|(313,[30,210,236,...|\n",
      "|  1| 10.0|47.0|12.0|    2.0|  2.0|  1.0|15.0|  60.0| 1.0|  2.0|05db9164|38d50e09|f281d2a7|fbad5c96|5b392875|a73ee510|b28479f6|d4bb7bd8|32c7478e|2.3978952727983707| 3.871201010907891|2.5649493574615367|1.0986122886681098|1.0986122886681098|0.6931471805599453| 2.772588722239781| 4.110873864173311|0.6931471805599453|1.0986122886681098|1.0986122886681098| 4.110873864173311|2.3978952727983707| 2.772588722239781|2.5649493574615367|1.0986122886681098|1.0986122886681098|0.6931471805599453| 3.871201010907891|0.6931471805599453|       3.0|       7.0|       1.0|       1.0|       0.0|       1.0|       2.0|       0.0|    (11,[0],[1.0])|     (7,[1],[1.0])|   (210,[3],[1.0])|    (26,[7],[1.0])|    (17,[1],[1.0])|     (1,[0],[1.0])|     (8,[2],[1.0])|    (33,[1],[1.0])|(313,[3,217,237,2...|\n",
      "|  0| 10.0| 5.0|12.0|  568.0| 15.0|  3.0|11.0|  12.0| 1.0| 12.0|05db9164|90081f33|384874ce|fe6b92e5|0b153874|a73ee510|b28479f6|07c540c4|32c7478e|2.3978952727983707| 1.791759469228055|2.5649493574615367| 6.343880434126331| 2.772588722239781|1.3862943611198906|2.4849066497880004|2.5649493574615367|0.6931471805599453|2.5649493574615367| 6.343880434126331|2.5649493574615367|2.3978952727983707|2.4849066497880004|2.5649493574615367|2.5649493574615367| 2.772588722239781|1.3862943611198906| 1.791759469228055|0.6931471805599453|      21.0|       3.0|       2.0|       0.0|       0.0|       1.0|       1.0|       0.0|    (11,[0],[1.0])|     (7,[2],[1.0])|  (210,[21],[1.0])|    (26,[3],[1.0])|    (17,[1],[1.0])|     (1,[0],[1.0])|     (8,[1],[1.0])|    (33,[0],[1.0])|(313,[21,213,238,...|\n",
      "|  0|  1.0|null|null|16428.0| null| null| 5.0|  null|null| null|05db9164|dc1def19|4cf72387|fe6b92e5|0b153874|a73ee510|ad1cc976|e5ba7672|c3dc6cef|0.6931471805599453|              null|              null| 9.706803344906337|              null|              null| 1.791759469228055|              null|              null|              null| 9.706803344906337|3.5397040608283685|0.6931471805599453| 1.791759469228055|1.7041792570817396| 1.712744875772556| 3.355940559060732|1.7258457796093518|2.1407438041148916|0.9739185128118837|     159.0|       1.0|       2.0|       0.0|       0.0|      10.0|       0.0|       9.0|    (11,[9],[1.0])|     (7,[2],[1.0])| (210,[159],[1.0])|    (26,[1],[1.0])|   (17,[10],[1.0])|     (1,[0],[1.0])|     (8,[0],[1.0])|    (33,[0],[1.0])|(313,[159,211,238...|\n",
      "|  0|  3.0|11.0| 2.0| 2059.0| 63.0|  7.0|39.0|  63.0| 1.0|  2.0|5a9ed9b0|78ccd99e|384874ce|3bf701e7|37e4aa92|a73ee510|f862f261|e5ba7672|3a171ecb|1.3862943611198906|2.4849066497880004|1.0986122886681098| 7.630461261783627|4.1588830833596715|2.0794415416798357|3.6888794541139363|4.1588830833596715|0.6931471805599453|1.0986122886681098| 7.630461261783627|4.1588830833596715|1.3862943611198906|3.6888794541139363|1.0986122886681098|1.0986122886681098|4.1588830833596715|2.0794415416798357|2.4849066497880004|0.6931471805599453|      22.0|       3.0|       5.0|       3.0|       0.0|       6.0|       0.0|       1.0|    (11,[1],[1.0])|     (7,[5],[1.0])|  (210,[22],[1.0])|    (26,[3],[1.0])|    (17,[6],[1.0])|     (1,[0],[1.0])|     (8,[0],[1.0])|    (33,[3],[1.0])|(313,[22,213,241,...|\n",
      "|  0| 25.0| 3.0| 7.0|15719.0| 44.0| 25.0| 7.0|  42.0| 1.0|  7.0|05db9164|09e68b86|25c83c98|7e0ccccf|5b392875|a73ee510|b28479f6|e5ba7672|32c7478e| 3.258096538021482|1.3862943611198906|2.0794415416798357| 9.662689065983198|3.8066624897703196| 3.258096538021482|2.0794415416798357|3.7612001156935624|0.6931471805599453|2.0794415416798357| 9.662689065983198|3.7612001156935624| 3.258096538021482|2.0794415416798357|2.0794415416798357|2.0794415416798357|3.8066624897703196| 3.258096538021482|1.3862943611198906|0.6931471805599453|       5.0|       0.0|       0.0|       1.0|       0.0|       1.0|       0.0|       0.0|    (11,[0],[1.0])|     (7,[0],[1.0])|   (210,[5],[1.0])|    (26,[0],[1.0])|    (17,[1],[1.0])|     (1,[0],[1.0])|     (8,[0],[1.0])|    (33,[1],[1.0])|(313,[5,210,236,2...|\n",
      "|  0|  1.0| 3.0| 9.0| 2727.0| 13.0| 19.0|11.0|  67.0| 2.0|  9.0|68fd1e64|207b2d81|25c83c98|       0|37e4aa92|a73ee510|07d13a8f|3486227d|32c7478e|0.6931471805599453|1.3862943611198906| 2.302585092994046| 7.911324018963353|2.6390573296152584| 2.995732273553991|2.4849066497880004| 4.219507705176107|1.0986122886681098| 2.302585092994046| 7.911324018963353| 4.219507705176107|0.6931471805599453|2.4849066497880004| 2.302585092994046| 2.302585092994046|2.6390573296152584| 2.995732273553991|1.3862943611198906|1.0986122886681098|       1.0|       0.0|       3.0|       3.0|       0.0|       0.0|       3.0|       0.0|    (11,[0],[1.0])|     (7,[3],[1.0])|   (210,[1],[1.0])|    (26,[0],[1.0])|    (17,[0],[1.0])|     (1,[0],[1.0])|     (8,[3],[1.0])|    (33,[3],[1.0])|(313,[1,210,239,2...|\n",
      "|  0|  4.0|16.0| 6.0|10075.0| null|  0.0| 6.0|  16.0| 0.0|  6.0|05db9164|a0e12995|25c83c98|fe6b92e5|5b392875|a73ee510|b28479f6|776ce399|3a171ecb|1.6094379124341003| 2.833213344056216|1.9459101490553132|   9.2179116374725|              null|               0.0|1.9459101490553132| 2.833213344056216|               0.0|1.9459101490553132|   9.2179116374725| 2.833213344056216|1.6094379124341003|1.9459101490553132|1.9459101490553132|1.9459101490553132| 3.355940559060732|               0.0| 2.833213344056216|               0.0|      20.0|       0.0|       2.0|       1.0|       0.0|       1.0|       5.0|       1.0|    (11,[1],[1.0])|     (7,[2],[1.0])|  (210,[20],[1.0])|    (26,[0],[1.0])|    (17,[1],[1.0])|     (1,[0],[1.0])|     (8,[5],[1.0])|    (33,[1],[1.0])|(313,[20,210,238,...|\n",
      "|  0|  0.0| 6.0| 9.0|    0.0|  1.0|197.0|18.0| 191.0|12.0|  1.0|05db9164|95e2d337|25c83c98|7e0ccccf|56563555|a73ee510|07d13a8f|8efede7f|423fab69|               0.0|1.9459101490553132| 2.302585092994046|               0.0|0.6931471805599453| 5.288267030694535|2.9444389791664403|5.2574953720277815|2.5649493574615367|0.6931471805599453|               0.0|5.2574953720277815|               0.0|2.9444389791664403| 2.302585092994046|0.6931471805599453|0.6931471805599453| 5.288267030694535|1.9459101490553132|2.5649493574615367|      18.0|       0.0|       0.0|      11.0|       0.0|       0.0|       6.0|       2.0|    (11,[2],[1.0])|     (7,[0],[1.0])|  (210,[18],[1.0])|    (26,[0],[1.0])|    (17,[0],[1.0])|     (1,[0],[1.0])|     (8,[6],[1.0])|   (33,[11],[1.0])|(313,[18,210,236,...|\n",
      "|  0| 19.0|19.0| 4.0| 1496.0| 31.0|  1.0|18.0|  18.0| 1.0|  4.0|68fd1e64|3ab4d7f5|25c83c98|       0|0b153874|a73ee510|dcd762ee|d4bb7bd8|3a171ecb| 2.995732273553991| 2.995732273553991|1.6094379124341003| 7.311218384419629|3.4657359027997265|0.6931471805599453|2.9444389791664403|2.9444389791664403|0.6931471805599453|1.6094379124341003| 7.311218384419629|2.9444389791664403| 2.995732273553991|2.9444389791664403|1.6094379124341003|1.6094379124341003|3.4657359027997265|0.6931471805599453| 2.995732273553991|0.6931471805599453|      66.0|       0.0|       3.0|       0.0|       0.0|      13.0|       2.0|       1.0|    (11,[1],[1.0])|     (7,[3],[1.0])|  (210,[66],[1.0])|    (26,[0],[1.0])|   (17,[13],[1.0])|     (1,[0],[1.0])|     (8,[2],[1.0])|    (33,[0],[1.0])|(313,[66,210,239,...|\n",
      "|  0| -1.0|null|null|13865.0|133.0|  5.0|11.0| 100.0| 2.0| null|05db9164|a796837e|25c83c98|7e0ccccf|0b153874|a73ee510|07d13a8f|e5ba7672|32c7478e|              null|              null|              null| 9.537195079502435| 4.897839799950911| 1.791759469228055|2.4849066497880004|  4.61512051684126|1.0986122886681098|              null| 9.537195079502435|  4.61512051684126|2.3878927248048827|2.4849066497880004|1.7041792570817396| 1.712744875772556| 4.897839799950911| 1.791759469228055|2.1407438041148916|1.0986122886681098|      15.0|       0.0|       0.0|       0.0|       0.0|       0.0|       0.0|       0.0|    (11,[0],[1.0])|     (7,[0],[1.0])|  (210,[15],[1.0])|    (26,[0],[1.0])|    (17,[0],[1.0])|     (1,[0],[1.0])|     (8,[0],[1.0])|    (33,[0],[1.0])|(313,[15,210,236,...|\n",
      "|  0| 28.0|12.0|17.0| 2836.0|279.0|  3.0|15.0| 249.0| 2.0| 38.0|5a9ed9b0|08d6d899|25c83c98|fe6b92e5|0b153874|a73ee510|b28479f6|3486227d|32c7478e| 3.367295829986474|2.5649493574615367|2.8903717578961645| 7.950502434808851| 5.634789603169249|1.3862943611198906| 2.772588722239781| 5.521460917862246|1.0986122886681098|3.6635616461296463| 7.950502434808851| 5.521460917862246| 3.367295829986474| 2.772588722239781|2.8903717578961645|3.6635616461296463| 5.634789603169249|1.3862943611198906|2.5649493574615367|1.0986122886681098|      11.0|       0.0|       2.0|       0.0|       0.0|       1.0|       3.0|       0.0|    (11,[0],[1.0])|     (7,[2],[1.0])|  (210,[11],[1.0])|    (26,[0],[1.0])|    (17,[1],[1.0])|     (1,[0],[1.0])|     (8,[3],[1.0])|    (33,[0],[1.0])|(313,[11,210,238,...|\n",
      "|  0|  0.0| 1.0| 3.0|    4.0|  1.0|  5.0|25.0|  65.0| 2.0|  0.0|be589b51|207b2d81|4cf72387|       0|f504a6f4|a73ee510|64c94865|3486227d|32c7478e|               0.0|0.6931471805599453|1.3862943611198906|1.6094379124341003|0.6931471805599453| 1.791759469228055| 3.258096538021482| 4.189654742026425|1.0986122886681098|               0.0|1.6094379124341003| 4.189654742026425|               0.0| 3.258096538021482|1.3862943611198906|               0.0|0.6931471805599453| 1.791759469228055|0.6931471805599453|1.0986122886681098|       1.0|       1.0|       3.0|      15.0|       0.0|       3.0|       3.0|       0.0|    (11,[0],[1.0])|     (7,[3],[1.0])|   (210,[1],[1.0])|    (26,[1],[1.0])|    (17,[3],[1.0])|     (1,[0],[1.0])|     (8,[3],[1.0])|   (33,[15],[1.0])|(313,[1,211,239,2...|\n",
      "|  0|  3.0|null|null|35526.0| null|  0.0| 4.0|   2.0| 0.0| null|8cf07265|38a947a1|25c83c98|3bf701e7|0b153874|a73ee510|b28479f6|1e88c74f|32c7478e|1.3862943611198906|              null|              null|10.478048249762029|              null|               0.0|1.6094379124341003|1.0986122886681098|               0.0|              null|10.478048249762029|1.0986122886681098|1.3862943611198906|1.6094379124341003|1.7041792570817396| 1.712744875772556| 3.355940559060732|               0.0|2.1407438041148916|               0.0|       0.0|       0.0|       5.0|       0.0|       0.0|       1.0|       7.0|       0.0|    (11,[0],[1.0])|     (7,[5],[1.0])|   (210,[0],[1.0])|    (26,[0],[1.0])|    (17,[1],[1.0])|     (1,[0],[1.0])|     (8,[7],[1.0])|    (33,[0],[1.0])|(313,[0,210,241,2...|\n",
      "|  0|307.0| 1.0| 1.0|   null| null|  0.0| 1.0|   4.0| 0.0|  1.0|05db9164|8db5bc37|4cf72387|fe6b92e5|f504a6f4|7cc72ec2|64c94865|2005abd1|be7c41b4| 5.730099782973574|0.6931471805599453|0.6931471805599453|              null|              null|               0.0|0.6931471805599453|1.6094379124341003|               0.0|0.6931471805599453| 7.185557654482239|1.6094379124341003| 5.730099782973574|0.6931471805599453|0.6931471805599453|0.6931471805599453| 3.355940559060732|               0.0|0.6931471805599453|               0.0|      27.0|       1.0|       2.0|      15.0|       1.0|       3.0|       8.0|       5.0|    (11,[5],[1.0])|     (7,[2],[1.0])|  (210,[27],[1.0])|    (26,[1],[1.0])|    (17,[3],[1.0])|         (1,[],[])|         (8,[],[])|   (33,[15],[1.0])|(313,[27,211,238,...|\n",
      "|  0|485.0|65.0| 7.0|   80.0|140.0|  4.0| 7.0| 128.0| 1.0|  7.0|05db9164|1cfdf714|384874ce|fbad5c96|0b153874|a73ee510|1adce6ef|e5ba7672|423fab69| 6.186208623900494| 4.189654742026425|2.0794415416798357| 4.394449154672439| 4.948759890378168|1.6094379124341003|2.0794415416798357| 4.859812404361672|0.6931471805599453|2.0794415416798357| 4.394449154672439| 4.859812404361672| 6.186208623900494|2.0794415416798357|2.0794415416798357|2.0794415416798357| 4.948759890378168|1.6094379124341003| 4.189654742026425|0.6931471805599453|       4.0|       3.0|       1.0|       0.0|       0.0|       2.0|       0.0|       2.0|    (11,[2],[1.0])|     (7,[1],[1.0])|   (210,[4],[1.0])|    (26,[3],[1.0])|    (17,[2],[1.0])|     (1,[0],[1.0])|     (8,[0],[1.0])|    (33,[0],[1.0])|(313,[4,213,237,2...|\n",
      "|  0| -1.0|null|null|25489.0| null| null| 8.0|  null|null| null|05db9164|b961056b|4cf72387|3bf701e7|0b153874|a73ee510|b28479f6|07c540c4|32c7478e|              null|              null|              null|10.146041497370161|              null|              null|2.1972245773362196|              null|              null|              null|10.146041497370161|3.5397040608283685|2.3878927248048827|2.1972245773362196|1.7041792570817396| 1.712744875772556| 3.355940559060732|1.7258457796093518|2.1407438041148916|0.9739185128118837|      42.0|       1.0|       5.0|       0.0|       0.0|       1.0|       1.0|       0.0|    (11,[0],[1.0])|     (7,[5],[1.0])|  (210,[42],[1.0])|    (26,[1],[1.0])|    (17,[1],[1.0])|     (1,[0],[1.0])|     (8,[1],[1.0])|    (33,[0],[1.0])|(313,[42,211,241,...|\n",
      "+---+-----+----+----+-------+-----+-----+----+------+----+-----+--------+--------+--------+--------+--------+--------+--------+--------+--------+------------------+------------------+------------------+------------------+------------------+------------------+------------------+------------------+------------------+------------------+------------------+------------------+------------------+------------------+------------------+------------------+------------------+------------------+------------------+------------------+----------+----------+----------+----------+----------+----------+----------+----------+------------------+------------------+------------------+------------------+------------------+------------------+------------------+------------------+--------------------+\n",
      "only showing top 20 rows\n",
      "\n"
     ]
    }
   ],
   "source": [
    "# perform one-hot encoding\n",
    "from pyspark.ml.feature import OneHotEncoderModel\n",
    "from pyspark.ml import Pipeline\n",
    "from pyspark.ml.feature import StringIndexer, OneHotEncoderEstimator, VectorAssembler\n",
    "\n",
    "toy_hot = toy_df_impute\n",
    "\n",
    "indexers = [StringIndexer(inputCol=col, outputCol=\"{0}_indexed\".format(col)) for col in list(toy_hot.columns[12:20])]\n",
    "\n",
    "encoder = OneHotEncoderEstimator(inputCols=[indexer.getOutputCol() for indexer in indexers],\n",
    "                                 outputCols=[\"{0}_encoded\".format(indexer.getOutputCol()) for indexer in indexers])\n",
    "cat_assembler = VectorAssembler(inputCols=encoder.getOutputCols(),outputCol=\"CatFeatures\")\n",
    "\n",
    "pipeline = Pipeline(stages=indexers + [encoder, cat_assembler])\n",
    "toy_onehot = pipeline.fit(toy_hot).transform(toy_hot)\n",
    "toy_onehot.show()"
   ]
  },
  {
   "cell_type": "markdown",
   "metadata": {
    "colab_type": "text",
    "id": "iNOuhVJVfmKx"
   },
   "source": [
    "### (7) Perfom standard normalization for categorical variables\n",
    "\n",
    "We then make use of pyspark MLlib's StandardScaler is applied to 'CatFeatures' to normalize  each feature to have unit standard deviation and/or zero mean.\n"
   ]
  },
  {
   "cell_type": "code",
   "execution_count": null,
   "metadata": {
    "colab": {
     "base_uri": "https://localhost:8080/",
     "height": 479
    },
    "colab_type": "code",
    "id": "WDLR1ujiLII_",
    "outputId": "e4d160d9-746b-4564-ed6d-bd0acdeb7f68"
   },
   "outputs": [
    {
     "name": "stdout",
     "output_type": "stream",
     "text": [
      "+---+-----+----+----+-------+-----+-----+----+------+----+-----+--------+--------+--------+--------+--------+--------+--------+--------+--------+------------------+------------------+------------------+------------------+------------------+------------------+------------------+------------------+------------------+------------------+------------------+------------------+------------------+------------------+------------------+------------------+------------------+------------------+------------------+------------------+----------+----------+----------+----------+----------+----------+----------+----------+------------------+------------------+------------------+------------------+------------------+------------------+------------------+------------------+--------------------+--------------------+\n",
      "|  0|    2|   3|   4|      5|    6|    7|   8|     9|  11|   13|      14|      15|      18|      19|      21|      22|      27|      30|      36|             log_2|             log_3|             log_4|             log_5|             log_6|             log_7|             log_8|             log_9|            log_11|            log_13|     log_5_imputed|     log_9_imputed|     log_2_imputed|     log_8_imputed|     log_4_imputed|    log_13_imputed|     log_6_imputed|     log_7_imputed|     log_3_imputed|    log_11_imputed|15_indexed|18_indexed|19_indexed|21_indexed|22_indexed|27_indexed|30_indexed|36_indexed|36_indexed_encoded|19_indexed_encoded|15_indexed_encoded|18_indexed_encoded|27_indexed_encoded|22_indexed_encoded|30_indexed_encoded|21_indexed_encoded|         CatFeatures|  scaled_categorical|\n",
      "+---+-----+----+----+-------+-----+-----+----+------+----+-----+--------+--------+--------+--------+--------+--------+--------+--------+--------+------------------+------------------+------------------+------------------+------------------+------------------+------------------+------------------+------------------+------------------+------------------+------------------+------------------+------------------+------------------+------------------+------------------+------------------+------------------+------------------+----------+----------+----------+----------+----------+----------+----------+----------+------------------+------------------+------------------+------------------+------------------+------------------+------------------+------------------+--------------------+--------------------+\n",
      "|  0|  5.0| 8.0|32.0|  766.0| 93.0| 25.0|47.0| 326.0| 4.0| 44.0|05db9164|38a947a1|25c83c98|7e0ccccf|f504a6f4|a73ee510|b28479f6|e5ba7672|423fab69| 1.791759469228055|2.1972245773362196|3.4965075614664802| 6.642486801367256| 4.543294782270004| 3.258096538021482| 3.871201010907891|5.7899601708972535|1.6094379124341003|3.8066624897703196| 6.642486801367256|5.7899601708972535| 1.791759469228055| 3.871201010907891|3.4965075614664802|3.8066624897703196| 4.543294782270004| 3.258096538021482|2.1972245773362196|1.6094379124341003|       0.0|       0.0|       0.0|      15.0|       0.0|       1.0|       0.0|       2.0|    (11,[2],[1.0])|     (7,[0],[1.0])|   (210,[0],[1.0])|    (26,[0],[1.0])|    (17,[1],[1.0])|     (1,[0],[1.0])|     (8,[0],[1.0])|   (33,[15],[1.0])|(313,[0,210,236,2...|[2.81742580305247...|\n",
      "|  0|  0.0|null|null| 1571.0|  5.0|  7.0| 5.0|  13.0| 3.0| null|05db9164|09e68b86|25c83c98|7e0ccccf|5b392875|a73ee510|1adce6ef|e5ba7672|32c7478e|               0.0|              null|              null| 7.360103972989152| 1.791759469228055|2.0794415416798357| 1.791759469228055|2.6390573296152584|1.3862943611198906|              null| 7.360103972989152|2.6390573296152584|               0.0| 1.791759469228055|1.7041792570817396| 1.712744875772556| 1.791759469228055|2.0794415416798357|2.1407438041148916|1.3862943611198906|       5.0|       0.0|       0.0|       1.0|       0.0|       2.0|       0.0|       0.0|    (11,[0],[1.0])|     (7,[0],[1.0])|   (210,[5],[1.0])|    (26,[0],[1.0])|    (17,[2],[1.0])|     (1,[0],[1.0])|     (8,[0],[1.0])|    (33,[1],[1.0])|(313,[5,210,236,2...|[-0.3546214836349...|\n",
      "|  0| -1.0|null|null|18086.0| 86.0|  1.0| 1.0|  45.0| 1.0| null|8cf07265|3f0d3f28|384874ce|fe6b92e5|5b392875|a73ee510|32813e21|e5ba7672|3a171ecb|              null|              null|              null| 9.802948727157515| 4.465908118654584|0.6931471805599453|0.6931471805599453| 3.828641396489095|0.6931471805599453|              null| 9.802948727157515| 3.828641396489095|2.3878927248048827|0.6931471805599453|1.7041792570817396| 1.712744875772556| 4.465908118654584|0.6931471805599453|2.1407438041148916|0.6931471805599453|      40.0|       3.0|       2.0|       1.0|       0.0|       9.0|       0.0|       1.0|    (11,[1],[1.0])|     (7,[2],[1.0])|  (210,[40],[1.0])|    (26,[3],[1.0])|    (17,[9],[1.0])|     (1,[0],[1.0])|     (8,[0],[1.0])|    (33,[1],[1.0])|(313,[40,213,238,...|[-0.3546214836349...|\n",
      "|  0|331.0|32.0|75.0|  560.0|253.0|177.0|22.0|1965.0|22.0|207.0|f473b8dc|942f9a8d|25c83c98|7e0ccccf|0b153874|a73ee510|1adce6ef|27c07bd6|32c7478e| 5.805134968916488|3.4965075614664802| 4.330733340286331| 6.329720905522696| 5.537334267018537| 5.181783550292085|3.1354942159291497| 7.583756300707112|3.1354942159291497| 5.337538079701318| 6.329720905522696| 7.583756300707112| 5.805134968916488|3.1354942159291497| 4.330733340286331| 5.337538079701318| 5.537334267018537| 5.181783550292085|3.4965075614664802|3.1354942159291497|      30.0|       0.0|       0.0|       0.0|       0.0|       2.0|       4.0|       0.0|    (11,[0],[1.0])|     (7,[0],[1.0])|  (210,[30],[1.0])|    (26,[0],[1.0])|    (17,[2],[1.0])|     (1,[0],[1.0])|     (8,[4],[1.0])|    (33,[0],[1.0])|(313,[30,210,236,...|[-0.3546214836349...|\n",
      "|  1| 10.0|47.0|12.0|    2.0|  2.0|  1.0|15.0|  60.0| 1.0|  2.0|05db9164|38d50e09|f281d2a7|fbad5c96|5b392875|a73ee510|b28479f6|d4bb7bd8|32c7478e|2.3978952727983707| 3.871201010907891|2.5649493574615367|1.0986122886681098|1.0986122886681098|0.6931471805599453| 2.772588722239781| 4.110873864173311|0.6931471805599453|1.0986122886681098|1.0986122886681098| 4.110873864173311|2.3978952727983707| 2.772588722239781|2.5649493574615367|1.0986122886681098|1.0986122886681098|0.6931471805599453| 3.871201010907891|0.6931471805599453|       3.0|       7.0|       1.0|       1.0|       0.0|       1.0|       2.0|       0.0|    (11,[0],[1.0])|     (7,[1],[1.0])|   (210,[3],[1.0])|    (26,[7],[1.0])|    (17,[1],[1.0])|     (1,[0],[1.0])|     (8,[2],[1.0])|    (33,[1],[1.0])|(313,[3,217,237,2...|[-0.3546214836349...|\n",
      "|  0| 10.0| 5.0|12.0|  568.0| 15.0|  3.0|11.0|  12.0| 1.0| 12.0|05db9164|90081f33|384874ce|fe6b92e5|0b153874|a73ee510|b28479f6|07c540c4|32c7478e|2.3978952727983707| 1.791759469228055|2.5649493574615367| 6.343880434126331| 2.772588722239781|1.3862943611198906|2.4849066497880004|2.5649493574615367|0.6931471805599453|2.5649493574615367| 6.343880434126331|2.5649493574615367|2.3978952727983707|2.4849066497880004|2.5649493574615367|2.5649493574615367| 2.772588722239781|1.3862943611198906| 1.791759469228055|0.6931471805599453|      21.0|       3.0|       2.0|       0.0|       0.0|       1.0|       1.0|       0.0|    (11,[0],[1.0])|     (7,[2],[1.0])|  (210,[21],[1.0])|    (26,[3],[1.0])|    (17,[1],[1.0])|     (1,[0],[1.0])|     (8,[1],[1.0])|    (33,[0],[1.0])|(313,[21,213,238,...|[-0.3546214836349...|\n",
      "|  0|  1.0|null|null|16428.0| null| null| 5.0|  null|null| null|05db9164|dc1def19|4cf72387|fe6b92e5|0b153874|a73ee510|ad1cc976|e5ba7672|c3dc6cef|0.6931471805599453|              null|              null| 9.706803344906337|              null|              null| 1.791759469228055|              null|              null|              null| 9.706803344906337|3.5397040608283685|0.6931471805599453| 1.791759469228055|1.7041792570817396| 1.712744875772556| 3.355940559060732|1.7258457796093518|2.1407438041148916|0.9739185128118837|     159.0|       1.0|       2.0|       0.0|       0.0|      10.0|       0.0|       9.0|    (11,[9],[1.0])|     (7,[2],[1.0])| (210,[159],[1.0])|    (26,[1],[1.0])|   (17,[10],[1.0])|     (1,[0],[1.0])|     (8,[0],[1.0])|    (33,[0],[1.0])|(313,[159,211,238...|[-0.3546214836349...|\n",
      "|  0|  3.0|11.0| 2.0| 2059.0| 63.0|  7.0|39.0|  63.0| 1.0|  2.0|5a9ed9b0|78ccd99e|384874ce|3bf701e7|37e4aa92|a73ee510|f862f261|e5ba7672|3a171ecb|1.3862943611198906|2.4849066497880004|1.0986122886681098| 7.630461261783627|4.1588830833596715|2.0794415416798357|3.6888794541139363|4.1588830833596715|0.6931471805599453|1.0986122886681098| 7.630461261783627|4.1588830833596715|1.3862943611198906|3.6888794541139363|1.0986122886681098|1.0986122886681098|4.1588830833596715|2.0794415416798357|2.4849066497880004|0.6931471805599453|      22.0|       3.0|       5.0|       3.0|       0.0|       6.0|       0.0|       1.0|    (11,[1],[1.0])|     (7,[5],[1.0])|  (210,[22],[1.0])|    (26,[3],[1.0])|    (17,[6],[1.0])|     (1,[0],[1.0])|     (8,[0],[1.0])|    (33,[3],[1.0])|(313,[22,213,241,...|[-0.3546214836349...|\n",
      "|  0| 25.0| 3.0| 7.0|15719.0| 44.0| 25.0| 7.0|  42.0| 1.0|  7.0|05db9164|09e68b86|25c83c98|7e0ccccf|5b392875|a73ee510|b28479f6|e5ba7672|32c7478e| 3.258096538021482|1.3862943611198906|2.0794415416798357| 9.662689065983198|3.8066624897703196| 3.258096538021482|2.0794415416798357|3.7612001156935624|0.6931471805599453|2.0794415416798357| 9.662689065983198|3.7612001156935624| 3.258096538021482|2.0794415416798357|2.0794415416798357|2.0794415416798357|3.8066624897703196| 3.258096538021482|1.3862943611198906|0.6931471805599453|       5.0|       0.0|       0.0|       1.0|       0.0|       1.0|       0.0|       0.0|    (11,[0],[1.0])|     (7,[0],[1.0])|   (210,[5],[1.0])|    (26,[0],[1.0])|    (17,[1],[1.0])|     (1,[0],[1.0])|     (8,[0],[1.0])|    (33,[1],[1.0])|(313,[5,210,236,2...|[-0.3546214836349...|\n",
      "|  0|  1.0| 3.0| 9.0| 2727.0| 13.0| 19.0|11.0|  67.0| 2.0|  9.0|68fd1e64|207b2d81|25c83c98|       0|37e4aa92|a73ee510|07d13a8f|3486227d|32c7478e|0.6931471805599453|1.3862943611198906| 2.302585092994046| 7.911324018963353|2.6390573296152584| 2.995732273553991|2.4849066497880004| 4.219507705176107|1.0986122886681098| 2.302585092994046| 7.911324018963353| 4.219507705176107|0.6931471805599453|2.4849066497880004| 2.302585092994046| 2.302585092994046|2.6390573296152584| 2.995732273553991|1.3862943611198906|1.0986122886681098|       1.0|       0.0|       3.0|       3.0|       0.0|       0.0|       3.0|       0.0|    (11,[0],[1.0])|     (7,[3],[1.0])|   (210,[1],[1.0])|    (26,[0],[1.0])|    (17,[0],[1.0])|     (1,[0],[1.0])|     (8,[3],[1.0])|    (33,[3],[1.0])|(313,[1,210,239,2...|[-0.3546214836349...|\n",
      "|  0|  4.0|16.0| 6.0|10075.0| null|  0.0| 6.0|  16.0| 0.0|  6.0|05db9164|a0e12995|25c83c98|fe6b92e5|5b392875|a73ee510|b28479f6|776ce399|3a171ecb|1.6094379124341003| 2.833213344056216|1.9459101490553132|   9.2179116374725|              null|               0.0|1.9459101490553132| 2.833213344056216|               0.0|1.9459101490553132|   9.2179116374725| 2.833213344056216|1.6094379124341003|1.9459101490553132|1.9459101490553132|1.9459101490553132| 3.355940559060732|               0.0| 2.833213344056216|               0.0|      20.0|       0.0|       2.0|       1.0|       0.0|       1.0|       5.0|       1.0|    (11,[1],[1.0])|     (7,[2],[1.0])|  (210,[20],[1.0])|    (26,[0],[1.0])|    (17,[1],[1.0])|     (1,[0],[1.0])|     (8,[5],[1.0])|    (33,[1],[1.0])|(313,[20,210,238,...|[-0.3546214836349...|\n",
      "|  0|  0.0| 6.0| 9.0|    0.0|  1.0|197.0|18.0| 191.0|12.0|  1.0|05db9164|95e2d337|25c83c98|7e0ccccf|56563555|a73ee510|07d13a8f|8efede7f|423fab69|               0.0|1.9459101490553132| 2.302585092994046|               0.0|0.6931471805599453| 5.288267030694535|2.9444389791664403|5.2574953720277815|2.5649493574615367|0.6931471805599453|               0.0|5.2574953720277815|               0.0|2.9444389791664403| 2.302585092994046|0.6931471805599453|0.6931471805599453| 5.288267030694535|1.9459101490553132|2.5649493574615367|      18.0|       0.0|       0.0|      11.0|       0.0|       0.0|       6.0|       2.0|    (11,[2],[1.0])|     (7,[0],[1.0])|  (210,[18],[1.0])|    (26,[0],[1.0])|    (17,[0],[1.0])|     (1,[0],[1.0])|     (8,[6],[1.0])|   (33,[11],[1.0])|(313,[18,210,236,...|[-0.3546214836349...|\n",
      "|  0| 19.0|19.0| 4.0| 1496.0| 31.0|  1.0|18.0|  18.0| 1.0|  4.0|68fd1e64|3ab4d7f5|25c83c98|       0|0b153874|a73ee510|dcd762ee|d4bb7bd8|3a171ecb| 2.995732273553991| 2.995732273553991|1.6094379124341003| 7.311218384419629|3.4657359027997265|0.6931471805599453|2.9444389791664403|2.9444389791664403|0.6931471805599453|1.6094379124341003| 7.311218384419629|2.9444389791664403| 2.995732273553991|2.9444389791664403|1.6094379124341003|1.6094379124341003|3.4657359027997265|0.6931471805599453| 2.995732273553991|0.6931471805599453|      66.0|       0.0|       3.0|       0.0|       0.0|      13.0|       2.0|       1.0|    (11,[1],[1.0])|     (7,[3],[1.0])|  (210,[66],[1.0])|    (26,[0],[1.0])|   (17,[13],[1.0])|     (1,[0],[1.0])|     (8,[2],[1.0])|    (33,[0],[1.0])|(313,[66,210,239,...|[-0.3546214836349...|\n",
      "|  0| -1.0|null|null|13865.0|133.0|  5.0|11.0| 100.0| 2.0| null|05db9164|a796837e|25c83c98|7e0ccccf|0b153874|a73ee510|07d13a8f|e5ba7672|32c7478e|              null|              null|              null| 9.537195079502435| 4.897839799950911| 1.791759469228055|2.4849066497880004|  4.61512051684126|1.0986122886681098|              null| 9.537195079502435|  4.61512051684126|2.3878927248048827|2.4849066497880004|1.7041792570817396| 1.712744875772556| 4.897839799950911| 1.791759469228055|2.1407438041148916|1.0986122886681098|      15.0|       0.0|       0.0|       0.0|       0.0|       0.0|       0.0|       0.0|    (11,[0],[1.0])|     (7,[0],[1.0])|  (210,[15],[1.0])|    (26,[0],[1.0])|    (17,[0],[1.0])|     (1,[0],[1.0])|     (8,[0],[1.0])|    (33,[0],[1.0])|(313,[15,210,236,...|[-0.3546214836349...|\n",
      "|  0| 28.0|12.0|17.0| 2836.0|279.0|  3.0|15.0| 249.0| 2.0| 38.0|5a9ed9b0|08d6d899|25c83c98|fe6b92e5|0b153874|a73ee510|b28479f6|3486227d|32c7478e| 3.367295829986474|2.5649493574615367|2.8903717578961645| 7.950502434808851| 5.634789603169249|1.3862943611198906| 2.772588722239781| 5.521460917862246|1.0986122886681098|3.6635616461296463| 7.950502434808851| 5.521460917862246| 3.367295829986474| 2.772588722239781|2.8903717578961645|3.6635616461296463| 5.634789603169249|1.3862943611198906|2.5649493574615367|1.0986122886681098|      11.0|       0.0|       2.0|       0.0|       0.0|       1.0|       3.0|       0.0|    (11,[0],[1.0])|     (7,[2],[1.0])|  (210,[11],[1.0])|    (26,[0],[1.0])|    (17,[1],[1.0])|     (1,[0],[1.0])|     (8,[3],[1.0])|    (33,[0],[1.0])|(313,[11,210,238,...|[-0.3546214836349...|\n",
      "|  0|  0.0| 1.0| 3.0|    4.0|  1.0|  5.0|25.0|  65.0| 2.0|  0.0|be589b51|207b2d81|4cf72387|       0|f504a6f4|a73ee510|64c94865|3486227d|32c7478e|               0.0|0.6931471805599453|1.3862943611198906|1.6094379124341003|0.6931471805599453| 1.791759469228055| 3.258096538021482| 4.189654742026425|1.0986122886681098|               0.0|1.6094379124341003| 4.189654742026425|               0.0| 3.258096538021482|1.3862943611198906|               0.0|0.6931471805599453| 1.791759469228055|0.6931471805599453|1.0986122886681098|       1.0|       1.0|       3.0|      15.0|       0.0|       3.0|       3.0|       0.0|    (11,[0],[1.0])|     (7,[3],[1.0])|   (210,[1],[1.0])|    (26,[1],[1.0])|    (17,[3],[1.0])|     (1,[0],[1.0])|     (8,[3],[1.0])|   (33,[15],[1.0])|(313,[1,211,239,2...|[-0.3546214836349...|\n",
      "|  0|  3.0|null|null|35526.0| null|  0.0| 4.0|   2.0| 0.0| null|8cf07265|38a947a1|25c83c98|3bf701e7|0b153874|a73ee510|b28479f6|1e88c74f|32c7478e|1.3862943611198906|              null|              null|10.478048249762029|              null|               0.0|1.6094379124341003|1.0986122886681098|               0.0|              null|10.478048249762029|1.0986122886681098|1.3862943611198906|1.6094379124341003|1.7041792570817396| 1.712744875772556| 3.355940559060732|               0.0|2.1407438041148916|               0.0|       0.0|       0.0|       5.0|       0.0|       0.0|       1.0|       7.0|       0.0|    (11,[0],[1.0])|     (7,[5],[1.0])|   (210,[0],[1.0])|    (26,[0],[1.0])|    (17,[1],[1.0])|     (1,[0],[1.0])|     (8,[7],[1.0])|    (33,[0],[1.0])|(313,[0,210,241,2...|[2.81742580305247...|\n",
      "|  0|307.0| 1.0| 1.0|   null| null|  0.0| 1.0|   4.0| 0.0|  1.0|05db9164|8db5bc37|4cf72387|fe6b92e5|f504a6f4|7cc72ec2|64c94865|2005abd1|be7c41b4| 5.730099782973574|0.6931471805599453|0.6931471805599453|              null|              null|               0.0|0.6931471805599453|1.6094379124341003|               0.0|0.6931471805599453| 7.185557654482239|1.6094379124341003| 5.730099782973574|0.6931471805599453|0.6931471805599453|0.6931471805599453| 3.355940559060732|               0.0|0.6931471805599453|               0.0|      27.0|       1.0|       2.0|      15.0|       1.0|       3.0|       8.0|       5.0|    (11,[5],[1.0])|     (7,[2],[1.0])|  (210,[27],[1.0])|    (26,[1],[1.0])|    (17,[3],[1.0])|         (1,[],[])|         (8,[],[])|   (33,[15],[1.0])|(313,[27,211,238,...|[-0.3546214836349...|\n",
      "|  0|485.0|65.0| 7.0|   80.0|140.0|  4.0| 7.0| 128.0| 1.0|  7.0|05db9164|1cfdf714|384874ce|fbad5c96|0b153874|a73ee510|1adce6ef|e5ba7672|423fab69| 6.186208623900494| 4.189654742026425|2.0794415416798357| 4.394449154672439| 4.948759890378168|1.6094379124341003|2.0794415416798357| 4.859812404361672|0.6931471805599453|2.0794415416798357| 4.394449154672439| 4.859812404361672| 6.186208623900494|2.0794415416798357|2.0794415416798357|2.0794415416798357| 4.948759890378168|1.6094379124341003| 4.189654742026425|0.6931471805599453|       4.0|       3.0|       1.0|       0.0|       0.0|       2.0|       0.0|       2.0|    (11,[2],[1.0])|     (7,[1],[1.0])|   (210,[4],[1.0])|    (26,[3],[1.0])|    (17,[2],[1.0])|     (1,[0],[1.0])|     (8,[0],[1.0])|    (33,[0],[1.0])|(313,[4,213,237,2...|[-0.3546214836349...|\n",
      "|  0| -1.0|null|null|25489.0| null| null| 8.0|  null|null| null|05db9164|b961056b|4cf72387|3bf701e7|0b153874|a73ee510|b28479f6|07c540c4|32c7478e|              null|              null|              null|10.146041497370161|              null|              null|2.1972245773362196|              null|              null|              null|10.146041497370161|3.5397040608283685|2.3878927248048827|2.1972245773362196|1.7041792570817396| 1.712744875772556| 3.355940559060732|1.7258457796093518|2.1407438041148916|0.9739185128118837|      42.0|       1.0|       5.0|       0.0|       0.0|       1.0|       1.0|       0.0|    (11,[0],[1.0])|     (7,[5],[1.0])|  (210,[42],[1.0])|    (26,[1],[1.0])|    (17,[1],[1.0])|     (1,[0],[1.0])|     (8,[1],[1.0])|    (33,[0],[1.0])|(313,[42,211,241,...|[-0.3546214836349...|\n",
      "+---+-----+----+----+-------+-----+-----+----+------+----+-----+--------+--------+--------+--------+--------+--------+--------+--------+--------+------------------+------------------+------------------+------------------+------------------+------------------+------------------+------------------+------------------+------------------+------------------+------------------+------------------+------------------+------------------+------------------+------------------+------------------+------------------+------------------+----------+----------+----------+----------+----------+----------+----------+----------+------------------+------------------+------------------+------------------+------------------+------------------+------------------+------------------+--------------------+--------------------+\n",
      "only showing top 20 rows\n",
      "\n"
     ]
    }
   ],
   "source": [
    "# Perfom standard normalization for categorical variables\n",
    "from pyspark.ml.feature import StandardScaler\n",
    "\n",
    "scaler = StandardScaler(inputCol=\"CatFeatures\", outputCol=\"scaled_categorical\",\n",
    "                        withStd=True, withMean=True)\n",
    "\n",
    "# Normalize each feature to have unit standard deviation.\n",
    "scaler_toy_onehot = scaler.fit(toy_onehot).transform(toy_onehot)\n",
    "scaler_toy_onehot.show()"
   ]
  },
  {
   "cell_type": "markdown",
   "metadata": {
    "colab_type": "text",
    "id": "xaiPBZmefvZa"
   },
   "source": [
    "### (8) Perform normalization for numeric variables\n",
    "\n",
    "Following that, the log-transformed, imputed numeric columns are assembled into another vector and normalized."
   ]
  },
  {
   "cell_type": "code",
   "execution_count": null,
   "metadata": {
    "colab": {
     "base_uri": "https://localhost:8080/",
     "height": 479
    },
    "colab_type": "code",
    "id": "MJZM8YxMLID1",
    "outputId": "353bbec0-7eed-4ac0-f13a-7f33314d50d0"
   },
   "outputs": [
    {
     "name": "stdout",
     "output_type": "stream",
     "text": [
      "+---+-----+----+----+-------+-----+-----+----+------+----+-----+--------+--------+--------+--------+--------+--------+--------+--------+--------+------------------+------------------+------------------+------------------+------------------+------------------+------------------+------------------+------------------+------------------+------------------+------------------+------------------+------------------+------------------+------------------+------------------+------------------+------------------+------------------+----------+----------+----------+----------+----------+----------+----------+----------+------------------+------------------+------------------+------------------+------------------+------------------+------------------+------------------+--------------------+--------------------+--------------------+\n",
      "|  0|    2|   3|   4|      5|    6|    7|   8|     9|  11|   13|      14|      15|      18|      19|      21|      22|      27|      30|      36|             log_2|             log_3|             log_4|             log_5|             log_6|             log_7|             log_8|             log_9|            log_11|            log_13|     log_5_imputed|     log_9_imputed|     log_2_imputed|     log_8_imputed|     log_4_imputed|    log_13_imputed|     log_6_imputed|     log_7_imputed|     log_3_imputed|    log_11_imputed|15_indexed|18_indexed|19_indexed|21_indexed|22_indexed|27_indexed|30_indexed|36_indexed|36_indexed_encoded|19_indexed_encoded|15_indexed_encoded|18_indexed_encoded|27_indexed_encoded|22_indexed_encoded|30_indexed_encoded|21_indexed_encoded|         CatFeatures|  scaled_categorical|         NumFeatures|\n",
      "+---+-----+----+----+-------+-----+-----+----+------+----+-----+--------+--------+--------+--------+--------+--------+--------+--------+--------+------------------+------------------+------------------+------------------+------------------+------------------+------------------+------------------+------------------+------------------+------------------+------------------+------------------+------------------+------------------+------------------+------------------+------------------+------------------+------------------+----------+----------+----------+----------+----------+----------+----------+----------+------------------+------------------+------------------+------------------+------------------+------------------+------------------+------------------+--------------------+--------------------+--------------------+\n",
      "|  0|  5.0| 8.0|32.0|  766.0| 93.0| 25.0|47.0| 326.0| 4.0| 44.0|05db9164|38a947a1|25c83c98|7e0ccccf|f504a6f4|a73ee510|b28479f6|e5ba7672|423fab69| 1.791759469228055|2.1972245773362196|3.4965075614664802| 6.642486801367256| 4.543294782270004| 3.258096538021482| 3.871201010907891|5.7899601708972535|1.6094379124341003|3.8066624897703196| 6.642486801367256|5.7899601708972535| 1.791759469228055| 3.871201010907891|3.4965075614664802|3.8066624897703196| 4.543294782270004| 3.258096538021482|2.1972245773362196|1.6094379124341003|       0.0|       0.0|       0.0|      15.0|       0.0|       1.0|       0.0|       2.0|    (11,[2],[1.0])|     (7,[0],[1.0])|   (210,[0],[1.0])|    (26,[0],[1.0])|    (17,[1],[1.0])|     (1,[0],[1.0])|     (8,[0],[1.0])|   (33,[15],[1.0])|(313,[0,210,236,2...|[2.81742580305247...|[1.79175946922805...|\n",
      "|  0|  0.0|null|null| 1571.0|  5.0|  7.0| 5.0|  13.0| 3.0| null|05db9164|09e68b86|25c83c98|7e0ccccf|5b392875|a73ee510|1adce6ef|e5ba7672|32c7478e|               0.0|              null|              null| 7.360103972989152| 1.791759469228055|2.0794415416798357| 1.791759469228055|2.6390573296152584|1.3862943611198906|              null| 7.360103972989152|2.6390573296152584|               0.0| 1.791759469228055|1.7041792570817396| 1.712744875772556| 1.791759469228055|2.0794415416798357|2.1407438041148916|1.3862943611198906|       5.0|       0.0|       0.0|       1.0|       0.0|       2.0|       0.0|       0.0|    (11,[0],[1.0])|     (7,[0],[1.0])|   (210,[5],[1.0])|    (26,[0],[1.0])|    (17,[2],[1.0])|     (1,[0],[1.0])|     (8,[0],[1.0])|    (33,[1],[1.0])|(313,[5,210,236,2...|[-0.3546214836349...|[0.0,2.1407438041...|\n",
      "|  0| -1.0|null|null|18086.0| 86.0|  1.0| 1.0|  45.0| 1.0| null|8cf07265|3f0d3f28|384874ce|fe6b92e5|5b392875|a73ee510|32813e21|e5ba7672|3a171ecb|              null|              null|              null| 9.802948727157515| 4.465908118654584|0.6931471805599453|0.6931471805599453| 3.828641396489095|0.6931471805599453|              null| 9.802948727157515| 3.828641396489095|2.3878927248048827|0.6931471805599453|1.7041792570817396| 1.712744875772556| 4.465908118654584|0.6931471805599453|2.1407438041148916|0.6931471805599453|      40.0|       3.0|       2.0|       1.0|       0.0|       9.0|       0.0|       1.0|    (11,[1],[1.0])|     (7,[2],[1.0])|  (210,[40],[1.0])|    (26,[3],[1.0])|    (17,[9],[1.0])|     (1,[0],[1.0])|     (8,[0],[1.0])|    (33,[1],[1.0])|(313,[40,213,238,...|[-0.3546214836349...|[2.38789272480488...|\n",
      "|  0|331.0|32.0|75.0|  560.0|253.0|177.0|22.0|1965.0|22.0|207.0|f473b8dc|942f9a8d|25c83c98|7e0ccccf|0b153874|a73ee510|1adce6ef|27c07bd6|32c7478e| 5.805134968916488|3.4965075614664802| 4.330733340286331| 6.329720905522696| 5.537334267018537| 5.181783550292085|3.1354942159291497| 7.583756300707112|3.1354942159291497| 5.337538079701318| 6.329720905522696| 7.583756300707112| 5.805134968916488|3.1354942159291497| 4.330733340286331| 5.337538079701318| 5.537334267018537| 5.181783550292085|3.4965075614664802|3.1354942159291497|      30.0|       0.0|       0.0|       0.0|       0.0|       2.0|       4.0|       0.0|    (11,[0],[1.0])|     (7,[0],[1.0])|  (210,[30],[1.0])|    (26,[0],[1.0])|    (17,[2],[1.0])|     (1,[0],[1.0])|     (8,[4],[1.0])|    (33,[0],[1.0])|(313,[30,210,236,...|[-0.3546214836349...|[5.80513496891648...|\n",
      "|  1| 10.0|47.0|12.0|    2.0|  2.0|  1.0|15.0|  60.0| 1.0|  2.0|05db9164|38d50e09|f281d2a7|fbad5c96|5b392875|a73ee510|b28479f6|d4bb7bd8|32c7478e|2.3978952727983707| 3.871201010907891|2.5649493574615367|1.0986122886681098|1.0986122886681098|0.6931471805599453| 2.772588722239781| 4.110873864173311|0.6931471805599453|1.0986122886681098|1.0986122886681098| 4.110873864173311|2.3978952727983707| 2.772588722239781|2.5649493574615367|1.0986122886681098|1.0986122886681098|0.6931471805599453| 3.871201010907891|0.6931471805599453|       3.0|       7.0|       1.0|       1.0|       0.0|       1.0|       2.0|       0.0|    (11,[0],[1.0])|     (7,[1],[1.0])|   (210,[3],[1.0])|    (26,[7],[1.0])|    (17,[1],[1.0])|     (1,[0],[1.0])|     (8,[2],[1.0])|    (33,[1],[1.0])|(313,[3,217,237,2...|[-0.3546214836349...|[2.39789527279837...|\n",
      "|  0| 10.0| 5.0|12.0|  568.0| 15.0|  3.0|11.0|  12.0| 1.0| 12.0|05db9164|90081f33|384874ce|fe6b92e5|0b153874|a73ee510|b28479f6|07c540c4|32c7478e|2.3978952727983707| 1.791759469228055|2.5649493574615367| 6.343880434126331| 2.772588722239781|1.3862943611198906|2.4849066497880004|2.5649493574615367|0.6931471805599453|2.5649493574615367| 6.343880434126331|2.5649493574615367|2.3978952727983707|2.4849066497880004|2.5649493574615367|2.5649493574615367| 2.772588722239781|1.3862943611198906| 1.791759469228055|0.6931471805599453|      21.0|       3.0|       2.0|       0.0|       0.0|       1.0|       1.0|       0.0|    (11,[0],[1.0])|     (7,[2],[1.0])|  (210,[21],[1.0])|    (26,[3],[1.0])|    (17,[1],[1.0])|     (1,[0],[1.0])|     (8,[1],[1.0])|    (33,[0],[1.0])|(313,[21,213,238,...|[-0.3546214836349...|[2.39789527279837...|\n",
      "|  0|  1.0|null|null|16428.0| null| null| 5.0|  null|null| null|05db9164|dc1def19|4cf72387|fe6b92e5|0b153874|a73ee510|ad1cc976|e5ba7672|c3dc6cef|0.6931471805599453|              null|              null| 9.706803344906337|              null|              null| 1.791759469228055|              null|              null|              null| 9.706803344906337|3.5397040608283685|0.6931471805599453| 1.791759469228055|1.7041792570817396| 1.712744875772556| 3.355940559060732|1.7258457796093518|2.1407438041148916|0.9739185128118837|     159.0|       1.0|       2.0|       0.0|       0.0|      10.0|       0.0|       9.0|    (11,[9],[1.0])|     (7,[2],[1.0])| (210,[159],[1.0])|    (26,[1],[1.0])|   (17,[10],[1.0])|     (1,[0],[1.0])|     (8,[0],[1.0])|    (33,[0],[1.0])|(313,[159,211,238...|[-0.3546214836349...|[0.69314718055994...|\n",
      "|  0|  3.0|11.0| 2.0| 2059.0| 63.0|  7.0|39.0|  63.0| 1.0|  2.0|5a9ed9b0|78ccd99e|384874ce|3bf701e7|37e4aa92|a73ee510|f862f261|e5ba7672|3a171ecb|1.3862943611198906|2.4849066497880004|1.0986122886681098| 7.630461261783627|4.1588830833596715|2.0794415416798357|3.6888794541139363|4.1588830833596715|0.6931471805599453|1.0986122886681098| 7.630461261783627|4.1588830833596715|1.3862943611198906|3.6888794541139363|1.0986122886681098|1.0986122886681098|4.1588830833596715|2.0794415416798357|2.4849066497880004|0.6931471805599453|      22.0|       3.0|       5.0|       3.0|       0.0|       6.0|       0.0|       1.0|    (11,[1],[1.0])|     (7,[5],[1.0])|  (210,[22],[1.0])|    (26,[3],[1.0])|    (17,[6],[1.0])|     (1,[0],[1.0])|     (8,[0],[1.0])|    (33,[3],[1.0])|(313,[22,213,241,...|[-0.3546214836349...|[1.38629436111989...|\n",
      "|  0| 25.0| 3.0| 7.0|15719.0| 44.0| 25.0| 7.0|  42.0| 1.0|  7.0|05db9164|09e68b86|25c83c98|7e0ccccf|5b392875|a73ee510|b28479f6|e5ba7672|32c7478e| 3.258096538021482|1.3862943611198906|2.0794415416798357| 9.662689065983198|3.8066624897703196| 3.258096538021482|2.0794415416798357|3.7612001156935624|0.6931471805599453|2.0794415416798357| 9.662689065983198|3.7612001156935624| 3.258096538021482|2.0794415416798357|2.0794415416798357|2.0794415416798357|3.8066624897703196| 3.258096538021482|1.3862943611198906|0.6931471805599453|       5.0|       0.0|       0.0|       1.0|       0.0|       1.0|       0.0|       0.0|    (11,[0],[1.0])|     (7,[0],[1.0])|   (210,[5],[1.0])|    (26,[0],[1.0])|    (17,[1],[1.0])|     (1,[0],[1.0])|     (8,[0],[1.0])|    (33,[1],[1.0])|(313,[5,210,236,2...|[-0.3546214836349...|[3.25809653802148...|\n",
      "|  0|  1.0| 3.0| 9.0| 2727.0| 13.0| 19.0|11.0|  67.0| 2.0|  9.0|68fd1e64|207b2d81|25c83c98|       0|37e4aa92|a73ee510|07d13a8f|3486227d|32c7478e|0.6931471805599453|1.3862943611198906| 2.302585092994046| 7.911324018963353|2.6390573296152584| 2.995732273553991|2.4849066497880004| 4.219507705176107|1.0986122886681098| 2.302585092994046| 7.911324018963353| 4.219507705176107|0.6931471805599453|2.4849066497880004| 2.302585092994046| 2.302585092994046|2.6390573296152584| 2.995732273553991|1.3862943611198906|1.0986122886681098|       1.0|       0.0|       3.0|       3.0|       0.0|       0.0|       3.0|       0.0|    (11,[0],[1.0])|     (7,[3],[1.0])|   (210,[1],[1.0])|    (26,[0],[1.0])|    (17,[0],[1.0])|     (1,[0],[1.0])|     (8,[3],[1.0])|    (33,[3],[1.0])|(313,[1,210,239,2...|[-0.3546214836349...|[0.69314718055994...|\n",
      "|  0|  4.0|16.0| 6.0|10075.0| null|  0.0| 6.0|  16.0| 0.0|  6.0|05db9164|a0e12995|25c83c98|fe6b92e5|5b392875|a73ee510|b28479f6|776ce399|3a171ecb|1.6094379124341003| 2.833213344056216|1.9459101490553132|   9.2179116374725|              null|               0.0|1.9459101490553132| 2.833213344056216|               0.0|1.9459101490553132|   9.2179116374725| 2.833213344056216|1.6094379124341003|1.9459101490553132|1.9459101490553132|1.9459101490553132| 3.355940559060732|               0.0| 2.833213344056216|               0.0|      20.0|       0.0|       2.0|       1.0|       0.0|       1.0|       5.0|       1.0|    (11,[1],[1.0])|     (7,[2],[1.0])|  (210,[20],[1.0])|    (26,[0],[1.0])|    (17,[1],[1.0])|     (1,[0],[1.0])|     (8,[5],[1.0])|    (33,[1],[1.0])|(313,[20,210,238,...|[-0.3546214836349...|[1.60943791243410...|\n",
      "|  0|  0.0| 6.0| 9.0|    0.0|  1.0|197.0|18.0| 191.0|12.0|  1.0|05db9164|95e2d337|25c83c98|7e0ccccf|56563555|a73ee510|07d13a8f|8efede7f|423fab69|               0.0|1.9459101490553132| 2.302585092994046|               0.0|0.6931471805599453| 5.288267030694535|2.9444389791664403|5.2574953720277815|2.5649493574615367|0.6931471805599453|               0.0|5.2574953720277815|               0.0|2.9444389791664403| 2.302585092994046|0.6931471805599453|0.6931471805599453| 5.288267030694535|1.9459101490553132|2.5649493574615367|      18.0|       0.0|       0.0|      11.0|       0.0|       0.0|       6.0|       2.0|    (11,[2],[1.0])|     (7,[0],[1.0])|  (210,[18],[1.0])|    (26,[0],[1.0])|    (17,[0],[1.0])|     (1,[0],[1.0])|     (8,[6],[1.0])|   (33,[11],[1.0])|(313,[18,210,236,...|[-0.3546214836349...|[0.0,1.9459101490...|\n",
      "|  0| 19.0|19.0| 4.0| 1496.0| 31.0|  1.0|18.0|  18.0| 1.0|  4.0|68fd1e64|3ab4d7f5|25c83c98|       0|0b153874|a73ee510|dcd762ee|d4bb7bd8|3a171ecb| 2.995732273553991| 2.995732273553991|1.6094379124341003| 7.311218384419629|3.4657359027997265|0.6931471805599453|2.9444389791664403|2.9444389791664403|0.6931471805599453|1.6094379124341003| 7.311218384419629|2.9444389791664403| 2.995732273553991|2.9444389791664403|1.6094379124341003|1.6094379124341003|3.4657359027997265|0.6931471805599453| 2.995732273553991|0.6931471805599453|      66.0|       0.0|       3.0|       0.0|       0.0|      13.0|       2.0|       1.0|    (11,[1],[1.0])|     (7,[3],[1.0])|  (210,[66],[1.0])|    (26,[0],[1.0])|   (17,[13],[1.0])|     (1,[0],[1.0])|     (8,[2],[1.0])|    (33,[0],[1.0])|(313,[66,210,239,...|[-0.3546214836349...|[2.99573227355399...|\n",
      "|  0| -1.0|null|null|13865.0|133.0|  5.0|11.0| 100.0| 2.0| null|05db9164|a796837e|25c83c98|7e0ccccf|0b153874|a73ee510|07d13a8f|e5ba7672|32c7478e|              null|              null|              null| 9.537195079502435| 4.897839799950911| 1.791759469228055|2.4849066497880004|  4.61512051684126|1.0986122886681098|              null| 9.537195079502435|  4.61512051684126|2.3878927248048827|2.4849066497880004|1.7041792570817396| 1.712744875772556| 4.897839799950911| 1.791759469228055|2.1407438041148916|1.0986122886681098|      15.0|       0.0|       0.0|       0.0|       0.0|       0.0|       0.0|       0.0|    (11,[0],[1.0])|     (7,[0],[1.0])|  (210,[15],[1.0])|    (26,[0],[1.0])|    (17,[0],[1.0])|     (1,[0],[1.0])|     (8,[0],[1.0])|    (33,[0],[1.0])|(313,[15,210,236,...|[-0.3546214836349...|[2.38789272480488...|\n",
      "|  0| 28.0|12.0|17.0| 2836.0|279.0|  3.0|15.0| 249.0| 2.0| 38.0|5a9ed9b0|08d6d899|25c83c98|fe6b92e5|0b153874|a73ee510|b28479f6|3486227d|32c7478e| 3.367295829986474|2.5649493574615367|2.8903717578961645| 7.950502434808851| 5.634789603169249|1.3862943611198906| 2.772588722239781| 5.521460917862246|1.0986122886681098|3.6635616461296463| 7.950502434808851| 5.521460917862246| 3.367295829986474| 2.772588722239781|2.8903717578961645|3.6635616461296463| 5.634789603169249|1.3862943611198906|2.5649493574615367|1.0986122886681098|      11.0|       0.0|       2.0|       0.0|       0.0|       1.0|       3.0|       0.0|    (11,[0],[1.0])|     (7,[2],[1.0])|  (210,[11],[1.0])|    (26,[0],[1.0])|    (17,[1],[1.0])|     (1,[0],[1.0])|     (8,[3],[1.0])|    (33,[0],[1.0])|(313,[11,210,238,...|[-0.3546214836349...|[3.36729582998647...|\n",
      "|  0|  0.0| 1.0| 3.0|    4.0|  1.0|  5.0|25.0|  65.0| 2.0|  0.0|be589b51|207b2d81|4cf72387|       0|f504a6f4|a73ee510|64c94865|3486227d|32c7478e|               0.0|0.6931471805599453|1.3862943611198906|1.6094379124341003|0.6931471805599453| 1.791759469228055| 3.258096538021482| 4.189654742026425|1.0986122886681098|               0.0|1.6094379124341003| 4.189654742026425|               0.0| 3.258096538021482|1.3862943611198906|               0.0|0.6931471805599453| 1.791759469228055|0.6931471805599453|1.0986122886681098|       1.0|       1.0|       3.0|      15.0|       0.0|       3.0|       3.0|       0.0|    (11,[0],[1.0])|     (7,[3],[1.0])|   (210,[1],[1.0])|    (26,[1],[1.0])|    (17,[3],[1.0])|     (1,[0],[1.0])|     (8,[3],[1.0])|   (33,[15],[1.0])|(313,[1,211,239,2...|[-0.3546214836349...|[0.0,0.6931471805...|\n",
      "|  0|  3.0|null|null|35526.0| null|  0.0| 4.0|   2.0| 0.0| null|8cf07265|38a947a1|25c83c98|3bf701e7|0b153874|a73ee510|b28479f6|1e88c74f|32c7478e|1.3862943611198906|              null|              null|10.478048249762029|              null|               0.0|1.6094379124341003|1.0986122886681098|               0.0|              null|10.478048249762029|1.0986122886681098|1.3862943611198906|1.6094379124341003|1.7041792570817396| 1.712744875772556| 3.355940559060732|               0.0|2.1407438041148916|               0.0|       0.0|       0.0|       5.0|       0.0|       0.0|       1.0|       7.0|       0.0|    (11,[0],[1.0])|     (7,[5],[1.0])|   (210,[0],[1.0])|    (26,[0],[1.0])|    (17,[1],[1.0])|     (1,[0],[1.0])|     (8,[7],[1.0])|    (33,[0],[1.0])|(313,[0,210,241,2...|[2.81742580305247...|[1.38629436111989...|\n",
      "|  0|307.0| 1.0| 1.0|   null| null|  0.0| 1.0|   4.0| 0.0|  1.0|05db9164|8db5bc37|4cf72387|fe6b92e5|f504a6f4|7cc72ec2|64c94865|2005abd1|be7c41b4| 5.730099782973574|0.6931471805599453|0.6931471805599453|              null|              null|               0.0|0.6931471805599453|1.6094379124341003|               0.0|0.6931471805599453| 7.185557654482239|1.6094379124341003| 5.730099782973574|0.6931471805599453|0.6931471805599453|0.6931471805599453| 3.355940559060732|               0.0|0.6931471805599453|               0.0|      27.0|       1.0|       2.0|      15.0|       1.0|       3.0|       8.0|       5.0|    (11,[5],[1.0])|     (7,[2],[1.0])|  (210,[27],[1.0])|    (26,[1],[1.0])|    (17,[3],[1.0])|         (1,[],[])|         (8,[],[])|   (33,[15],[1.0])|(313,[27,211,238,...|[-0.3546214836349...|[5.73009978297357...|\n",
      "|  0|485.0|65.0| 7.0|   80.0|140.0|  4.0| 7.0| 128.0| 1.0|  7.0|05db9164|1cfdf714|384874ce|fbad5c96|0b153874|a73ee510|1adce6ef|e5ba7672|423fab69| 6.186208623900494| 4.189654742026425|2.0794415416798357| 4.394449154672439| 4.948759890378168|1.6094379124341003|2.0794415416798357| 4.859812404361672|0.6931471805599453|2.0794415416798357| 4.394449154672439| 4.859812404361672| 6.186208623900494|2.0794415416798357|2.0794415416798357|2.0794415416798357| 4.948759890378168|1.6094379124341003| 4.189654742026425|0.6931471805599453|       4.0|       3.0|       1.0|       0.0|       0.0|       2.0|       0.0|       2.0|    (11,[2],[1.0])|     (7,[1],[1.0])|   (210,[4],[1.0])|    (26,[3],[1.0])|    (17,[2],[1.0])|     (1,[0],[1.0])|     (8,[0],[1.0])|    (33,[0],[1.0])|(313,[4,213,237,2...|[-0.3546214836349...|[6.18620862390049...|\n",
      "|  0| -1.0|null|null|25489.0| null| null| 8.0|  null|null| null|05db9164|b961056b|4cf72387|3bf701e7|0b153874|a73ee510|b28479f6|07c540c4|32c7478e|              null|              null|              null|10.146041497370161|              null|              null|2.1972245773362196|              null|              null|              null|10.146041497370161|3.5397040608283685|2.3878927248048827|2.1972245773362196|1.7041792570817396| 1.712744875772556| 3.355940559060732|1.7258457796093518|2.1407438041148916|0.9739185128118837|      42.0|       1.0|       5.0|       0.0|       0.0|       1.0|       1.0|       0.0|    (11,[0],[1.0])|     (7,[5],[1.0])|  (210,[42],[1.0])|    (26,[1],[1.0])|    (17,[1],[1.0])|     (1,[0],[1.0])|     (8,[1],[1.0])|    (33,[0],[1.0])|(313,[42,211,241,...|[-0.3546214836349...|[2.38789272480488...|\n",
      "+---+-----+----+----+-------+-----+-----+----+------+----+-----+--------+--------+--------+--------+--------+--------+--------+--------+--------+------------------+------------------+------------------+------------------+------------------+------------------+------------------+------------------+------------------+------------------+------------------+------------------+------------------+------------------+------------------+------------------+------------------+------------------+------------------+------------------+----------+----------+----------+----------+----------+----------+----------+----------+------------------+------------------+------------------+------------------+------------------+------------------+------------------+------------------+--------------------+--------------------+--------------------+\n",
      "only showing top 20 rows\n",
      "\n"
     ]
    }
   ],
   "source": [
    "# assemble imputed log numerical variables to a new feature vector for normalization in next step\n",
    "num_assembler = VectorAssembler(inputCols=['log_2_imputed','log_3_imputed','log_4_imputed','log_5_imputed',\n",
    "                                           'log_6_imputed','log_7_imputed','log_8_imputed','log_9_imputed',\n",
    "                                           'log_11_imputed','log_13_imputed'],\n",
    "                                outputCol=\"NumFeatures\")\n",
    "\n",
    "v_num_toy = num_assembler.transform(scaler_toy_onehot)\n",
    "v_num_toy.show()"
   ]
  },
  {
   "cell_type": "code",
   "execution_count": null,
   "metadata": {
    "colab": {
     "base_uri": "https://localhost:8080/",
     "height": 479
    },
    "colab_type": "code",
    "id": "Q45fV0PxZgPP",
    "outputId": "6f38fbe6-9169-417e-df9a-19ce1449b070"
   },
   "outputs": [
    {
     "name": "stdout",
     "output_type": "stream",
     "text": [
      "+---+-----+----+----+-------+-----+-----+----+------+----+-----+--------+--------+--------+--------+--------+--------+--------+--------+--------+------------------+------------------+------------------+------------------+------------------+------------------+------------------+------------------+------------------+------------------+------------------+------------------+------------------+------------------+------------------+------------------+------------------+------------------+------------------+------------------+----------+----------+----------+----------+----------+----------+----------+----------+------------------+------------------+------------------+------------------+------------------+------------------+------------------+------------------+--------------------+--------------------+--------------------+--------------------+\n",
      "|  0|    2|   3|   4|      5|    6|    7|   8|     9|  11|   13|      14|      15|      18|      19|      21|      22|      27|      30|      36|             log_2|             log_3|             log_4|             log_5|             log_6|             log_7|             log_8|             log_9|            log_11|            log_13|     log_5_imputed|     log_9_imputed|     log_2_imputed|     log_8_imputed|     log_4_imputed|    log_13_imputed|     log_6_imputed|     log_7_imputed|     log_3_imputed|    log_11_imputed|15_indexed|18_indexed|19_indexed|21_indexed|22_indexed|27_indexed|30_indexed|36_indexed|36_indexed_encoded|19_indexed_encoded|15_indexed_encoded|18_indexed_encoded|27_indexed_encoded|22_indexed_encoded|30_indexed_encoded|21_indexed_encoded|         CatFeatures|  scaled_categorical|         NumFeatures|  normed_log_numeric|\n",
      "+---+-----+----+----+-------+-----+-----+----+------+----+-----+--------+--------+--------+--------+--------+--------+--------+--------+--------+------------------+------------------+------------------+------------------+------------------+------------------+------------------+------------------+------------------+------------------+------------------+------------------+------------------+------------------+------------------+------------------+------------------+------------------+------------------+------------------+----------+----------+----------+----------+----------+----------+----------+----------+------------------+------------------+------------------+------------------+------------------+------------------+------------------+------------------+--------------------+--------------------+--------------------+--------------------+\n",
      "|  0|  5.0| 8.0|32.0|  766.0| 93.0| 25.0|47.0| 326.0| 4.0| 44.0|05db9164|38a947a1|25c83c98|7e0ccccf|f504a6f4|a73ee510|b28479f6|e5ba7672|423fab69| 1.791759469228055|2.1972245773362196|3.4965075614664802| 6.642486801367256| 4.543294782270004| 3.258096538021482| 3.871201010907891|5.7899601708972535|1.6094379124341003|3.8066624897703196| 6.642486801367256|5.7899601708972535| 1.791759469228055| 3.871201010907891|3.4965075614664802|3.8066624897703196| 4.543294782270004| 3.258096538021482|2.1972245773362196|1.6094379124341003|       0.0|       0.0|       0.0|      15.0|       0.0|       1.0|       0.0|       2.0|    (11,[2],[1.0])|     (7,[0],[1.0])|   (210,[0],[1.0])|    (26,[0],[1.0])|    (17,[1],[1.0])|     (1,[0],[1.0])|     (8,[0],[1.0])|   (33,[15],[1.0])|(313,[0,210,236,2...|[2.81742580305247...|[1.79175946922805...|[0.14110795622397...|\n",
      "|  0|  0.0|null|null| 1571.0|  5.0|  7.0| 5.0|  13.0| 3.0| null|05db9164|09e68b86|25c83c98|7e0ccccf|5b392875|a73ee510|1adce6ef|e5ba7672|32c7478e|               0.0|              null|              null| 7.360103972989152| 1.791759469228055|2.0794415416798357| 1.791759469228055|2.6390573296152584|1.3862943611198906|              null| 7.360103972989152|2.6390573296152584|               0.0| 1.791759469228055|1.7041792570817396| 1.712744875772556| 1.791759469228055|2.0794415416798357|2.1407438041148916|1.3862943611198906|       5.0|       0.0|       0.0|       1.0|       0.0|       2.0|       0.0|       0.0|    (11,[0],[1.0])|     (7,[0],[1.0])|   (210,[5],[1.0])|    (26,[0],[1.0])|    (17,[2],[1.0])|     (1,[0],[1.0])|     (8,[0],[1.0])|    (33,[1],[1.0])|(313,[5,210,236,2...|[-0.3546214836349...|[0.0,2.1407438041...|[0.0,0.2332649368...|\n",
      "|  0| -1.0|null|null|18086.0| 86.0|  1.0| 1.0|  45.0| 1.0| null|8cf07265|3f0d3f28|384874ce|fe6b92e5|5b392875|a73ee510|32813e21|e5ba7672|3a171ecb|              null|              null|              null| 9.802948727157515| 4.465908118654584|0.6931471805599453|0.6931471805599453| 3.828641396489095|0.6931471805599453|              null| 9.802948727157515| 3.828641396489095|2.3878927248048827|0.6931471805599453|1.7041792570817396| 1.712744875772556| 4.465908118654584|0.6931471805599453|2.1407438041148916|0.6931471805599453|      40.0|       3.0|       2.0|       1.0|       0.0|       9.0|       0.0|       1.0|    (11,[1],[1.0])|     (7,[2],[1.0])|  (210,[40],[1.0])|    (26,[3],[1.0])|    (17,[9],[1.0])|     (1,[0],[1.0])|     (8,[0],[1.0])|    (33,[1],[1.0])|(313,[40,213,238,...|[-0.3546214836349...|[2.38789272480488...|[0.19610839202661...|\n",
      "|  0|331.0|32.0|75.0|  560.0|253.0|177.0|22.0|1965.0|22.0|207.0|f473b8dc|942f9a8d|25c83c98|7e0ccccf|0b153874|a73ee510|1adce6ef|27c07bd6|32c7478e| 5.805134968916488|3.4965075614664802| 4.330733340286331| 6.329720905522696| 5.537334267018537| 5.181783550292085|3.1354942159291497| 7.583756300707112|3.1354942159291497| 5.337538079701318| 6.329720905522696| 7.583756300707112| 5.805134968916488|3.1354942159291497| 4.330733340286331| 5.337538079701318| 5.537334267018537| 5.181783550292085|3.4965075614664802|3.1354942159291497|      30.0|       0.0|       0.0|       0.0|       0.0|       2.0|       4.0|       0.0|    (11,[0],[1.0])|     (7,[0],[1.0])|  (210,[30],[1.0])|    (26,[0],[1.0])|    (17,[2],[1.0])|     (1,[0],[1.0])|     (8,[4],[1.0])|    (33,[0],[1.0])|(313,[30,210,236,...|[-0.3546214836349...|[5.80513496891648...|[0.35465531617691...|\n",
      "|  1| 10.0|47.0|12.0|    2.0|  2.0|  1.0|15.0|  60.0| 1.0|  2.0|05db9164|38d50e09|f281d2a7|fbad5c96|5b392875|a73ee510|b28479f6|d4bb7bd8|32c7478e|2.3978952727983707| 3.871201010907891|2.5649493574615367|1.0986122886681098|1.0986122886681098|0.6931471805599453| 2.772588722239781| 4.110873864173311|0.6931471805599453|1.0986122886681098|1.0986122886681098| 4.110873864173311|2.3978952727983707| 2.772588722239781|2.5649493574615367|1.0986122886681098|1.0986122886681098|0.6931471805599453| 3.871201010907891|0.6931471805599453|       3.0|       7.0|       1.0|       1.0|       0.0|       1.0|       2.0|       0.0|    (11,[0],[1.0])|     (7,[1],[1.0])|   (210,[3],[1.0])|    (26,[7],[1.0])|    (17,[1],[1.0])|     (1,[0],[1.0])|     (8,[2],[1.0])|    (33,[1],[1.0])|(313,[3,217,237,2...|[-0.3546214836349...|[2.39789527279837...|[0.31905825897196...|\n",
      "|  0| 10.0| 5.0|12.0|  568.0| 15.0|  3.0|11.0|  12.0| 1.0| 12.0|05db9164|90081f33|384874ce|fe6b92e5|0b153874|a73ee510|b28479f6|07c540c4|32c7478e|2.3978952727983707| 1.791759469228055|2.5649493574615367| 6.343880434126331| 2.772588722239781|1.3862943611198906|2.4849066497880004|2.5649493574615367|0.6931471805599453|2.5649493574615367| 6.343880434126331|2.5649493574615367|2.3978952727983707|2.4849066497880004|2.5649493574615367|2.5649493574615367| 2.772588722239781|1.3862943611198906| 1.791759469228055|0.6931471805599453|      21.0|       3.0|       2.0|       0.0|       0.0|       1.0|       1.0|       0.0|    (11,[0],[1.0])|     (7,[2],[1.0])|  (210,[21],[1.0])|    (26,[3],[1.0])|    (17,[1],[1.0])|     (1,[0],[1.0])|     (8,[1],[1.0])|    (33,[0],[1.0])|(313,[21,213,238,...|[-0.3546214836349...|[2.39789527279837...|[0.25977321946075...|\n",
      "|  0|  1.0|null|null|16428.0| null| null| 5.0|  null|null| null|05db9164|dc1def19|4cf72387|fe6b92e5|0b153874|a73ee510|ad1cc976|e5ba7672|c3dc6cef|0.6931471805599453|              null|              null| 9.706803344906337|              null|              null| 1.791759469228055|              null|              null|              null| 9.706803344906337|3.5397040608283685|0.6931471805599453| 1.791759469228055|1.7041792570817396| 1.712744875772556| 3.355940559060732|1.7258457796093518|2.1407438041148916|0.9739185128118837|     159.0|       1.0|       2.0|       0.0|       0.0|      10.0|       0.0|       9.0|    (11,[9],[1.0])|     (7,[2],[1.0])| (210,[159],[1.0])|    (26,[1],[1.0])|   (17,[10],[1.0])|     (1,[0],[1.0])|     (8,[0],[1.0])|    (33,[0],[1.0])|(313,[159,211,238...|[-0.3546214836349...|[0.69314718055994...|[0.05942545628612...|\n",
      "|  0|  3.0|11.0| 2.0| 2059.0| 63.0|  7.0|39.0|  63.0| 1.0|  2.0|5a9ed9b0|78ccd99e|384874ce|3bf701e7|37e4aa92|a73ee510|f862f261|e5ba7672|3a171ecb|1.3862943611198906|2.4849066497880004|1.0986122886681098| 7.630461261783627|4.1588830833596715|2.0794415416798357|3.6888794541139363|4.1588830833596715|0.6931471805599453|1.0986122886681098| 7.630461261783627|4.1588830833596715|1.3862943611198906|3.6888794541139363|1.0986122886681098|1.0986122886681098|4.1588830833596715|2.0794415416798357|2.4849066497880004|0.6931471805599453|      22.0|       3.0|       5.0|       3.0|       0.0|       6.0|       0.0|       1.0|    (11,[1],[1.0])|     (7,[5],[1.0])|  (210,[22],[1.0])|    (26,[3],[1.0])|    (17,[6],[1.0])|     (1,[0],[1.0])|     (8,[0],[1.0])|    (33,[3],[1.0])|(313,[22,213,241,...|[-0.3546214836349...|[1.38629436111989...|[0.12564346303016...|\n",
      "|  0| 25.0| 3.0| 7.0|15719.0| 44.0| 25.0| 7.0|  42.0| 1.0|  7.0|05db9164|09e68b86|25c83c98|7e0ccccf|5b392875|a73ee510|b28479f6|e5ba7672|32c7478e| 3.258096538021482|1.3862943611198906|2.0794415416798357| 9.662689065983198|3.8066624897703196| 3.258096538021482|2.0794415416798357|3.7612001156935624|0.6931471805599453|2.0794415416798357| 9.662689065983198|3.7612001156935624| 3.258096538021482|2.0794415416798357|2.0794415416798357|2.0794415416798357|3.8066624897703196| 3.258096538021482|1.3862943611198906|0.6931471805599453|       5.0|       0.0|       0.0|       1.0|       0.0|       1.0|       0.0|       0.0|    (11,[0],[1.0])|     (7,[0],[1.0])|   (210,[5],[1.0])|    (26,[0],[1.0])|    (17,[1],[1.0])|     (1,[0],[1.0])|     (8,[0],[1.0])|    (33,[1],[1.0])|(313,[5,210,236,2...|[-0.3546214836349...|[3.25809653802148...|[0.25870153799060...|\n",
      "|  0|  1.0| 3.0| 9.0| 2727.0| 13.0| 19.0|11.0|  67.0| 2.0|  9.0|68fd1e64|207b2d81|25c83c98|       0|37e4aa92|a73ee510|07d13a8f|3486227d|32c7478e|0.6931471805599453|1.3862943611198906| 2.302585092994046| 7.911324018963353|2.6390573296152584| 2.995732273553991|2.4849066497880004| 4.219507705176107|1.0986122886681098| 2.302585092994046| 7.911324018963353| 4.219507705176107|0.6931471805599453|2.4849066497880004| 2.302585092994046| 2.302585092994046|2.6390573296152584| 2.995732273553991|1.3862943611198906|1.0986122886681098|       1.0|       0.0|       3.0|       3.0|       0.0|       0.0|       3.0|       0.0|    (11,[0],[1.0])|     (7,[3],[1.0])|   (210,[1],[1.0])|    (26,[0],[1.0])|    (17,[0],[1.0])|     (1,[0],[1.0])|     (8,[3],[1.0])|    (33,[3],[1.0])|(313,[1,210,239,2...|[-0.3546214836349...|[0.69314718055994...|[0.06415826869052...|\n",
      "|  0|  4.0|16.0| 6.0|10075.0| null|  0.0| 6.0|  16.0| 0.0|  6.0|05db9164|a0e12995|25c83c98|fe6b92e5|5b392875|a73ee510|b28479f6|776ce399|3a171ecb|1.6094379124341003| 2.833213344056216|1.9459101490553132|   9.2179116374725|              null|               0.0|1.9459101490553132| 2.833213344056216|               0.0|1.9459101490553132|   9.2179116374725| 2.833213344056216|1.6094379124341003|1.9459101490553132|1.9459101490553132|1.9459101490553132| 3.355940559060732|               0.0| 2.833213344056216|               0.0|      20.0|       0.0|       2.0|       1.0|       0.0|       1.0|       5.0|       1.0|    (11,[1],[1.0])|     (7,[2],[1.0])|  (210,[20],[1.0])|    (26,[0],[1.0])|    (17,[1],[1.0])|     (1,[0],[1.0])|     (8,[5],[1.0])|    (33,[1],[1.0])|(313,[20,210,238,...|[-0.3546214836349...|[1.60943791243410...|[0.14324580018990...|\n",
      "|  0|  0.0| 6.0| 9.0|    0.0|  1.0|197.0|18.0| 191.0|12.0|  1.0|05db9164|95e2d337|25c83c98|7e0ccccf|56563555|a73ee510|07d13a8f|8efede7f|423fab69|               0.0|1.9459101490553132| 2.302585092994046|               0.0|0.6931471805599453| 5.288267030694535|2.9444389791664403|5.2574953720277815|2.5649493574615367|0.6931471805599453|               0.0|5.2574953720277815|               0.0|2.9444389791664403| 2.302585092994046|0.6931471805599453|0.6931471805599453| 5.288267030694535|1.9459101490553132|2.5649493574615367|      18.0|       0.0|       0.0|      11.0|       0.0|       0.0|       6.0|       2.0|    (11,[2],[1.0])|     (7,[0],[1.0])|  (210,[18],[1.0])|    (26,[0],[1.0])|    (17,[0],[1.0])|     (1,[0],[1.0])|     (8,[6],[1.0])|   (33,[11],[1.0])|(313,[18,210,236,...|[-0.3546214836349...|[0.0,1.9459101490...|[0.0,0.2163390314...|\n",
      "|  0| 19.0|19.0| 4.0| 1496.0| 31.0|  1.0|18.0|  18.0| 1.0|  4.0|68fd1e64|3ab4d7f5|25c83c98|       0|0b153874|a73ee510|dcd762ee|d4bb7bd8|3a171ecb| 2.995732273553991| 2.995732273553991|1.6094379124341003| 7.311218384419629|3.4657359027997265|0.6931471805599453|2.9444389791664403|2.9444389791664403|0.6931471805599453|1.6094379124341003| 7.311218384419629|2.9444389791664403| 2.995732273553991|2.9444389791664403|1.6094379124341003|1.6094379124341003|3.4657359027997265|0.6931471805599453| 2.995732273553991|0.6931471805599453|      66.0|       0.0|       3.0|       0.0|       0.0|      13.0|       2.0|       1.0|    (11,[1],[1.0])|     (7,[3],[1.0])|  (210,[66],[1.0])|    (26,[0],[1.0])|   (17,[13],[1.0])|     (1,[0],[1.0])|     (8,[2],[1.0])|    (33,[0],[1.0])|(313,[66,210,239,...|[-0.3546214836349...|[2.99573227355399...|[0.28975058317799...|\n",
      "|  0| -1.0|null|null|13865.0|133.0|  5.0|11.0| 100.0| 2.0| null|05db9164|a796837e|25c83c98|7e0ccccf|0b153874|a73ee510|07d13a8f|e5ba7672|32c7478e|              null|              null|              null| 9.537195079502435| 4.897839799950911| 1.791759469228055|2.4849066497880004|  4.61512051684126|1.0986122886681098|              null| 9.537195079502435|  4.61512051684126|2.3878927248048827|2.4849066497880004|1.7041792570817396| 1.712744875772556| 4.897839799950911| 1.791759469228055|2.1407438041148916|1.0986122886681098|      15.0|       0.0|       0.0|       0.0|       0.0|       0.0|       0.0|       0.0|    (11,[0],[1.0])|     (7,[0],[1.0])|  (210,[15],[1.0])|    (26,[0],[1.0])|    (17,[0],[1.0])|     (1,[0],[1.0])|     (8,[0],[1.0])|    (33,[0],[1.0])|(313,[15,210,236,...|[-0.3546214836349...|[2.38789272480488...|[0.18705662294283...|\n",
      "|  0| 28.0|12.0|17.0| 2836.0|279.0|  3.0|15.0| 249.0| 2.0| 38.0|5a9ed9b0|08d6d899|25c83c98|fe6b92e5|0b153874|a73ee510|b28479f6|3486227d|32c7478e| 3.367295829986474|2.5649493574615367|2.8903717578961645| 7.950502434808851| 5.634789603169249|1.3862943611198906| 2.772588722239781| 5.521460917862246|1.0986122886681098|3.6635616461296463| 7.950502434808851| 5.521460917862246| 3.367295829986474| 2.772588722239781|2.8903717578961645|3.6635616461296463| 5.634789603169249|1.3862943611198906|2.5649493574615367|1.0986122886681098|      11.0|       0.0|       2.0|       0.0|       0.0|       1.0|       3.0|       0.0|    (11,[0],[1.0])|     (7,[2],[1.0])|  (210,[11],[1.0])|    (26,[0],[1.0])|    (17,[1],[1.0])|     (1,[0],[1.0])|     (8,[3],[1.0])|    (33,[0],[1.0])|(313,[11,210,238,...|[-0.3546214836349...|[3.36729582998647...|[0.25385015210811...|\n",
      "|  0|  0.0| 1.0| 3.0|    4.0|  1.0|  5.0|25.0|  65.0| 2.0|  0.0|be589b51|207b2d81|4cf72387|       0|f504a6f4|a73ee510|64c94865|3486227d|32c7478e|               0.0|0.6931471805599453|1.3862943611198906|1.6094379124341003|0.6931471805599453| 1.791759469228055| 3.258096538021482| 4.189654742026425|1.0986122886681098|               0.0|1.6094379124341003| 4.189654742026425|               0.0| 3.258096538021482|1.3862943611198906|               0.0|0.6931471805599453| 1.791759469228055|0.6931471805599453|1.0986122886681098|       1.0|       1.0|       3.0|      15.0|       0.0|       3.0|       3.0|       0.0|    (11,[0],[1.0])|     (7,[3],[1.0])|   (210,[1],[1.0])|    (26,[1],[1.0])|    (17,[3],[1.0])|     (1,[0],[1.0])|     (8,[3],[1.0])|   (33,[15],[1.0])|(313,[1,211,239,2...|[-0.3546214836349...|[0.0,0.6931471805...|[0.0,0.1123564859...|\n",
      "|  0|  3.0|null|null|35526.0| null|  0.0| 4.0|   2.0| 0.0| null|8cf07265|38a947a1|25c83c98|3bf701e7|0b153874|a73ee510|b28479f6|1e88c74f|32c7478e|1.3862943611198906|              null|              null|10.478048249762029|              null|               0.0|1.6094379124341003|1.0986122886681098|               0.0|              null|10.478048249762029|1.0986122886681098|1.3862943611198906|1.6094379124341003|1.7041792570817396| 1.712744875772556| 3.355940559060732|               0.0|2.1407438041148916|               0.0|       0.0|       0.0|       5.0|       0.0|       0.0|       1.0|       7.0|       0.0|    (11,[0],[1.0])|     (7,[5],[1.0])|   (210,[0],[1.0])|    (26,[0],[1.0])|    (17,[1],[1.0])|     (1,[0],[1.0])|     (8,[7],[1.0])|    (33,[0],[1.0])|(313,[0,210,241,2...|[2.81742580305247...|[1.38629436111989...|[0.11835647694140...|\n",
      "|  0|307.0| 1.0| 1.0|   null| null|  0.0| 1.0|   4.0| 0.0|  1.0|05db9164|8db5bc37|4cf72387|fe6b92e5|f504a6f4|7cc72ec2|64c94865|2005abd1|be7c41b4| 5.730099782973574|0.6931471805599453|0.6931471805599453|              null|              null|               0.0|0.6931471805599453|1.6094379124341003|               0.0|0.6931471805599453| 7.185557654482239|1.6094379124341003| 5.730099782973574|0.6931471805599453|0.6931471805599453|0.6931471805599453| 3.355940559060732|               0.0|0.6931471805599453|               0.0|      27.0|       1.0|       2.0|      15.0|       1.0|       3.0|       8.0|       5.0|    (11,[5],[1.0])|     (7,[2],[1.0])|  (210,[27],[1.0])|    (26,[1],[1.0])|    (17,[3],[1.0])|         (1,[],[])|         (8,[],[])|   (33,[15],[1.0])|(313,[27,211,238,...|[-0.3546214836349...|[5.73009978297357...|[0.57232154095446...|\n",
      "|  0|485.0|65.0| 7.0|   80.0|140.0|  4.0| 7.0| 128.0| 1.0|  7.0|05db9164|1cfdf714|384874ce|fbad5c96|0b153874|a73ee510|1adce6ef|e5ba7672|423fab69| 6.186208623900494| 4.189654742026425|2.0794415416798357| 4.394449154672439| 4.948759890378168|1.6094379124341003|2.0794415416798357| 4.859812404361672|0.6931471805599453|2.0794415416798357| 4.394449154672439| 4.859812404361672| 6.186208623900494|2.0794415416798357|2.0794415416798357|2.0794415416798357| 4.948759890378168|1.6094379124341003| 4.189654742026425|0.6931471805599453|       4.0|       3.0|       1.0|       0.0|       0.0|       2.0|       0.0|       2.0|    (11,[2],[1.0])|     (7,[1],[1.0])|   (210,[4],[1.0])|    (26,[3],[1.0])|    (17,[2],[1.0])|     (1,[0],[1.0])|     (8,[0],[1.0])|    (33,[0],[1.0])|(313,[4,213,237,2...|[-0.3546214836349...|[6.18620862390049...|[0.52417113302866...|\n",
      "|  0| -1.0|null|null|25489.0| null| null| 8.0|  null|null| null|05db9164|b961056b|4cf72387|3bf701e7|0b153874|a73ee510|b28479f6|07c540c4|32c7478e|              null|              null|              null|10.146041497370161|              null|              null|2.1972245773362196|              null|              null|              null|10.146041497370161|3.5397040608283685|2.3878927248048827|2.1972245773362196|1.7041792570817396| 1.712744875772556| 3.355940559060732|1.7258457796093518|2.1407438041148916|0.9739185128118837|      42.0|       1.0|       5.0|       0.0|       0.0|       1.0|       1.0|       0.0|    (11,[0],[1.0])|     (7,[5],[1.0])|  (210,[42],[1.0])|    (26,[1],[1.0])|    (17,[1],[1.0])|     (1,[0],[1.0])|     (8,[1],[1.0])|    (33,[0],[1.0])|(313,[42,211,241,...|[-0.3546214836349...|[2.38789272480488...|[0.19393173881430...|\n",
      "+---+-----+----+----+-------+-----+-----+----+------+----+-----+--------+--------+--------+--------+--------+--------+--------+--------+--------+------------------+------------------+------------------+------------------+------------------+------------------+------------------+------------------+------------------+------------------+------------------+------------------+------------------+------------------+------------------+------------------+------------------+------------------+------------------+------------------+----------+----------+----------+----------+----------+----------+----------+----------+------------------+------------------+------------------+------------------+------------------+------------------+------------------+------------------+--------------------+--------------------+--------------------+--------------------+\n",
      "only showing top 20 rows\n",
      "\n"
     ]
    }
   ],
   "source": [
    "# normalize numeric variables\n",
    "from pyspark.ml.feature import Normalizer\n",
    "\n",
    "normalizer = Normalizer(inputCol=\"NumFeatures\", outputCol=\"normed_log_numeric\")\n",
    "normed_num_toy = normalizer.transform(v_num_toy)\n",
    "normed_num_toy.show()"
   ]
  },
  {
   "cell_type": "markdown",
   "metadata": {
    "colab_type": "text",
    "id": "qUgDIHKqf3Tq"
   },
   "source": [
    "### (9) Finalize data transformation\n",
    "\n",
    "The transformed and normalized numeric and categorical features are now assembled together into one feature vector."
   ]
  },
  {
   "cell_type": "code",
   "execution_count": null,
   "metadata": {
    "colab": {},
    "colab_type": "code",
    "id": "SeNc597lZlKe"
   },
   "outputs": [],
   "source": [
    "# duplicate column 0 as \"target\", and convert its data type to \"float\"\n",
    "normed_num_toy = normed_num_toy.withColumn(\"target\", normed_num_toy[\"0\"].cast(\"float\"))\n"
   ]
  },
  {
   "cell_type": "code",
   "execution_count": null,
   "metadata": {
    "colab": {
     "base_uri": "https://localhost:8080/",
     "height": 476
    },
    "colab_type": "code",
    "id": "8pBv4kjDX9tM",
    "outputId": "2614ec8f-06c0-45e7-d786-0dc0bbc06dec"
   },
   "outputs": [
    {
     "name": "stdout",
     "output_type": "stream",
     "text": [
      "+--------------------+------+\n",
      "|            features|target|\n",
      "+--------------------+------+\n",
      "|[0.14110795622397...|   0.0|\n",
      "|[0.0,0.2332649368...|   0.0|\n",
      "|[0.19610839202661...|   0.0|\n",
      "|[0.35465531617691...|   0.0|\n",
      "|[0.31905825897196...|   1.0|\n",
      "|[0.25977321946075...|   0.0|\n",
      "|[0.05942545628612...|   0.0|\n",
      "|[0.12564346303016...|   0.0|\n",
      "|[0.25870153799060...|   0.0|\n",
      "|[0.06415826869052...|   0.0|\n",
      "|[0.14324580018990...|   0.0|\n",
      "|[0.0,0.2163390314...|   0.0|\n",
      "|[0.28975058317799...|   0.0|\n",
      "|[0.18705662294283...|   0.0|\n",
      "|[0.25385015210811...|   0.0|\n",
      "|[0.0,0.1123564859...|   0.0|\n",
      "|[0.11835647694140...|   0.0|\n",
      "|[0.57232154095446...|   0.0|\n",
      "|[0.52417113302866...|   0.0|\n",
      "|[0.19393173881430...|   0.0|\n",
      "+--------------------+------+\n",
      "only showing top 20 rows\n",
      "\n"
     ]
    },
    {
     "data": {
      "text/plain": [
       "<bound method DataFrame.printSchema of DataFrame[features: vector, target: float]>"
      ]
     },
     "execution_count": 49,
     "metadata": {
      "tags": []
     },
     "output_type": "execute_result"
    }
   ],
   "source": [
    "# assemble normalized log numerical variables and scaled categorical variables to a new feature vector\n",
    "# select 'features' and 'target' to save as final toy df\n",
    "trans_assembler = VectorAssembler(inputCols=['normed_log_numeric','scaled_categorical'],\n",
    "                                  outputCol=\"features\")\n",
    "trans_toy_df = trans_assembler.transform(normed_num_toy)\n",
    "trans_toy_df = trans_toy_df.select(trans_toy_df.features, trans_toy_df.target)\n",
    "\n",
    "trans_toy_df.show()\n",
    "trans_toy_df.printSchema"
   ]
  },
  {
   "cell_type": "markdown",
   "metadata": {
    "colab_type": "text",
    "id": "stX7jTyonsBd"
   },
   "source": [
    "### (10) Reduce feature dimension to 100 using PCA\n",
    "\n",
    "As we expect the total number of features will not scale well together for such a big dataset, Principal Component Analysis (PCA) will be used to reduce to 100 features. "
   ]
  },
  {
   "cell_type": "code",
   "execution_count": null,
   "metadata": {
    "colab": {
     "base_uri": "https://localhost:8080/",
     "height": 459
    },
    "colab_type": "code",
    "id": "QKDQLGaunpk9",
    "outputId": "65881239-15ce-4ac0-88c2-d9b2b427b1d8"
   },
   "outputs": [
    {
     "name": "stdout",
     "output_type": "stream",
     "text": [
      "+--------------------+------+--------------------+\n",
      "|            features|target|        pca_features|\n",
      "+--------------------+------+--------------------+\n",
      "|[0.14110795622397...|   0.0|[0.24030868333957...|\n",
      "|[0.0,0.2332649368...|   0.0|[0.55408339984934...|\n",
      "|[0.19610839202661...|   0.0|[-0.0771215164390...|\n",
      "|[0.35465531617691...|   0.0|[0.33049506140704...|\n",
      "|[0.31905825897196...|   1.0|[0.50464937609451...|\n",
      "|[0.25977321946075...|   0.0|[0.14319884895544...|\n",
      "|[0.05942545628612...|   0.0|[-26.694044964925...|\n",
      "|[0.12564346303016...|   0.0|[-0.5852433611828...|\n",
      "|[0.25870153799060...|   0.0|[0.61161878947055...|\n",
      "|[0.06415826869052...|   0.0|[0.30650971368275...|\n",
      "|[0.14324580018990...|   0.0|[0.04388051899661...|\n",
      "|[0.0,0.2163390314...|   0.0|[0.35636523289388...|\n",
      "|[0.28975058317799...|   0.0|[-0.4144039944670...|\n",
      "|[0.18705662294283...|   0.0|[0.24722259338614...|\n",
      "|[0.25385015210811...|   0.0|[-0.0406424696712...|\n",
      "|[0.0,0.1123564859...|   0.0|[0.59931500628918...|\n",
      "|[0.11835647694140...|   0.0|[-0.6609948525699...|\n",
      "|[0.57232154095446...|   0.0|[-0.5343917345447...|\n",
      "|[0.52417113302866...|   0.0|[0.03162110778649...|\n",
      "|[0.19393173881430...|   0.0|[-0.3780864784995...|\n",
      "+--------------------+------+--------------------+\n",
      "only showing top 20 rows\n",
      "\n"
     ]
    }
   ],
   "source": [
    "pca = PCA(k=100, inputCol=\"features\", outputCol=\"pca_features\")\n",
    "pca_toy_df = pca.fit(trans_toy_df).transform(trans_toy_df)\n",
    "pca_toy_df.show()"
   ]
  },
  {
   "cell_type": "markdown",
   "metadata": {
    "colab_type": "text",
    "id": "ulY8roAUckEo"
   },
   "source": [
    "### (11) Finalize dataframe for regression model\n",
    "\n",
    "The pca_features and target columns are extracted into a final dataframe, ready for model training."
   ]
  },
  {
   "cell_type": "code",
   "execution_count": null,
   "metadata": {
    "colab": {
     "base_uri": "https://localhost:8080/",
     "height": 459
    },
    "colab_type": "code",
    "id": "xtdEFSx6cjHi",
    "outputId": "beeccf18-e893-408b-c37a-66210946d9cf"
   },
   "outputs": [
    {
     "name": "stdout",
     "output_type": "stream",
     "text": [
      "+--------------------+------+\n",
      "|        pca_features|target|\n",
      "+--------------------+------+\n",
      "|[0.24030868333957...|   0.0|\n",
      "|[0.55408339984934...|   0.0|\n",
      "|[-0.0771215164390...|   0.0|\n",
      "|[0.33049506140704...|   0.0|\n",
      "|[0.50464937609451...|   1.0|\n",
      "|[0.14319884895544...|   0.0|\n",
      "|[-26.694044964925...|   0.0|\n",
      "|[-0.5852433611828...|   0.0|\n",
      "|[0.61161878947055...|   0.0|\n",
      "|[0.30650971368275...|   0.0|\n",
      "|[0.04388051899661...|   0.0|\n",
      "|[0.35636523289388...|   0.0|\n",
      "|[-0.4144039944670...|   0.0|\n",
      "|[0.24722259338614...|   0.0|\n",
      "|[-0.0406424696712...|   0.0|\n",
      "|[0.59931500628918...|   0.0|\n",
      "|[-0.6609948525699...|   0.0|\n",
      "|[-0.5343917345447...|   0.0|\n",
      "|[0.03162110778649...|   0.0|\n",
      "|[-0.3780864784995...|   0.0|\n",
      "+--------------------+------+\n",
      "only showing top 20 rows\n",
      "\n"
     ]
    }
   ],
   "source": [
    "final_toy_df = pca_toy_df.select(pca_toy_df.pca_features, trans_toy_df.target)\n",
    "final_toy_df.show()"
   ]
  },
  {
   "cell_type": "markdown",
   "metadata": {
    "colab_type": "text",
    "id": "cr_w3WxBd7is"
   },
   "source": [
    "## **4.3 Spark ML Logistic Regression at small scale (1,000 data points)**\n",
    "\n",
    "The 1,000 point datset is split into 80%-20% for training and development purpose. This set would help ensure that the codes are ready to be used on the full-size dataset."
   ]
  },
  {
   "cell_type": "code",
   "execution_count": null,
   "metadata": {
    "colab": {
     "base_uri": "https://localhost:8080/",
     "height": 34
    },
    "colab_type": "code",
    "id": "sya6ilZ84ui6",
    "outputId": "fbc3cb4f-4a9b-4c87-ba43-d0090fc8d543"
   },
   "outputs": [
    {
     "data": {
      "text/plain": [
       "910"
      ]
     },
     "execution_count": 54,
     "metadata": {
      "tags": []
     },
     "output_type": "execute_result"
    }
   ],
   "source": [
    "# randomly split final df to toy_train and toy_dev\n",
    "toy_trainDF, toy_devDF = final_toy_df.randomSplit([0.8,0.2], seed = 5)\n",
    "\n",
    "toy_trainDF.count()"
   ]
  },
  {
   "cell_type": "code",
   "execution_count": null,
   "metadata": {
    "colab": {
     "base_uri": "https://localhost:8080/",
     "height": 34
    },
    "colab_type": "code",
    "id": "xacR3wV15SNH",
    "outputId": "f41dc229-3906-4832-992d-07725f790aa5"
   },
   "outputs": [
    {
     "data": {
      "text/plain": [
       "226"
      ]
     },
     "execution_count": 55,
     "metadata": {
      "tags": []
     },
     "output_type": "execute_result"
    }
   ],
   "source": [
    "toy_devDF.count()"
   ]
  },
  {
   "cell_type": "markdown",
   "metadata": {
    "colab_type": "text",
    "id": "JFogBXqTdQ2n"
   },
   "source": [
    "### (1) Perform regression\n",
    "\n",
    "We made use of pyspark MLlib’s logistic regression to fit the toy dataset and predicted result with the development set. "
   ]
  },
  {
   "cell_type": "code",
   "execution_count": null,
   "metadata": {
    "colab": {
     "base_uri": "https://localhost:8080/",
     "height": 54
    },
    "colab_type": "code",
    "id": "e0nhYGACKw2I",
    "outputId": "59343074-5636-4670-a6a4-2fd614bfc99d"
   },
   "outputs": [
    {
     "data": {
      "text/plain": [
       "Row(pca_features=DenseVector([-1.4193, 2.3175, -1.1018, -1.8403, 0.03, 2.74, -0.6922, 0.332, 3.1427, 1.7646, 1.5359, 0.8474, -2.5497, 2.1664, 1.1675, 1.0775, -1.266, -0.0686, -1.7755, -1.1341, 1.2977, 4.1931, 2.724, -0.3175, -1.6463, -0.1222, -0.8683, 3.6693, -2.2742, 3.982, 2.4331, -0.3317, 2.1285, 0.7537, -2.4869, -0.9626, -0.5193, 0.278, 0.8732, 4.0378, 1.4993, 2.3102, -1.0253, -1.4227, 1.475, -1.6841, 0.2835, -0.3732, 1.3983, -0.7002, 0.2303, 1.5715, 0.7219, -0.9209, -2.1043, -0.3113, 0.4534, 3.1363, 0.3044, 1.9241, -1.1178, 0.1508, -2.5439, -2.0872, -1.9474, 0.5605, 4.0535, 0.1824, 1.35, -6.6492, 3.3599, -2.1453, 1.2582, -0.5246, -1.294, -2.3598, 2.8041, -3.5041, 0.3694, 0.6581, 3.1365, 1.2594, -1.082, 2.8036, 2.1453, -1.1518, -0.9391, -0.5259, 2.1237, 0.2141, 1.4162, 2.4209, 0.1204, -0.7734, 1.5025, 1.4586, 0.7155, -0.2881, 0.3286, 1.0283]), target=0.0, rawPrediction=DenseVector([0.5441, -0.5441]), probability=DenseVector([0.6328, 0.3672]), prediction=0.0)"
      ]
     },
     "execution_count": 57,
     "metadata": {
      "tags": []
     },
     "output_type": "execute_result"
    }
   ],
   "source": [
    "from pyspark.ml.classification import LogisticRegression\n",
    "# Train a LR model with training toy data\n",
    "lr = LogisticRegression(featuresCol = 'pca_features', labelCol = 'target', maxIter=10)\n",
    "lrModel = lr.fit(toy_trainDF)\n",
    "\n",
    "# Run model on dev toy data to get predictions\n",
    "dev_results = lrModel.transform(toy_devDF)\n",
    "\n",
    "dev_results.head()"
   ]
  },
  {
   "cell_type": "markdown",
   "metadata": {
    "colab_type": "text",
    "id": "wFxE8ZaddUyH"
   },
   "source": [
    "### (2) calculate prediction accuracy\n",
    "\n",
    "Prediction accuracy here is computed with computing the number of correct predictions over total predictions made, obtaining an accuracy of 0.743 for the development set."
   ]
  },
  {
   "cell_type": "code",
   "execution_count": null,
   "metadata": {
    "colab": {
     "base_uri": "https://localhost:8080/",
     "height": 34
    },
    "colab_type": "code",
    "id": "MBGMkxoYHnth",
    "outputId": "52f759c1-b249-4090-aaea-f02ef1130d20"
   },
   "outputs": [
    {
     "name": "stdout",
     "output_type": "stream",
     "text": [
      "Prediction accuracy: 0.743\n"
     ]
    }
   ],
   "source": [
    "# Calculate accuracy \n",
    "# get the total number of correctly classified instances\n",
    "correct_counts= dev_results.filter(dev_results.target == dev_results.prediction).count()\n",
    "# get the total number of predited instances\n",
    "total_counts = dev_results.count()\n",
    "# calculate accuracy \n",
    "accuracy = correct_counts / total_counts\n",
    "print('Prediction accuracy: %0.3f' %accuracy)"
   ]
  },
  {
   "cell_type": "markdown",
   "metadata": {
    "colab_type": "text",
    "id": "zCf6-1Eldbg0"
   },
   "source": [
    "### (3) calculate log loss\n",
    "\n",
    "Log loss is also computed, yielding 0.739."
   ]
  },
  {
   "cell_type": "code",
   "execution_count": null,
   "metadata": {
    "colab": {
     "base_uri": "https://localhost:8080/",
     "height": 34
    },
    "colab_type": "code",
    "id": "1o34fokVdlwq",
    "outputId": "9b56b16c-d15c-4b84-dca2-07d784d2c858"
   },
   "outputs": [
    {
     "name": "stdout",
     "output_type": "stream",
     "text": [
      "Log loss: 0.739\n"
     ]
    }
   ],
   "source": [
    "# calculate log loss\n",
    "from sklearn.metrics import log_loss\n",
    "dev_results.select(['target', 'prediction'])\n",
    "y_true = dev_results.select('target').rdd.flatMap(lambda x: list(x)).collect()\n",
    "y_pred = dev_results.select('probability').rdd.flatMap(lambda x: list(x)).collect()\n",
    "logloss = log_loss(y_true, y_pred)\n",
    "print('Log loss: %0.3f' %logloss)"
   ]
  },
  {
   "cell_type": "markdown",
   "metadata": {
    "colab_type": "text",
    "id": "5JlGvILRdQ3S"
   },
   "source": [
    "## **4.4 Run on middle size (10,000 data points) and full datasets**\n",
    "\n",
    "Next, a 10,000 point dataset was used as an intermediate step towards the full dataset analysis."
   ]
  },
  {
   "cell_type": "markdown",
   "metadata": {
    "colab_type": "text",
    "id": "NIc8tRzLeF0g"
   },
   "source": [
    "### (1) Create functions for data convertion, transformation, and regression\n",
    "\n",
    "Since the steps were verified in Section 4.2, we made use of functional programming for RDD to dataframe conversion, data transformation and logistic regression modeling to make testing easy and consistent. "
   ]
  },
  {
   "cell_type": "markdown",
   "metadata": {
    "colab_type": "text",
    "id": "7GONIN6YeWbG"
   },
   "source": [
    "#### (a) function to convert RDD to Spark dataframe"
   ]
  },
  {
   "cell_type": "code",
   "execution_count": null,
   "metadata": {
    "colab": {},
    "colab_type": "code",
    "id": "mcZkL4b_huH4"
   },
   "outputs": [],
   "source": [
    "# function of convert RDD to Spark dataframe\n",
    "\n",
    "def create_dataframe(inputRDD):\n",
    "\n",
    "    def parse(line):\n",
    "        context = line.split('\\t')\n",
    "        yield(context)\n",
    "\n",
    "    def empty_as_null(x):\n",
    "        return when(col(x) != \"\", col(x)).otherwise(None)\n",
    "\n",
    "    sampleData = inputRDD.flatMap(parse)\\\n",
    "                         .cache()\n",
    "\n",
    "    indexDF = sampleData.toDF()\n",
    "\n",
    "    index = [str(i) for i in range(len(indexDF.columns))]\n",
    "    sampleData = sampleData.toDF(index)\n",
    "\n",
    "    # function to fill empty space with null value\n",
    "    for j in range(len(index)):\n",
    "        sampleData = sampleData.withColumn(str(j), empty_as_null(str(j)))\n",
    "\n",
    "    return sampleData"
   ]
  },
  {
   "cell_type": "markdown",
   "metadata": {
    "colab_type": "text",
    "id": "KqyvX0cneok2"
   },
   "source": [
    "#### (b) function for data transformation"
   ]
  },
  {
   "cell_type": "code",
   "execution_count": null,
   "metadata": {
    "colab": {},
    "colab_type": "code",
    "id": "YnJ2XelKhvBc"
   },
   "outputs": [],
   "source": [
    "# incorporate into function for data transformation\n",
    "\n",
    "def data_transform(dataframe):\n",
    "\n",
    "    # drop columns with many null value\n",
    "    drop_col = ['1','10','12','32','33','35','38','39','16','17','20','23','24','25','26','28','29','31','34','37']\n",
    "    toy_df_choose = dataframe.drop(*drop_col)\n",
    "\n",
    "    # covert string to float for numeric values\n",
    "    for i in toy_df_choose.columns[1:11]:\n",
    "        toy_df_choose = toy_df_choose.withColumn(i, toy_df_choose[i].cast('float'))\n",
    "  \n",
    "    # run log transformations on numeric variables \n",
    "    num_cols = ['2','3','4','5','6','7','8','9','11','13']\n",
    "\n",
    "    log_num_toy = toy_df_choose\n",
    "    for col in num_cols:\n",
    "        log_num_toy = log_num_toy.withColumn(\"log_{}\".format(col),log(toy_df_choose[col]+1))  \n",
    "\n",
    "    imputer = Imputer(inputCols=log_num_toy.columns[-10:], \n",
    "                      outputCols=[\"{}_imputed\".format(c) for c in log_num_toy.columns[-10:]])\n",
    "\n",
    "    toy_df_impute = imputer.fit(log_num_toy).transform(log_num_toy)\n",
    "\n",
    "    # fill null with '0' for categorical variables\n",
    "    toy_df_impute = toy_df_impute.na.fill('0')\n",
    "\n",
    "    # perform one-hot encoding\n",
    "    toy_hot = toy_df_impute\n",
    "\n",
    "    indexers = [StringIndexer(inputCol=col, outputCol=\"{0}_indexed\".format(col)) for col in list(toy_hot.columns[12:20])]\n",
    "\n",
    "    encoder = OneHotEncoderEstimator(inputCols=[indexer.getOutputCol() for indexer in indexers],\n",
    "                                     outputCols=[\"{0}_encoded\".format(indexer.getOutputCol()) for indexer in indexers])\n",
    "    cat_assembler = VectorAssembler(inputCols=encoder.getOutputCols(),outputCol=\"CatFeatures\")\n",
    "\n",
    "    pipeline = Pipeline(stages=indexers + [encoder, cat_assembler])\n",
    "    toy_onehot = pipeline.fit(toy_hot).transform(toy_hot)\n",
    "\n",
    "    # Perfom standard normalization for categorical variables\n",
    "    from pyspark.ml.feature import StandardScaler\n",
    "\n",
    "    scaler = StandardScaler(inputCol=\"CatFeatures\", outputCol=\"scaled_categorical\",\n",
    "                            withStd=True, withMean=True)\n",
    "\n",
    "    # Normalize each feature to have unit standard deviation.\n",
    "    scaler_toy_onehot = scaler.fit(toy_onehot).transform(toy_onehot)\n",
    "\n",
    "    # assemble imputed log numerical variables to a new feature vector for normalization in next step\n",
    "    num_assembler = VectorAssembler(inputCols=['log_2_imputed','log_3_imputed','log_4_imputed','log_5_imputed',\n",
    "                                               'log_6_imputed','log_7_imputed','log_8_imputed','log_9_imputed',\n",
    "                                               'log_11_imputed','log_13_imputed'],\n",
    "                                    outputCol=\"NumFeatures\")\n",
    "\n",
    "    v_num_toy = num_assembler.transform(scaler_toy_onehot)\n",
    "\n",
    "    # normalize numeric variables\n",
    "    normalizer = Normalizer(inputCol=\"NumFeatures\", outputCol=\"normed_log_numeric\")\n",
    "    normed_num_toy = normalizer.transform(v_num_toy)\n",
    "\n",
    "    # duplicate column 0 as \"target\", and convert its data type to \"float\"\n",
    "    normed_num_toy = normed_num_toy.withColumn(\"target\", normed_num_toy[\"0\"].cast(\"float\"))\n",
    "\n",
    "    # assemble normalized log numerical variables and scaled categorical variables to a new feature vector\n",
    "    # select 'features' and 'target' to save as transformed toy df\n",
    "    trans_assembler = VectorAssembler(inputCols=['normed_log_numeric','scaled_categorical'],\n",
    "                                      outputCol=\"features\")\n",
    "    trans_toy_df = trans_assembler.transform(normed_num_toy)\n",
    "    trans_toy_df = trans_toy_df.select(trans_toy_df.features, trans_toy_df.target)\n",
    "\n",
    "    # perform PCA to reduce the data dimention\n",
    "    pca = PCA(k=100, inputCol=\"features\", outputCol=\"pca_features\")\n",
    "    pca_toy_df = pca.fit(trans_toy_df).transform(trans_toy_df)  \n",
    "\n",
    "    # finalize the dataframe for regression\n",
    "    final_toy_df = pca_toy_df.select(pca_toy_df.pca_features, trans_toy_df.target)\n",
    "\n",
    "    return final_toy_df "
   ]
  },
  {
   "cell_type": "markdown",
   "metadata": {
    "colab_type": "text",
    "id": "b-JRH5Jqeh-7"
   },
   "source": [
    "#### (c) function for logistic regression"
   ]
  },
  {
   "cell_type": "code",
   "execution_count": null,
   "metadata": {
    "colab": {},
    "colab_type": "code",
    "id": "vOp5N6WCh4Yc"
   },
   "outputs": [],
   "source": [
    "# function for logistic regression\n",
    "\n",
    "from sklearn.metrics import log_loss\n",
    "\n",
    "def log_regression(trainingDF, developeDF):\n",
    "\n",
    "    # Train a LR model with training data\n",
    "    lr = LogisticRegression(featuresCol = 'pca_features', labelCol = 'target', maxIter=10)\n",
    "    lrModel = lr.fit(trainingDF)\n",
    "\n",
    "    # Run model on testing data to get predictions\n",
    "    dev_results = lrModel.transform(developeDF)\n",
    "\n",
    "    # get the total number of predited instances \n",
    "    correct_counts= dev_results.filter(dev_results.target == dev_results.prediction).count()\n",
    "    total_counts = dev_results.count()\n",
    "\n",
    "    # calculate accuracy \n",
    "    accuracy = correct_counts / total_counts\n",
    "\n",
    "    # calculate log loss\n",
    "    dev_results.select(['target', 'prediction'])\n",
    "    y_true = dev_results.select('target').rdd.flatMap(lambda x: list(x)).collect()\n",
    "    y_pred = dev_results.select('probability').rdd.flatMap(lambda x: list(x)).collect()\n",
    "    logloss = log_loss(y_true, y_pred)\n",
    "\n",
    "    return accuracy, logloss, lrModel"
   ]
  },
  {
   "cell_type": "markdown",
   "metadata": {
    "colab_type": "text",
    "id": "sGbxk7x5fFOp"
   },
   "source": [
    "### (2) Implement the logistic regression in middle scale (10,000 data points)\n",
    "\n",
    "The functions are then applied to a 10,000 point dataset. The prediction accuracy using another 10,000 point dataset is: 0.727. Log loss is: 0.619."
   ]
  },
  {
   "cell_type": "code",
   "execution_count": null,
   "metadata": {
    "colab": {},
    "colab_type": "code",
    "id": "MtFoIZzxfcfF"
   },
   "outputs": [],
   "source": [
    "# load samples\n",
    "toy_sample1 = spark.read.format(\"csv\").option(\"header\", True).load('toy10000-1.txt')\n",
    "toy_sample2 = spark.read.format(\"csv\").option(\"header\", True).load('toy10000-2.txt')"
   ]
  },
  {
   "cell_type": "code",
   "execution_count": null,
   "metadata": {
    "colab": {
     "base_uri": "https://localhost:8080/",
     "height": 459
    },
    "colab_type": "code",
    "id": "fCRA2sf_fkKS",
    "outputId": "a6fbde39-4e61-4470-f834-353a00ae1d20"
   },
   "outputs": [
    {
     "name": "stdout",
     "output_type": "stream",
     "text": [
      "+--------------------+------+\n",
      "|        pca_features|target|\n",
      "+--------------------+------+\n",
      "|[-0.0322229506750...|   1.0|\n",
      "|[-0.0371270208241...|   0.0|\n",
      "|[-0.3640689363823...|   0.0|\n",
      "|[-0.1452580909927...|   1.0|\n",
      "|[-0.2391196144050...|   1.0|\n",
      "|[-0.2341364212884...|   0.0|\n",
      "|[-0.2041021924807...|   0.0|\n",
      "|[0.18882109987645...|   0.0|\n",
      "|[-0.4403683131620...|   0.0|\n",
      "|[-0.2298739547123...|   0.0|\n",
      "|[0.14075561801328...|   0.0|\n",
      "|[-0.2564659522386...|   0.0|\n",
      "|[0.18620301645703...|   0.0|\n",
      "|[0.10091584775344...|   0.0|\n",
      "|[-0.1412126134146...|   0.0|\n",
      "|[-0.0857220259210...|   0.0|\n",
      "|[-0.2680417223302...|   0.0|\n",
      "|[-0.1253923049879...|   0.0|\n",
      "|[-0.1933328529326...|   0.0|\n",
      "|[-0.4355112610212...|   0.0|\n",
      "+--------------------+------+\n",
      "only showing top 20 rows\n",
      "\n"
     ]
    }
   ],
   "source": [
    "# transform toy_sample 1\n",
    "trans_toy1 = data_transform(toy_sample1)\n",
    "trans_toy1.show()"
   ]
  },
  {
   "cell_type": "code",
   "execution_count": null,
   "metadata": {
    "colab": {
     "base_uri": "https://localhost:8080/",
     "height": 459
    },
    "colab_type": "code",
    "id": "foPeg1MZfupW",
    "outputId": "043f971b-b976-4d79-ed1e-1dc1ddb858a4"
   },
   "outputs": [
    {
     "name": "stdout",
     "output_type": "stream",
     "text": [
      "+--------------------+------+\n",
      "|        pca_features|target|\n",
      "+--------------------+------+\n",
      "|[0.02868074547034...|   0.0|\n",
      "|[0.03359568957106...|   0.0|\n",
      "|[-0.1031088088997...|   1.0|\n",
      "|[-0.1353141768329...|   0.0|\n",
      "|[-0.1238633549231...|   0.0|\n",
      "|[-0.1170279589924...|   1.0|\n",
      "|[-0.0945959437609...|   1.0|\n",
      "|[0.04262854601009...|   0.0|\n",
      "|[-0.0120860231177...|   0.0|\n",
      "|[-0.0982536903318...|   0.0|\n",
      "|[-0.0157688231162...|   0.0|\n",
      "|[0.02496670513990...|   0.0|\n",
      "|[0.31536013300015...|   0.0|\n",
      "|[-0.1249303254948...|   0.0|\n",
      "|[-0.1301151642867...|   1.0|\n",
      "|[0.05712090116953...|   0.0|\n",
      "|[-0.0322308004219...|   1.0|\n",
      "|[-0.1604749900026...|   0.0|\n",
      "|[-0.0697165438344...|   0.0|\n",
      "|[-0.0031958364803...|   0.0|\n",
      "+--------------------+------+\n",
      "only showing top 20 rows\n",
      "\n"
     ]
    }
   ],
   "source": [
    "# transform toy_sample 2\n",
    "trans_toy2 = data_transform(toy_sample2)\n",
    "trans_toy2.show()"
   ]
  },
  {
   "cell_type": "code",
   "execution_count": null,
   "metadata": {
    "colab": {
     "base_uri": "https://localhost:8080/",
     "height": 51
    },
    "colab_type": "code",
    "id": "8WAb7gBVf8WZ",
    "outputId": "9859a390-01a2-4abf-ef78-3a9c89a2fe9c"
   },
   "outputs": [
    {
     "name": "stdout",
     "output_type": "stream",
     "text": [
      "Prediction accuracy: 0.727\n",
      "Log loss: 0.619\n"
     ]
    }
   ],
   "source": [
    "# perform regression model\n",
    "accuracy_s, logloss_s, lrmodel_s = log_regression(trans_toy1, trans_toy2)\n",
    "print('Prediction accuracy: %0.3f' %accuracy_s)\n",
    "print('Log loss: %0.3f' %logloss_s)"
   ]
  },
  {
   "cell_type": "markdown",
   "metadata": {
    "colab_type": "text",
    "id": "DmoBh-zte5na"
   },
   "source": [
    "### (3) implement the full dataset"
   ]
  },
  {
   "cell_type": "markdown",
   "metadata": {
    "colab_type": "text",
    "id": "qmpMQUwIBl_J"
   },
   "source": [
    "After running the full dataset in Google cloud platform, the prediction accuracy is 0.746 and the log loss is 0.535. For details, please refer to `w261_final_project_final_GCP_full_dataset.pdf`"
   ]
  },
  {
   "cell_type": "code",
   "execution_count": null,
   "metadata": {
    "colab": {},
    "colab_type": "code",
    "id": "F4r6puvydUMA"
   },
   "outputs": [],
   "source": [
    "traindataRDD = sc.textFile('train.txt')"
   ]
  },
  {
   "cell_type": "code",
   "execution_count": null,
   "metadata": {
    "colab": {},
    "colab_type": "code",
    "id": "jgKcNjUAhpHH"
   },
   "outputs": [],
   "source": [
    "trainData = create_dataframe(traindataRDD)\n",
    "trainData.show(5)"
   ]
  },
  {
   "cell_type": "code",
   "execution_count": null,
   "metadata": {
    "colab": {},
    "colab_type": "code",
    "id": "MGHJzsU-iNuu"
   },
   "outputs": [],
   "source": [
    "transform_train = data_transform(trainData)\n",
    "transform_train.show(5)"
   ]
  },
  {
   "cell_type": "code",
   "execution_count": null,
   "metadata": {
    "colab": {},
    "colab_type": "code",
    "id": "r5d2r5NWo2QJ"
   },
   "outputs": [],
   "source": [
    "trainDF, devDF = transform_train.randomSplit([0.8,0.2], seed = 5)"
   ]
  },
  {
   "cell_type": "code",
   "execution_count": null,
   "metadata": {
    "colab": {},
    "colab_type": "code",
    "id": "kbwnxjFii8pU"
   },
   "outputs": [],
   "source": [
    "accuracy, logloss, lrmodel = log_regression(trainDF , devDF)\n",
    "print('Prediction accuracy: %0.3f' %accuracy)\n",
    "print('Log loss: %0.3f' %logloss)"
   ]
  },
  {
   "cell_type": "markdown",
   "metadata": {
    "colab_type": "text",
    "id": "S5YyWBdc4qFD"
   },
   "source": [
    "# **5. Application of Course Concepts**\n",
    "\n",
    "- **Scalability and meomory issue**\n",
    "  - As the data scales up to full dataset, we ran into out-of-memory issue multiple times at the stage of one hot encoding, as well as training our logistic regression model. We did not run into such issue when running on our toy dataset, which triggered us to think on reducing our feature dimensions.  \n",
    "  - There are multiple options in preventing feature dimensions from becoming overwhelming large. Our approach is to remove certain variables that are deemed less determinant from modeling, and run PCA. We successfully run through the full dataset, with prediction accuracy of 0.746, and log loss of 0.535.\n",
    "  - Other plausible approachs which we do not have time to implement in this project would be \n",
    "    - to control the maximum number of categories each variable could have, \n",
    "    - utilize clustering algorithms to group columns together\n",
    "    - run Random Forest to rank feature importance, and select top features for our modeling. \n",
    "    - find the time pattern for feature engineering.\n",
    "\n",
    "- **One hot encoding**\n",
    "  - The categorical variables are hashed into 32 bits. We do not know the exact meaning of each category. In this case, we decided to use one hot encoding instead of integer encoding. \n",
    "  - One hot encoding is implemented by using `OneHotEncoderModel` from `pyspark.ml.feature`.  \n",
    "  - However, as we run `OneHotEncoderModel` on our full dataset, we ran into OOM issue. This is anticipated as our full dataset has approximately 45 million records. The categorical variables could contain variables such as unique IDs, which would be expanded to substantial amount of columns by one hot encoder if without proper control. \n",
    "\n",
    "- **Functional programming**: We made use of functional programming wherever we could\n",
    "  - To make the analysis easier and consistent.\n",
    "  - To make our notebook modularized \n",
    "  \n",
    "- **Normalization**\n",
    "  - As demonstrated in Section 2, the scale of the numeric columns are at different magnitude, ranging from 5 to even 1,000,000. As such, we applied normalization with mean zero and unit variance to all numeric fields. \n",
    "  - In addition, we also applied standardization on one hot encoded categorical variables by using `StandardScaler` from `pyspark.ml.feature`.  "
   ]
  },
  {
   "cell_type": "markdown",
   "metadata": {
    "colab_type": "text",
    "id": "vbT2M0EW6DXK"
   },
   "source": [
    "# **6. References**\n",
    "\n",
    "(1) https://support.google.com/google-ads/answer/2615875?hl=en\n",
    "\n",
    "(2) http://labs.criteo.com/2014/02/kaggle-display-advertising-challenge-dataset/\n",
    "\n",
    "(3) https://en.wikipedia.org/wiki/Logistic_regression\n",
    "\n",
    "(4) https://medium.com/greyatom/logistic-regression-89e496433063\n",
    "\n",
    "(5) https://ml-cheatsheet.readthedocs.io/en/latest/logistic_regression.html\n",
    "\n",
    "(6) https://towardsdatascience.com/gradient-descent-demystified-bc30b26e432a\n",
    "\n",
    "\n",
    "\n",
    "\n",
    "\n"
   ]
  },
  {
   "cell_type": "code",
   "execution_count": null,
   "metadata": {
    "colab": {},
    "colab_type": "code",
    "id": "F4DWBbLm6MX8"
   },
   "outputs": [],
   "source": []
  }
 ],
 "metadata": {
  "accelerator": "TPU",
  "colab": {
   "collapsed_sections": [],
   "machine_shape": "hm",
   "name": "W261_F19_FINAL_PROJECT_TEAM10",
   "provenance": [],
   "toc_visible": true
  },
  "kernelspec": {
   "display_name": "Python 3",
   "language": "python",
   "name": "python3"
  },
  "language_info": {
   "codemirror_mode": {
    "name": "ipython",
    "version": 3
   },
   "file_extension": ".py",
   "mimetype": "text/x-python",
   "name": "python",
   "nbconvert_exporter": "python",
   "pygments_lexer": "ipython3",
   "version": "3.6.6"
  }
 },
 "nbformat": 4,
 "nbformat_minor": 2
}
